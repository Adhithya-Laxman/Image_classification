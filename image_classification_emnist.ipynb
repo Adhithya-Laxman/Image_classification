{
  "cells": [
    {
      "cell_type": "markdown",
      "metadata": {
        "id": "view-in-github",
        "colab_type": "text"
      },
      "source": [
        "<a href=\"https://colab.research.google.com/github/Adhithya-Laxman/Image_classification/blob/main/image_classification_emnist.ipynb\" target=\"_parent\"><img src=\"https://colab.research.google.com/assets/colab-badge.svg\" alt=\"Open In Colab\"/></a>"
      ]
    },
    {
      "cell_type": "code",
      "execution_count": 1,
      "metadata": {
        "colab": {
          "base_uri": "https://localhost:8080/"
        },
        "id": "OjIYpF1VWPwm",
        "outputId": "661b6a8e-8ab0-437f-9d58-d54f6dd1715b"
      },
      "outputs": [
        {
          "output_type": "stream",
          "name": "stdout",
          "text": [
            "Collecting wandb\n",
            "  Downloading wandb-0.16.0-py3-none-any.whl (2.1 MB)\n",
            "\u001b[2K     \u001b[90m━━━━━━━━━━━━━━━━━━━━━━━━━━━━━━━━━━━━━━━━\u001b[0m \u001b[32m2.1/2.1 MB\u001b[0m \u001b[31m8.9 MB/s\u001b[0m eta \u001b[36m0:00:00\u001b[0m\n",
            "\u001b[?25hRequirement already satisfied: Click!=8.0.0,>=7.1 in /usr/local/lib/python3.10/dist-packages (from wandb) (8.1.7)\n",
            "Collecting GitPython!=3.1.29,>=1.0.0 (from wandb)\n",
            "  Downloading GitPython-3.1.40-py3-none-any.whl (190 kB)\n",
            "\u001b[2K     \u001b[90m━━━━━━━━━━━━━━━━━━━━━━━━━━━━━━━━━━━━━━━━\u001b[0m \u001b[32m190.6/190.6 kB\u001b[0m \u001b[31m13.8 MB/s\u001b[0m eta \u001b[36m0:00:00\u001b[0m\n",
            "\u001b[?25hRequirement already satisfied: requests<3,>=2.0.0 in /usr/local/lib/python3.10/dist-packages (from wandb) (2.31.0)\n",
            "Requirement already satisfied: psutil>=5.0.0 in /usr/local/lib/python3.10/dist-packages (from wandb) (5.9.5)\n",
            "Collecting sentry-sdk>=1.0.0 (from wandb)\n",
            "  Downloading sentry_sdk-1.35.0-py2.py3-none-any.whl (248 kB)\n",
            "\u001b[2K     \u001b[90m━━━━━━━━━━━━━━━━━━━━━━━━━━━━━━━━━━━━━━━━\u001b[0m \u001b[32m248.6/248.6 kB\u001b[0m \u001b[31m13.5 MB/s\u001b[0m eta \u001b[36m0:00:00\u001b[0m\n",
            "\u001b[?25hCollecting docker-pycreds>=0.4.0 (from wandb)\n",
            "  Downloading docker_pycreds-0.4.0-py2.py3-none-any.whl (9.0 kB)\n",
            "Requirement already satisfied: PyYAML in /usr/local/lib/python3.10/dist-packages (from wandb) (6.0.1)\n",
            "Collecting setproctitle (from wandb)\n",
            "  Downloading setproctitle-1.3.3-cp310-cp310-manylinux_2_5_x86_64.manylinux1_x86_64.manylinux_2_17_x86_64.manylinux2014_x86_64.whl (30 kB)\n",
            "Requirement already satisfied: setuptools in /usr/local/lib/python3.10/dist-packages (from wandb) (67.7.2)\n",
            "Requirement already satisfied: appdirs>=1.4.3 in /usr/local/lib/python3.10/dist-packages (from wandb) (1.4.4)\n",
            "Requirement already satisfied: protobuf!=4.21.0,<5,>=3.19.0 in /usr/local/lib/python3.10/dist-packages (from wandb) (3.20.3)\n",
            "Requirement already satisfied: six>=1.4.0 in /usr/local/lib/python3.10/dist-packages (from docker-pycreds>=0.4.0->wandb) (1.16.0)\n",
            "Collecting gitdb<5,>=4.0.1 (from GitPython!=3.1.29,>=1.0.0->wandb)\n",
            "  Downloading gitdb-4.0.11-py3-none-any.whl (62 kB)\n",
            "\u001b[2K     \u001b[90m━━━━━━━━━━━━━━━━━━━━━━━━━━━━━━━━━━━━━━━━\u001b[0m \u001b[32m62.7/62.7 kB\u001b[0m \u001b[31m6.6 MB/s\u001b[0m eta \u001b[36m0:00:00\u001b[0m\n",
            "\u001b[?25hRequirement already satisfied: charset-normalizer<4,>=2 in /usr/local/lib/python3.10/dist-packages (from requests<3,>=2.0.0->wandb) (3.3.2)\n",
            "Requirement already satisfied: idna<4,>=2.5 in /usr/local/lib/python3.10/dist-packages (from requests<3,>=2.0.0->wandb) (3.4)\n",
            "Requirement already satisfied: urllib3<3,>=1.21.1 in /usr/local/lib/python3.10/dist-packages (from requests<3,>=2.0.0->wandb) (2.0.7)\n",
            "Requirement already satisfied: certifi>=2017.4.17 in /usr/local/lib/python3.10/dist-packages (from requests<3,>=2.0.0->wandb) (2023.7.22)\n",
            "Collecting smmap<6,>=3.0.1 (from gitdb<5,>=4.0.1->GitPython!=3.1.29,>=1.0.0->wandb)\n",
            "  Downloading smmap-5.0.1-py3-none-any.whl (24 kB)\n",
            "Installing collected packages: smmap, setproctitle, sentry-sdk, docker-pycreds, gitdb, GitPython, wandb\n",
            "Successfully installed GitPython-3.1.40 docker-pycreds-0.4.0 gitdb-4.0.11 sentry-sdk-1.35.0 setproctitle-1.3.3 smmap-5.0.1 wandb-0.16.0\n"
          ]
        }
      ],
      "source": [
        "!pip install wandb"
      ]
    },
    {
      "cell_type": "code",
      "execution_count": 2,
      "metadata": {
        "colab": {
          "base_uri": "https://localhost:8080/"
        },
        "id": "VhdEQK-NcrkL",
        "outputId": "ae196c8c-c1bd-4f9f-c884-ffd4caa627e1"
      },
      "outputs": [
        {
          "output_type": "stream",
          "name": "stdout",
          "text": [
            "Collecting emnist\n",
            "  Downloading emnist-0.0-py3-none-any.whl (7.3 kB)\n",
            "Requirement already satisfied: numpy in /usr/local/lib/python3.10/dist-packages (from emnist) (1.23.5)\n",
            "Requirement already satisfied: requests in /usr/local/lib/python3.10/dist-packages (from emnist) (2.31.0)\n",
            "Requirement already satisfied: tqdm in /usr/local/lib/python3.10/dist-packages (from emnist) (4.66.1)\n",
            "Requirement already satisfied: charset-normalizer<4,>=2 in /usr/local/lib/python3.10/dist-packages (from requests->emnist) (3.3.2)\n",
            "Requirement already satisfied: idna<4,>=2.5 in /usr/local/lib/python3.10/dist-packages (from requests->emnist) (3.4)\n",
            "Requirement already satisfied: urllib3<3,>=1.21.1 in /usr/local/lib/python3.10/dist-packages (from requests->emnist) (2.0.7)\n",
            "Requirement already satisfied: certifi>=2017.4.17 in /usr/local/lib/python3.10/dist-packages (from requests->emnist) (2023.7.22)\n",
            "Installing collected packages: emnist\n",
            "Successfully installed emnist-0.0\n"
          ]
        }
      ],
      "source": [
        "!pip install emnist\n",
        "import joblib\n",
        "from google.colab import files\n"
      ]
    },
    {
      "cell_type": "code",
      "execution_count": 3,
      "metadata": {
        "id": "gYa6RUHlWV1Z"
      },
      "outputs": [],
      "source": [
        "# Task 1 -- Loading the datasets and the packages\n",
        "import emnist\n",
        "from keras.datasets import mnist\n",
        "import numpy as np\n",
        "import pandas as pd\n",
        "import matplotlib.pyplot as plt\n",
        "import wandb\n",
        "import random"
      ]
    },
    {
      "cell_type": "code",
      "execution_count": 4,
      "metadata": {
        "id": "bt785SWEWXpm"
      },
      "outputs": [],
      "source": [
        "import os\n",
        "import json\n",
        "import requests\n",
        "import shutil"
      ]
    },
    {
      "cell_type": "code",
      "execution_count": null,
      "metadata": {
        "id": "SNglF0zRdPzc"
      },
      "outputs": [],
      "source": []
    },
    {
      "cell_type": "code",
      "execution_count": 5,
      "metadata": {
        "colab": {
          "base_uri": "https://localhost:8080/"
        },
        "id": "uGhAh2gGcLB0",
        "outputId": "5d0accf9-165b-4460-c702-436808b70210"
      },
      "outputs": [
        {
          "output_type": "stream",
          "name": "stderr",
          "text": [
            "Downloading emnist.zip: 536MB [00:07, 73.3MB/s]\n"
          ]
        },
        {
          "output_type": "stream",
          "name": "stdout",
          "text": [
            "Number of images in the training set = 118800\n",
            "Number of images in the validation set = 6000\n",
            "Number of images in the test set = 20800\n",
            "Number of classes = 62\n",
            "Number of features per example = 784\n",
            "(784, 118800)\n",
            "(62, 118800)\n",
            "(784, 20800)\n",
            "(62, 20800)\n"
          ]
        }
      ],
      "source": [
        "from emnist import extract_training_samples, extract_test_samples\n",
        "import numpy as np\n",
        "from sklearn.model_selection import train_test_split\n",
        "\n",
        "def preprocess_emnist():\n",
        "    # Load the EMNIST dataset\n",
        "    (X_train, y_train) = extract_training_samples('letters')\n",
        "    (X_test, y_test) = extract_test_samples('letters')\n",
        "\n",
        "    # Flatten and normalize the input data\n",
        "    X_train = X_train.reshape(-1, 28*28)  # Flatten each image to a 1D vector\n",
        "    X_test = X_test.reshape(-1, 28*28)\n",
        "    X_train = X_train.astype('float32') / 255.0  # Normalize pixel values to [0, 1]\n",
        "    X_test = X_test.astype('float32') / 255.0\n",
        "\n",
        "    # One-hot encode the labels\n",
        "    num_classes = 62  # EMNIST has 62 classes (26 uppercase letters + 26 lowercase letters + 10 digits)\n",
        "    y_train = np.eye(num_classes)[y_train]  # One-hot encode the training labels\n",
        "    y_test = np.eye(num_classes)[y_test]    # One-hot encode the test labels\n",
        "\n",
        "    # Split the data into training, validation, and test sets\n",
        "    X_train, X_val, y_train, y_val = train_test_split(X_train, y_train, test_size=6000, random_state=42)\n",
        "\n",
        "    # Transpose the data to match the (features, batch_size) format expected by the function\n",
        "    X_train = X_train.T\n",
        "    X_val = X_val.T\n",
        "    X_test = X_test.T\n",
        "\n",
        "    y_train = y_train.T\n",
        "    y_val = y_val.T\n",
        "    y_test = y_test.T\n",
        "\n",
        "    # Print the number of images in X and y for training, validation, and testing datasets\n",
        "    print(\"Number of images in the training set =\", X_train.shape[1])\n",
        "    print(\"Number of images in the validation set =\", X_val.shape[1])\n",
        "    print(\"Number of images in the test set =\", X_test.shape[1])\n",
        "    print(\"Number of classes =\", num_classes)\n",
        "    print(\"Number of features per example =\", X_train.shape[0])\n",
        "\n",
        "    return X_train, y_train, X_val, y_val, X_test, y_test\n",
        "\n",
        "# Preprocess the EMNIST dataset\n",
        "X_train, Y_train, X_val, Y_val, X_test, Y_test = preprocess_emnist()\n",
        "print(X_train.shape)\n",
        "print(Y_train.shape)\n",
        "print(X_test.shape)\n",
        "print(Y_test.shape)\n"
      ]
    },
    {
      "cell_type": "code",
      "execution_count": 6,
      "metadata": {
        "colab": {
          "base_uri": "https://localhost:8080/"
        },
        "id": "RWIbOAzwgrg9",
        "outputId": "1b3eb3c2-2ef1-4a06-bf9a-6231f29b5b6b"
      },
      "outputs": [
        {
          "output_type": "execute_result",
          "data": {
            "text/plain": [
              "(124800, 28, 28)"
            ]
          },
          "metadata": {},
          "execution_count": 6
        }
      ],
      "source": [
        "#Install EMIST library, import datasets of letters, Matplotlib\n",
        "from emnist import list_datasets\n",
        "import matplotlib as mpl\n",
        "import matplotlib.pyplot as plt\n",
        "%matplotlib inline\n",
        "\n",
        "#Download dataset and it is 536 MB\n",
        "list_datasets()\n",
        "\n",
        "#Download images of letters from training samples or test samples\n",
        "#from emnist import extract_test_samples\n",
        "from emnist import extract_training_samples\n",
        "images, labels = extract_training_samples('letters')\n",
        "images.shape\n"
      ]
    },
    {
      "cell_type": "markdown",
      "source": [
        "##Front End -- Anvil App\n"
      ],
      "metadata": {
        "id": "zp0-Cm4DC5Hc"
      }
    },
    {
      "cell_type": "code",
      "execution_count": 7,
      "metadata": {
        "colab": {
          "base_uri": "https://localhost:8080/",
          "height": 426
        },
        "id": "iCttPZZ_d4gE",
        "outputId": "b748b9c8-e3c8-4706-876b-3661d4f2b685"
      },
      "outputs": [
        {
          "output_type": "stream",
          "name": "stdout",
          "text": [
            "Collecting anvil-uplink\n",
            "  Downloading anvil_uplink-0.4.2-py2.py3-none-any.whl (90 kB)\n",
            "\u001b[2K     \u001b[90m━━━━━━━━━━━━━━━━━━━━━━━━━━━━━━━━━━━━━━━━\u001b[0m \u001b[32m90.1/90.1 kB\u001b[0m \u001b[31m697.1 kB/s\u001b[0m eta \u001b[36m0:00:00\u001b[0m\n",
            "\u001b[?25hCollecting argparse (from anvil-uplink)\n",
            "  Downloading argparse-1.4.0-py2.py3-none-any.whl (23 kB)\n",
            "Requirement already satisfied: future in /usr/local/lib/python3.10/dist-packages (from anvil-uplink) (0.18.3)\n",
            "Requirement already satisfied: six in /usr/local/lib/python3.10/dist-packages (from anvil-uplink) (1.16.0)\n",
            "Collecting ws4py (from anvil-uplink)\n",
            "  Downloading ws4py-0.5.1.tar.gz (51 kB)\n",
            "\u001b[2K     \u001b[90m━━━━━━━━━━━━━━━━━━━━━━━━━━━━━━━━━━━━━━━━\u001b[0m \u001b[32m51.4/51.4 kB\u001b[0m \u001b[31m3.4 MB/s\u001b[0m eta \u001b[36m0:00:00\u001b[0m\n",
            "\u001b[?25h  Preparing metadata (setup.py) ... \u001b[?25l\u001b[?25hdone\n",
            "Building wheels for collected packages: ws4py\n",
            "  Building wheel for ws4py (setup.py) ... \u001b[?25l\u001b[?25hdone\n",
            "  Created wheel for ws4py: filename=ws4py-0.5.1-py3-none-any.whl size=45227 sha256=95541e59492f399b4661b969f12d162e7e8a5fcf43ce3a4ee981ef7d962527b5\n",
            "  Stored in directory: /root/.cache/pip/wheels/2e/7c/ad/d9c746276bf024d44296340869fcb169f1e5d80fb147351a57\n",
            "Successfully built ws4py\n",
            "Installing collected packages: ws4py, argparse, anvil-uplink\n",
            "Successfully installed anvil-uplink-0.4.2 argparse-1.4.0 ws4py-0.5.1\n"
          ]
        },
        {
          "output_type": "display_data",
          "data": {
            "application/vnd.colab-display-data+json": {
              "pip_warning": {
                "packages": [
                  "argparse",
                  "google"
                ]
              }
            }
          },
          "metadata": {}
        }
      ],
      "source": [
        "!pip install anvil-uplink"
      ]
    },
    {
      "cell_type": "code",
      "source": [
        "import anvil.server\n",
        "\n",
        "anvil.server.connect(\"server_LLD3GDKAAKN64WUQ6JUUVPC7-ZEXQT5UT7LKEFEGS\")"
      ],
      "metadata": {
        "colab": {
          "base_uri": "https://localhost:8080/"
        },
        "id": "d0uWjlkSC_Wh",
        "outputId": "8730b6e1-28bf-49d0-a527-c9ad3236d34c"
      },
      "execution_count": 8,
      "outputs": [
        {
          "output_type": "stream",
          "name": "stdout",
          "text": [
            "Connecting to wss://anvil.works/uplink\n",
            "Anvil websocket open\n",
            "Connected to \"Default Environment\" as SERVER\n"
          ]
        }
      ]
    },
    {
      "cell_type": "markdown",
      "metadata": {
        "id": "mw4dLFRfbOeh"
      },
      "source": []
    },
    {
      "cell_type": "code",
      "execution_count": 9,
      "metadata": {
        "id": "Tln46yHvyxCj"
      },
      "outputs": [],
      "source": [
        "def sigmoid(x):\n",
        "    return 1. / (1.+np.exp(-x))\n",
        "\n",
        "def sigmoid_derivative(x):\n",
        "    return sigmoid(x) * (1-sigmoid(x))\n",
        "\n",
        "def softmax_derivative(x):\n",
        "    return softmax(x) * (1-softmax(x))\n",
        "\n",
        "def tanh(x):\n",
        "    return np.tanh(x)\n",
        "\n",
        "def relu(x):\n",
        "    return np.maximum(x, 0)\n",
        "\n",
        "def softmax(x):\n",
        "    expX = np.exp(x)\n",
        "    return expX/np.sum(expX, axis = 0)\n",
        "def derivative_tanh(x):\n",
        "    return (1 - np.power(np.tanh(x), 2))\n",
        "\n",
        "def derivative_relu(x):\n",
        "    return np.array(x>0, dtype = np.float32)"
      ]
    },
    {
      "cell_type": "code",
      "execution_count": 10,
      "metadata": {
        "id": "P3pLmrcAzjbE"
      },
      "outputs": [],
      "source": [
        "# layer_dims = [X.shape[1],100,200,Y.shape[0]]\n",
        "def initialize_parameters(layer_dims,init_mode):\n",
        "    L = len(layer_dims)\n",
        "    parameters = {}\n",
        "    prev_updates = {}\n",
        "\n",
        "    for l in range(1,L):\n",
        "#         print(L)\n",
        "        if init_mode == 'xavier':\n",
        "              parameters[f\"W{l}\"]= np.random.randn(layer_dims[l],layer_dims[l-1])*np.sqrt(2/(layer_dims[l]+layer_dims[l-1]))\n",
        "        else:\n",
        "              parameters[f\"W{l}\"] = np.random.randn(layer_dims[l], layer_dims[l-1])*0.01  #the div is to prevent the vanishing gradient prob if the weights initialized at the beginning is too big\n",
        "        parameters[f\"b{l}\"] = np.zeros((layer_dims[l], 1))\n",
        "        prev_updates[f\"W{l}\"] = np.zeros((layer_dims[l], layer_dims[l-1]))\n",
        "        prev_updates[f\"b{l}\"] = np.zeros((layer_dims[l], 1))\n",
        "\n",
        "    return parameters,prev_updates"
      ]
    },
    {
      "cell_type": "code",
      "source": [],
      "metadata": {
        "id": "JTWQCJellO3g"
      },
      "execution_count": null,
      "outputs": []
    },
    {
      "cell_type": "code",
      "execution_count": 13,
      "metadata": {
        "colab": {
          "base_uri": "https://localhost:8080/"
        },
        "id": "6RPZuarBzlOd",
        "outputId": "5cc1d84e-72c4-42d3-d0d1-734632df6f08"
      },
      "outputs": [
        {
          "output_type": "stream",
          "name": "stdout",
          "text": [
            "[784, 100, 200, 62]\n",
            "Shape of W1: (100, 784)\n",
            "Shape of B1: (100, 1) \n",
            "\n",
            "Shape of W2: (200, 100)\n",
            "Shape of B2: (200, 1) \n",
            "\n",
            "Shape of W3: (62, 200)\n",
            "Shape of B3: (62, 1) \n",
            "\n"
          ]
        }
      ],
      "source": [
        "layer_dims = [X_train.shape[0], 100, 200, Y_train.shape[0]]\n",
        "print(layer_dims)\n",
        "params, prev_u = initialize_parameters(layer_dims,'xavier')\n",
        "\n",
        "for l in range(1, len(layer_dims)):\n",
        "    print(\"Shape of W\" + str(l) + \":\", params['W' + str(l)].shape)\n",
        "    print(\"Shape of B\" + str(l) + \":\", params['b' + str(l)].shape, \"\\n\")"
      ]
    },
    {
      "cell_type": "code",
      "execution_count": 14,
      "metadata": {
        "id": "PRjQ_3chzm1x"
      },
      "outputs": [],
      "source": [
        "def forward_prop(X, parameters, activation = 'relu'):\n",
        "    forward_cache = {}\n",
        "    L = len(parameters)//2\n",
        "    forward_cache[\"A0\"] = X\n",
        "    for l in range(1, L):\n",
        "        forward_cache[f\"Z{l}\"] = parameters[f\"W{l}\"].dot(forward_cache[f\"A{l-1}\"]) + parameters[f\"b{l}\"]\n",
        "        if activation == 'relu':\n",
        "            forward_cache[f\"A{l}\"] = relu(forward_cache[f\"Z{l}\"])\n",
        "        else:\n",
        "            forward_cache[f\"A{l}\"] = tanh(forward_cache[f\"Z{l}\"])\n",
        "\n",
        "\n",
        "    forward_cache[f\"Z{L}\"] = parameters[f\"W{L}\"].dot(forward_cache[f\"A{L-1}\"]) + parameters[f\"b{L}\"]\n",
        "    if forward_cache[f\"Z{L}\"].shape[0] == 1:\n",
        "        forward_cache[f\"A{L}\"] = sigmoid(forward_cache[f\"Z{L}\"])\n",
        "    else:\n",
        "        forward_cache[f\"A{L}\"] = softmax(forward_cache[f\"Z{L}\"])\n",
        "\n",
        "    return forward_cache[f\"A{L}\"], forward_cache\n",
        "\n",
        "\n"
      ]
    },
    {
      "cell_type": "code",
      "execution_count": 15,
      "metadata": {
        "colab": {
          "base_uri": "https://localhost:8080/"
        },
        "id": "t1dGK-Lezpal",
        "outputId": "53564f9b-f701-44ac-975c-e8e4a3c7e8d2"
      },
      "outputs": [
        {
          "output_type": "stream",
          "name": "stdout",
          "text": [
            "Shape of A0 : (784, 118800)\n",
            "Shape of A1 : (100, 118800)\n",
            "Shape of A2 : (200, 118800)\n",
            "Shape of A3 : (62, 118800)\n"
          ]
        }
      ],
      "source": [
        "aL, forw_cache = forward_prop(X_train, params, 'relu')\n",
        "\n",
        "for l in range(len(params)//2 + 1):\n",
        "    print(\"Shape of A\" + str(l) + \" :\", forw_cache['A' + str(l)].shape)"
      ]
    },
    {
      "cell_type": "code",
      "execution_count": 16,
      "metadata": {
        "id": "eZ1STZxEzrQ7"
      },
      "outputs": [],
      "source": [
        "def compute_cost(AL, Y, parameters, lambd):\n",
        "    m = Y.shape[1]\n",
        "    L = len(parameters)//2\n",
        "    if Y.shape[0] == 1:\n",
        "        cost = -(1/m) * np.sum(Y*np.log(AL) + (1-Y)*np.log(1 - AL))\n",
        "    else:\n",
        "        cost = -(1/m) * np.sum(Y * np.log(AL))\n",
        "        # reg_sum = 0\n",
        "        # for l in range(1, L):\n",
        "        #   reg_sum+=np.sum(np.square(parameters[f\"W{l}\"]))\n",
        "        # L2_reg_cost = (lambd/(2*m)) * (reg_sum)\n",
        "        # cost+=L2_reg_cost\n",
        "    cost = np.squeeze(cost)\n",
        "\n",
        "    return cost"
      ]
    },
    {
      "cell_type": "code",
      "execution_count": 17,
      "metadata": {
        "id": "X7gZOg91ztaD"
      },
      "outputs": [],
      "source": [
        "def backward_propagation(AL , Y, parameters,forward_cache, activation, lambd = 0.7, batch_size = 512):\n",
        "    grads = {}\n",
        "    L = len(parameters)//2\n",
        "    m = AL.shape[1]\n",
        "\n",
        "    grads[f\"dZ{L}\"] = AL - Y\n",
        "    grads[f\"dW{L}\"] = (1/m)*np.dot(grads[f\"dZ{L}\"], forward_cache[f\"A{L-1}\"].T) + (lambd*parameters[f\"W{L}\"])/m\n",
        "    grads[f\"db{L}\"] = (1/m)*np.sum(grads[f\"dZ{L}\"], axis =1, keepdims  = True)\n",
        "\n",
        "    for l in range(L-1, 0 , -1):\n",
        "        if activation == 'relu':\n",
        "            grads[f\"dZ{l}\"] = np.dot(parameters[f\"W{l+1}\"].T,grads[f\"dZ{l+1}\"]) * derivative_relu(forward_cache[f'A{l}'])\n",
        "        else:\n",
        "            grads[f\"dZ{l}\"] = np.dot(parameters[f\"W{l+1}\"].T,grads[f\"dZ{l+1}\"]) * derivative_tanh(forward_cache[f'A{l}'])\n",
        "\n",
        "        grads[f\"dW{l}\"] = (1/batch_size)*np.dot(grads[f\"dZ{l}\"], forward_cache[f\"A{l-1}\"].T) + (lambd*parameters[f\"W{l}\"])/m\n",
        "        grads[f\"db{l}\"] = (1/batch_size)*np.sum(grads[f\"dZ{l}\"], axis =1, keepdims  = True)\n",
        "\n",
        "    return grads\n"
      ]
    },
    {
      "cell_type": "code",
      "execution_count": 18,
      "metadata": {
        "colab": {
          "base_uri": "https://localhost:8080/"
        },
        "id": "K0mG7-BJzvLs",
        "outputId": "97766458-324a-47d9-ba69-2e2ce6609d45"
      },
      "outputs": [
        {
          "output_type": "stream",
          "name": "stdout",
          "text": [
            "Shape of dZ1 : (100, 118800)\n",
            "Shape of dW1 : (100, 784)\n",
            "Shape of dB1 : (100, 1) \n",
            "\n",
            "Shape of dZ2 : (200, 118800)\n",
            "Shape of dW2 : (200, 100)\n",
            "Shape of dB2 : (200, 1) \n",
            "\n",
            "Shape of dZ3 : (62, 118800)\n",
            "Shape of dW3 : (62, 200)\n",
            "Shape of dB3 : (62, 1) \n",
            "\n"
          ]
        }
      ],
      "source": [
        "grads = backward_propagation(forw_cache[\"A\" + str(3)], Y_train, params, forw_cache, 'relu', 0.7)\n",
        "\n",
        "for l in (range(1, len(grads)//3 + 1)):\n",
        "    print(\"Shape of dZ\" + str(l) + \" :\", grads['dZ' + str(l)].shape)\n",
        "    print(\"Shape of dW\" + str(l) + \" :\", grads['dW' + str(l)].shape)\n",
        "    print(\"Shape of dB\" + str(l) + \" :\", grads['db' + str(l)].shape, \"\\n\")\n"
      ]
    },
    {
      "cell_type": "code",
      "execution_count": null,
      "metadata": {
        "id": "iZBqB_QJzwoP"
      },
      "outputs": [],
      "source": [
        "index = random.randrange(0,X_train.shape[1])\n",
        "plt.imshow(X_train[:, index].reshape(96,96,3), cmap = 'gray')\n",
        "plt.show()\n",
        "# # Define the neural network architecture\n",
        "\n",
        "# # Input layer (784 features), 2 hidden layers (128 and 64 neurons), Output layer (10 classes)\n",
        "layer_sizes = [784, 128,32,64,10]\n",
        "# parameters, train_loss_history = train(X_train, y_train, layer_sizes, mode='xavier', activation='relu', loss_type='cross_entropy', num_epochs=5, learning_rate=0.1)\n",
        "\n",
        "# # Make predictions on the test set\n",
        "# y_pred = predict(X_test, parameters, layer_sizes,activation='relu')\n",
        "\n",
        "# # Calculate accuracy on the test set\n",
        "# accuracy = np.mean(np.argmax(y_pred, axis=0) == np.argmax(y_test, axis=1))\n",
        "# print(\"Test Accuracy:\", accuracy)\n",
        "\n"
      ]
    },
    {
      "cell_type": "code",
      "execution_count": 19,
      "metadata": {
        "id": "EUJm_vyjzyX1"
      },
      "outputs": [],
      "source": [
        "def update_parameters(parameters, grads, learning_rate):\n",
        "\n",
        "    L = len(parameters) // 2\n",
        "    for l in range(1, L):\n",
        "        parameters[f\"W{l}\"] = parameters[f\"W{l}\"] - learning_rate*grads[f'dW{l}']\n",
        "        parameters[f\"b{l}\"] = parameters[f\"b{l}\"] - learning_rate*grads[f'db{l}']\n",
        "    return parameters"
      ]
    },
    {
      "cell_type": "code",
      "execution_count": 20,
      "metadata": {
        "id": "VZYiEWGd0kqC"
      },
      "outputs": [],
      "source": [
        "def grad_desc(X, Y, layer_dims, learning_rate, activation = 'relu', n_epoch = 100, lambd = 0.7):\n",
        "\n",
        "    parameters, prev_updates = initialize_parameters(layer_dims, 'xavier')\n",
        "\n",
        "    for i in range(n_epoch):\n",
        "\n",
        "        AL , forward_cache  = forward_prop(X, parameters, activation)\n",
        "\n",
        "        cost = compute_cost(AL, Y, parameters, lambd)\n",
        "\n",
        "        grads = backward_propagation(AL , Y, parameters,forward_cache, activation)\n",
        "\n",
        "        parameters = update_parameters(parameters, grads, learning_rate)\n",
        "\n",
        "        if i % (n_epoch/10) == 0:\n",
        "            print(\"\\niter:{} \\t cost: {} \\t train_acc:{} \\t test_acc:{}\".format(i, np.round(cost, 2), predict(X_train, Y_train, parameters, activation), predict(X_test, Y_test, parameters, activation)))\n",
        "        if i % 10 == 0:\n",
        "            print(\"==\", end = '')\n",
        "\n",
        "    return parameters"
      ]
    },
    {
      "cell_type": "code",
      "execution_count": 21,
      "metadata": {
        "id": "xUzLDXw40mVU"
      },
      "outputs": [],
      "source": [
        "def predict(X, y, parameters, activation):\n",
        "\n",
        "    m = X.shape[1]\n",
        "    y_pred, caches = forward_prop(X, parameters, activation)\n",
        "\n",
        "    if y.shape[0] == 1:\n",
        "        y_pred = np.array(y_pred > 0.5, dtype = 'float')\n",
        "    else:\n",
        "        y = np.argmax(y, 0)\n",
        "        y_pred = np.argmax(y_pred, 0)\n",
        "        # print(y, y_pred)\n",
        "        # print(y.shape, y_pred.shape)\n",
        "\n",
        "    return np.round(np.sum((y_pred == y)/m), 2)*100"
      ]
    },
    {
      "cell_type": "code",
      "execution_count": null,
      "metadata": {
        "id": "J4hzlPgn0n8c"
      },
      "outputs": [],
      "source": [
        "layer_dims = [X_train.shape[0], 20,10, Y_train.shape[0]]\n",
        "lr = 0.005\n",
        "n_epoch = 1000\n",
        "activation = 'tanh'\n",
        "init_mode = 'xavier'\n",
        "\n",
        "parameters = grad_desc(X_train, Y_train, layer_dims, lr, activation = activation, n_epoch = n_epoch, lambd = 0.7)"
      ]
    },
    {
      "cell_type": "code",
      "execution_count": 22,
      "metadata": {
        "id": "eY5O36ws0rQL"
      },
      "outputs": [],
      "source": [
        "def update_params_momentum(parameters, grads, learning_rate, prev_updates):\n",
        "    L = len(parameters) // 2\n",
        "    beta = 0.9\n",
        "    for l in range(1, L+1):\n",
        "        prev_updates[f\"W{l}\"] = beta*prev_updates[f\"W{l}\"] + (1-beta)*grads[f\"dW{l}\"]\n",
        "        parameters[f\"W{l}\"] = parameters[f\"W{l}\"] - learning_rate*prev_updates[f\"W{l}\"]\n",
        "\n",
        "        prev_updates[f\"b{l}\"] = beta*prev_updates[f\"b{l}\"] + (1-beta)*grads[f\"db{l}\"]\n",
        "        parameters[f\"b{l}\"] = parameters[f\"b{l}\"] - learning_rate*prev_updates[f\"b{l}\"]\n",
        "    return parameters, prev_updates\n",
        "def update_parameters_sgd(parameters, grads, learning_rate):\n",
        "    L = len(parameters) // 2\n",
        "    for l in range(1, L):\n",
        "        parameters[f\"W{l}\"] = parameters[f\"W{l}\"] - learning_rate*grads[f'dW{l}']\n",
        "        parameters[f\"b{l}\"] = parameters[f\"b{l}\"] - learning_rate*grads[f'db{l}']\n",
        "    return parameters\n",
        "\n",
        "def update_params_rmsprop(parameters, grads, learning_rate, prev_rms):\n",
        "    beta = 0.999\n",
        "    L = len(parameters) // 2\n",
        "    epsilon = 1e-6 #to prevent overshooting or 0 on the div\n",
        "    for l in range(1, L+1):\n",
        "        sdw = beta*prev_rms[f'W{l}'] + (1-beta)*np.multiply(grads[f\"dW{l}\"],grads[f\"dW{l}\"])\n",
        "        sdb = beta*prev_rms[f'b{l}'] + (1-beta)*np.multiply(grads[f\"db{l}\"],grads[f\"db{l}\"])\n",
        "\n",
        "        parameters[f\"W{l}\"] = parameters[f\"W{l}\"] - learning_rate*grads[f\"dW{l}\"]/(np.sqrt(sdw) + epsilon)\n",
        "        parameters[f\"b{l}\"] = parameters[f\"b{l}\"] - learning_rate*grads[f\"db{l}\"]/(np.sqrt(sdb) + epsilon)\n",
        "\n",
        "        prev_rms[f'W{l}'] = sdw\n",
        "        prev_rms[f'b{l}'] = sdb\n",
        "\n",
        "    return parameters, prev_rms\n",
        "\n",
        "def update_params_adam(parameters, grads, learning_rate, v, m, t):\n",
        "    L = len(parameters) // 2 # number of layers in the neural network\n",
        "    beta1 = 0.9 #default\n",
        "    beta2 = 0.999 #default\n",
        "    epsilon = 1e-8 #for numerical stability\n",
        "\n",
        "    for l in range(1, L+1):\n",
        "        mdw = beta1*m[\"W\"+str(l)] + (1-beta1)*grads[\"dW\"+str(l)]\n",
        "        vdw = beta2*v[\"W\"+str(l)] + (1-beta2)*np.square(grads[\"dW\"+str(l)])\n",
        "        mw_hat = mdw/(1.0 - beta1**t)\n",
        "        vw_hat = vdw/(1.0 - beta2**t)\n",
        "\n",
        "        parameters[\"W\"+str(l)] = parameters[\"W\"+str(l)] - (learning_rate * mw_hat)/np.sqrt(vw_hat + epsilon)\n",
        "\n",
        "        mdb = beta1*m[\"b\"+str(l)] + (1-beta1)*grads[\"db\"+str(l)]\n",
        "        vdb = beta2*v[\"b\"+str(l)] + (1-beta2)*np.square(grads[\"db\"+str(l)])\n",
        "        mb_hat = mdb/(1.0 - beta1**t)\n",
        "        vb_hat = vdb/(1.0 - beta2**t)\n",
        "\n",
        "        parameters[\"b\"+str(l)] = parameters[\"b\"+str(l)] - (learning_rate * mb_hat)/np.sqrt(vb_hat + epsilon)\n",
        "\n",
        "        v[\"dW\"+str(l)] = vdw\n",
        "        m[\"dW\"+str(l)] = mdw\n",
        "        v[\"db\"+str(l)] = vdb\n",
        "        m[\"db\"+str(l)] = mdb\n",
        "\n",
        "    t = t + 1 # timestep\n",
        "    return parameters, v, m, t\n"
      ]
    },
    {
      "cell_type": "code",
      "execution_count": 23,
      "metadata": {
        "id": "qClgTba50wjd"
      },
      "outputs": [],
      "source": [
        "def grad_desc_opt(X, Y, layer_dims, learning_rate, init_mode = 'xavier',activation = 'relu', n_epoch = 100, lambd = 0.7, opt = 'adam',beta= 0.9):\n",
        "\n",
        "    parameters, prev_updates = initialize_parameters(layer_dims, init_mode)\n",
        "    v = prev_updates.copy()\n",
        "    m = prev_updates.copy()\n",
        "    # prev_updates['W0']  =0\n",
        "    # prev_updates['b0'] = 0\n",
        "    t=1\n",
        "    for i in range(n_epoch):\n",
        "\n",
        "        AL , forward_cache  = forward_prop(X, parameters, activation)\n",
        "\n",
        "        cost = compute_cost(AL, Y, parameters, lambd)\n",
        "\n",
        "        grads = backward_propagation(AL , Y, parameters,forward_cache, activation)\n",
        "\n",
        "        parameters = update_parameters(parameters, grads, learning_rate)\n",
        "        if(opt=='momentum'):\n",
        "            parameters,prev_updates = update_params_momentum(parameters, grads, learning_rate,  prev_updates)\n",
        "        elif (opt == 'rmsprop'):\n",
        "            parameters,prev_updates = update_params_rmsprop(parameters, grads, learning_rate,  prev_updates)\n",
        "        elif opt == 'adam':\n",
        "            parameters, v, m , t= update_params_adam(parameters, grads, learning_rate, v, m, t)\n",
        "\n",
        "        if i % (n_epoch/10) == 0:\n",
        "            print(\"\\niter:{} \\t cost: {} \\t train_acc:{} \\t test_acc:{}\".format(i, np.round(cost, 2), predict(X_train, Y_train, parameters, activation), predict(X_test, Y_test, parameters, activation)))\n",
        "            # wandb.log(\"\\niter:{} \\t cost: {} \\t train_acc:{} \\t test_acc:{}\".format(i, np.round(cost, 2), predict(X_train, Y_train, parameters, activation), predict(X_test, Y_test, parameters, activation)))\n",
        "            wandb.log({\"Iteration\": i, \"Cost\": np.round(cost, 2), \"Train_Accuracy\": predict(X_train, Y_train, parameters, activation), \"Test_Accuracy\": predict(X_test, Y_test, parameters, activation)})\n",
        "\n",
        "\n",
        "        if i % 10 == 0:\n",
        "            print(\"==\", end = '')\n",
        "\n",
        "        # if i%800==0 and i!=0:\n",
        "        #     break\n",
        "    # wandb.log.compute_confusion_matrix\n",
        "    # wandb.log({\"conf_mat\" : wandb.plot.confusion_matrix(preds=Y_prob, y_true=y_test,class_names=class_labels),\"Test Accuracy\": predict(X_test, Y_test, parameters, activation) })\n",
        "\n",
        "\n",
        "    return parameters"
      ]
    },
    {
      "cell_type": "code",
      "source": [],
      "metadata": {
        "id": "0KF_i67qS9ym"
      },
      "execution_count": null,
      "outputs": []
    },
    {
      "cell_type": "code",
      "execution_count": 24,
      "metadata": {
        "id": "CgRKyo0c0x4M"
      },
      "outputs": [],
      "source": [
        "def grad_desc_opt_bs(X, Y, layer_dims, learning_rate, init_mode = 'xavier',activation = 'relu', n_epoch = 100, lambd = 0.7, opt = 'adam', batch_size = 512):\n",
        "\n",
        "    parameters, prev_updates = initialize_parameters(layer_dims, init_mode)\n",
        "    v = prev_updates.copy()\n",
        "    m = prev_updates.copy()\n",
        "    # prev_updates['W0']  =0\n",
        "    # prev_updates['b0'] = 0\n",
        "    t=1\n",
        "    step = 0\n",
        "    for l in range(n_epoch):\n",
        "        for i in range(0, X_train.shape[1], batch_size):\n",
        "            batch_count = batch_size\n",
        "\n",
        "            if i + batch_size > X_train.shape[1]: # the last mini-batch might contain fewer than \"batch_size\" examples\n",
        "                batch_count = X_train.shape[1] - i + 1\n",
        "\n",
        "            AL , forward_cache  = forward_prop(X, parameters, activation)\n",
        "\n",
        "            cost = compute_cost(AL, Y, parameters, lambd)\n",
        "\n",
        "            grads = backward_propagation(AL , Y, parameters,forward_cache, activation)\n",
        "\n",
        "            # parameters = update_parameters(parameters, grads, learning_rate)\n",
        "            if(opt=='momentum'):\n",
        "                parameters,prev_updates = update_params_momentum(parameters, grads, learning_rate,  prev_updates)\n",
        "            elif (opt == 'rmsprop'):\n",
        "                parameters,prev_updates = update_params_rmsprop(parameters, grads, learning_rate,  prev_updates)\n",
        "            elif opt == 'adam':\n",
        "                parameters, v, m , t= update_params_adam(parameters, grads, learning_rate, v, m, t)\n",
        "\n",
        "\n",
        "            step+=1\n",
        "            if step%10==0:\n",
        "                print(\"\\niter:{} \\t cost: {} \\t train_acc:{} \\t test_acc:{}\".format(l, np.round(cost, 2), predict(X_train, Y_train, parameters, activation), predict(X_test, Y_test, parameters, activation)))\n",
        "\n",
        "      # if l % (n_epoch/10) == 0:\n",
        "      #     print(\"\\niter:{} \\t cost: {} \\t train_acc:{} \\t test_acc:{}\".format(l, np.round(cost, 2), predict(X_train, Y_train, parameters, activation), predict(X_test, Y_test, parameters, activation)))\n",
        "      # if l % 10 == 0:\n",
        "      #     print(\"==\", end = '')\n",
        "\n",
        "    return parameters"
      ]
    },
    {
      "cell_type": "code",
      "execution_count": null,
      "metadata": {
        "id": "NMTysvGZ0zHu"
      },
      "outputs": [],
      "source": [
        "layer_dims = [X_train.shape[0], 20,10, Y_train.shape[0]]\n",
        "lr = 0.0075\n",
        "n_epoch = 1000\n",
        "activation = 'relu'\n",
        "init_mode = 'xavier'\n",
        "\n",
        "parameters = grad_desc_opt(X_train, Y_train, layer_dims, lr, init_mode = init_mode,activation = activation, n_epoch = n_epoch, lambd = 0.7, opt= 'momentum')\n"
      ]
    },
    {
      "cell_type": "code",
      "execution_count": null,
      "metadata": {
        "colab": {
          "background_save": true,
          "base_uri": "https://localhost:8080/"
        },
        "id": "AU0zM4sX01CG",
        "outputId": "a6cab393-6d5b-41b3-fe09-1b67bc1b3803"
      },
      "outputs": [
        {
          "name": "stdout",
          "output_type": "stream",
          "text": [
            "\n",
            "iter:0 \t cost: 4.13 \t train_acc:7.000000000000001 \t test_acc:7.000000000000001\n",
            "====================\n",
            "iter:100 \t cost: 0.93 \t train_acc:73.0 \t test_acc:72.0\n",
            "====================\n",
            "iter:200 \t cost: 0.74 \t train_acc:78.0 \t test_acc:77.0\n",
            "====================\n",
            "iter:300 \t cost: 0.61 \t train_acc:82.0 \t test_acc:81.0\n",
            "====================\n",
            "iter:400 \t cost: 1.0 \t train_acc:77.0 \t test_acc:75.0\n",
            "====================\n",
            "iter:500 \t cost: 0.46 \t train_acc:86.0 \t test_acc:85.0\n",
            "====================\n",
            "iter:600 \t cost: 0.4 \t train_acc:88.0 \t test_acc:86.0\n",
            "====================\n",
            "iter:700 \t cost: 0.39 \t train_acc:88.0 \t test_acc:86.0\n",
            "====================\n",
            "iter:800 \t cost: 0.44 \t train_acc:87.0 \t test_acc:85.0\n",
            "====================\n",
            "iter:900 \t cost: 0.87 \t train_acc:75.0 \t test_acc:74.0\n",
            "===================="
          ]
        }
      ],
      "source": [
        "layer_dims = [X_train.shape[0], 128,128,128, Y_train.shape[0]]\n",
        "lr = 0.001\n",
        "n_epoch = 1000\n",
        "activation = 'tanh'\n",
        "init_mode = 'xavier'\n",
        "\n",
        "\n",
        "\n",
        "\n",
        "\n",
        "parameters = grad_desc_opt(X_train, Y_train, layer_dims, lr,init_mode = 'xavier', activation = activation, n_epoch = n_epoch, lambd = 0.7, opt= 'rmsprop')"
      ]
    },
    {
      "cell_type": "code",
      "source": [
        "layer_dims = [X_train.shape[0], 128,128,128, Y_train.shape[0]]\n",
        "lr = 0.001\n",
        "n_epoch = 1000\n",
        "activation = 'tanh'\n",
        "init_mode = 'xavier'\n",
        "\n",
        "\n",
        "\n",
        "\n",
        "\n",
        "parameters = grad_desc_opt(X_train, Y_train, layer_dims, lr,init_mode = 'xavier', activation = activation, n_epoch = n_epoch, lambd = 0.7, opt= 'rmsprop')"
      ],
      "metadata": {
        "id": "GiLhWrrgHIa7"
      },
      "execution_count": null,
      "outputs": []
    },
    {
      "cell_type": "code",
      "execution_count": null,
      "metadata": {
        "id": "QERcCrDr03Rb"
      },
      "outputs": [],
      "source": [
        "layer_dims = [X_train.shape[0], 128,128,128, Y_train.shape[0]]\n",
        "lr = 0.001\n",
        "n_epoch = 1\n",
        "activation = 'relu'\n",
        "init_mode = 'xavier'\n",
        "parameters = grad_desc_opt(X_train, Y_train, layer_dims, lr,init_mode = init_mode, activation = activation, n_epoch = n_epoch, lambd = 0.7, opt= 'adam')\n",
        "\n",
        "\n",
        "\n"
      ]
    },
    {
      "cell_type": "code",
      "execution_count": null,
      "metadata": {
        "id": "S8tD_T5f4ZzX",
        "colab": {
          "base_uri": "https://localhost:8080/",
          "height": 180
        },
        "outputId": "d939a47a-559a-448d-db62-6a19d993e6e9"
      },
      "outputs": [
        {
          "output_type": "error",
          "ename": "NameError",
          "evalue": "ignored",
          "traceback": [
            "\u001b[0;31m---------------------------------------------------------------------------\u001b[0m",
            "\u001b[0;31mNameError\u001b[0m                                 Traceback (most recent call last)",
            "\u001b[0;32m<ipython-input-21-7cdd09c96c10>\u001b[0m in \u001b[0;36m<cell line: 1>\u001b[0;34m()\u001b[0m\n\u001b[0;32m----> 1\u001b[0;31m \u001b[0mprint\u001b[0m\u001b[0;34m(\u001b[0m\u001b[0mpredict\u001b[0m\u001b[0;34m(\u001b[0m\u001b[0mX_test\u001b[0m\u001b[0;34m,\u001b[0m \u001b[0mY_test\u001b[0m\u001b[0;34m,\u001b[0m \u001b[0mparameters\u001b[0m\u001b[0;34m,\u001b[0m \u001b[0mactivation\u001b[0m\u001b[0;34m)\u001b[0m\u001b[0;34m)\u001b[0m\u001b[0;34m\u001b[0m\u001b[0;34m\u001b[0m\u001b[0m\n\u001b[0m",
            "\u001b[0;31mNameError\u001b[0m: name 'parameters' is not defined"
          ]
        }
      ],
      "source": [
        "print(predict(X_test, Y_test, parameters, activation))"
      ]
    },
    {
      "cell_type": "code",
      "source": [],
      "metadata": {
        "id": "He6y3Qa6c965"
      },
      "execution_count": null,
      "outputs": []
    },
    {
      "cell_type": "code",
      "execution_count": null,
      "metadata": {
        "id": "H-CLNjm64cvu"
      },
      "outputs": [],
      "source": [
        "layer_dims = [X_train.shape[0], 128,128,128, Y_train.shape[0]]\n",
        "lr = 0.0001\n",
        "n_epoch = 100\n",
        "activation = 'tanh'\n",
        "init_mode = 'xavier'\n",
        "batch_size  =5400\n",
        "parameters = grad_desc_opt_bs(X_train, Y_train, layer_dims, lr,init_mode = init_mode, activation = activation, n_epoch = n_epoch, lambd = 0.7, opt= 'adam', batch_size = batch_size)\n",
        "\n"
      ]
    },
    {
      "cell_type": "code",
      "execution_count": 29,
      "metadata": {
        "id": "mzn8bZoskMG1"
      },
      "outputs": [],
      "source": [
        "import numpy as np\n",
        "from sklearn.metrics import confusion_matrix\n",
        "import matplotlib.pyplot as plt\n",
        "import seaborn as sns\n",
        "\n",
        "def predict1(X, parameters, activation='tanh'):\n",
        "\n",
        "    # Forward propagation\n",
        "    A, _ = forward_prop(X, parameters, activation)\n",
        "\n",
        "    # Convert probabilities to class labels\n",
        "    predictions = np.argmax(A, axis=0)\n",
        "\n",
        "    return predictions\n",
        "\n",
        "def plot_confusion_matrix(conf_matrix, classes, title='Confusion Matrix', figsize=(26, 20), save_path=None):\n",
        "      plt.figure(figsize=figsize)\n",
        "      sns.set(font_scale=1.2)\n",
        "      sns.heatmap(conf_matrix, annot=True, fmt='d', cmap='Blues', cbar=False,\n",
        "                  xticklabels=classes, yticklabels=classes)\n",
        "      plt.xlabel('Predicted')\n",
        "      plt.ylabel('True')\n",
        "      plt.title(title)\n",
        "\n",
        "      if save_path:\n",
        "          plt.savefig(save_path, dpi=300, bbox_inches='tight')\n",
        "      else:\n",
        "          plt.show()\n",
        "\n",
        "def compute_confusion_matrix(parameters, X_val, Y_val, classes, activation='tanh'):\n",
        "    predictions = predict1(X_val, parameters, activation)\n",
        "    conf_matrix = confusion_matrix(Y_val.argmax(axis=0), predictions)\n",
        "\n",
        "    return conf_matrix\n",
        "\n",
        "# Call the function to compute and plot the confusion matrix\n",
        "# conf_matrix = compute_confusion_matrix(parameters, X_val, Y_val, class_labels)\n"
      ]
    },
    {
      "cell_type": "code",
      "source": [
        "#training function to sweep with wandb\n",
        "# parameters = grad_desc_opt(X_train, Y_train, layer_dims, lr,init_mode = init_mode, activation = activation, n_epoch = n_epoch, lambd = 0.0, opt= 'adam')\n",
        "\n",
        "def train():\n",
        "\n",
        "    hyperparameter_defaults=dict(\n",
        "        n_epoch = 1000,\n",
        "        n_hiddenlayer = 3,\n",
        "        lambd = 0.7,\n",
        "        lr = 0.001,\n",
        "        opt = \"adam\",\n",
        "        init_mode = \"xavier\",\n",
        "        activation = 'tanh'\n",
        "    )\n",
        "\n",
        "    wandb.init(config=hyperparameter_defaults)\n",
        "\n",
        "    config=wandb.config\n",
        "    config.layer_dims = [X_train.shape[0]] + [128] * config.n_hiddenlayer + [Y_train.shape[0]]\n",
        "    print(config.layer_dims)\n",
        "\n",
        "    print(\"Parameters: \",config.layer_dims,config.lr,config.init_mode,config.activation,config.n_epoch,config.lambd,config.opt)\n",
        "    parameters=grad_desc_opt(X_train, Y_train,config.layer_dims,config.lr,config.init_mode,config.activation,config.n_epoch,config.lambd,config.opt)\n",
        "\n",
        "    joblib.dump(parameters, 'trained_parameters.joblib')\n",
        "\n",
        "\n",
        "    class_labels = ['A', 'B', 'C', 'D', 'E', 'F', 'G', 'H', 'I', 'J',\n",
        "                  'K', 'L', 'M', 'N', 'O', 'P', 'Q', 'R', 'S', 'T',\n",
        "                  'U', 'V', 'W', 'X', 'Y', 'Z']\n",
        "\n",
        "    # Example usage:\n",
        "    # print(class_labels)\n",
        "\n",
        "    conf_matrix = compute_confusion_matrix(parameters, X_val, Y_val, class_labels)\n",
        "    conf_matrix_path = \"confusion_matrix.png\"\n",
        "    plot_confusion_matrix(conf_matrix, class_labels, title='Confusion Matrix', save_path=conf_matrix_path)\n",
        "\n",
        "  # Upload the confusion matrix image to WandB\n",
        "    wandb.log({\"Confusion_Matrix\": wandb.Image(conf_matrix_path)})\n",
        "    # sweeper(sweep_config,proj_name)\n"
      ],
      "metadata": {
        "id": "a3yWHLAfjDYZ"
      },
      "execution_count": null,
      "outputs": []
    },
    {
      "cell_type": "code",
      "source": [
        "from google.colab import files\n",
        "\n",
        "# Upload the trained parameters file\n",
        "uploaded = files.upload()"
      ],
      "metadata": {
        "colab": {
          "base_uri": "https://localhost:8080/",
          "height": 72
        },
        "id": "Z0JfzEv_5KZk",
        "outputId": "6606a7e1-3eac-4f93-d465-bd2ed02fdd3d"
      },
      "execution_count": 25,
      "outputs": [
        {
          "output_type": "display_data",
          "data": {
            "text/plain": [
              "<IPython.core.display.HTML object>"
            ],
            "text/html": [
              "\n",
              "     <input type=\"file\" id=\"files-4e5f2455-552c-4ad7-813e-9f3fb1217692\" name=\"files[]\" multiple disabled\n",
              "        style=\"border:none\" />\n",
              "     <output id=\"result-4e5f2455-552c-4ad7-813e-9f3fb1217692\">\n",
              "      Upload widget is only available when the cell has been executed in the\n",
              "      current browser session. Please rerun this cell to enable.\n",
              "      </output>\n",
              "      <script>// Copyright 2017 Google LLC\n",
              "//\n",
              "// Licensed under the Apache License, Version 2.0 (the \"License\");\n",
              "// you may not use this file except in compliance with the License.\n",
              "// You may obtain a copy of the License at\n",
              "//\n",
              "//      http://www.apache.org/licenses/LICENSE-2.0\n",
              "//\n",
              "// Unless required by applicable law or agreed to in writing, software\n",
              "// distributed under the License is distributed on an \"AS IS\" BASIS,\n",
              "// WITHOUT WARRANTIES OR CONDITIONS OF ANY KIND, either express or implied.\n",
              "// See the License for the specific language governing permissions and\n",
              "// limitations under the License.\n",
              "\n",
              "/**\n",
              " * @fileoverview Helpers for google.colab Python module.\n",
              " */\n",
              "(function(scope) {\n",
              "function span(text, styleAttributes = {}) {\n",
              "  const element = document.createElement('span');\n",
              "  element.textContent = text;\n",
              "  for (const key of Object.keys(styleAttributes)) {\n",
              "    element.style[key] = styleAttributes[key];\n",
              "  }\n",
              "  return element;\n",
              "}\n",
              "\n",
              "// Max number of bytes which will be uploaded at a time.\n",
              "const MAX_PAYLOAD_SIZE = 100 * 1024;\n",
              "\n",
              "function _uploadFiles(inputId, outputId) {\n",
              "  const steps = uploadFilesStep(inputId, outputId);\n",
              "  const outputElement = document.getElementById(outputId);\n",
              "  // Cache steps on the outputElement to make it available for the next call\n",
              "  // to uploadFilesContinue from Python.\n",
              "  outputElement.steps = steps;\n",
              "\n",
              "  return _uploadFilesContinue(outputId);\n",
              "}\n",
              "\n",
              "// This is roughly an async generator (not supported in the browser yet),\n",
              "// where there are multiple asynchronous steps and the Python side is going\n",
              "// to poll for completion of each step.\n",
              "// This uses a Promise to block the python side on completion of each step,\n",
              "// then passes the result of the previous step as the input to the next step.\n",
              "function _uploadFilesContinue(outputId) {\n",
              "  const outputElement = document.getElementById(outputId);\n",
              "  const steps = outputElement.steps;\n",
              "\n",
              "  const next = steps.next(outputElement.lastPromiseValue);\n",
              "  return Promise.resolve(next.value.promise).then((value) => {\n",
              "    // Cache the last promise value to make it available to the next\n",
              "    // step of the generator.\n",
              "    outputElement.lastPromiseValue = value;\n",
              "    return next.value.response;\n",
              "  });\n",
              "}\n",
              "\n",
              "/**\n",
              " * Generator function which is called between each async step of the upload\n",
              " * process.\n",
              " * @param {string} inputId Element ID of the input file picker element.\n",
              " * @param {string} outputId Element ID of the output display.\n",
              " * @return {!Iterable<!Object>} Iterable of next steps.\n",
              " */\n",
              "function* uploadFilesStep(inputId, outputId) {\n",
              "  const inputElement = document.getElementById(inputId);\n",
              "  inputElement.disabled = false;\n",
              "\n",
              "  const outputElement = document.getElementById(outputId);\n",
              "  outputElement.innerHTML = '';\n",
              "\n",
              "  const pickedPromise = new Promise((resolve) => {\n",
              "    inputElement.addEventListener('change', (e) => {\n",
              "      resolve(e.target.files);\n",
              "    });\n",
              "  });\n",
              "\n",
              "  const cancel = document.createElement('button');\n",
              "  inputElement.parentElement.appendChild(cancel);\n",
              "  cancel.textContent = 'Cancel upload';\n",
              "  const cancelPromise = new Promise((resolve) => {\n",
              "    cancel.onclick = () => {\n",
              "      resolve(null);\n",
              "    };\n",
              "  });\n",
              "\n",
              "  // Wait for the user to pick the files.\n",
              "  const files = yield {\n",
              "    promise: Promise.race([pickedPromise, cancelPromise]),\n",
              "    response: {\n",
              "      action: 'starting',\n",
              "    }\n",
              "  };\n",
              "\n",
              "  cancel.remove();\n",
              "\n",
              "  // Disable the input element since further picks are not allowed.\n",
              "  inputElement.disabled = true;\n",
              "\n",
              "  if (!files) {\n",
              "    return {\n",
              "      response: {\n",
              "        action: 'complete',\n",
              "      }\n",
              "    };\n",
              "  }\n",
              "\n",
              "  for (const file of files) {\n",
              "    const li = document.createElement('li');\n",
              "    li.append(span(file.name, {fontWeight: 'bold'}));\n",
              "    li.append(span(\n",
              "        `(${file.type || 'n/a'}) - ${file.size} bytes, ` +\n",
              "        `last modified: ${\n",
              "            file.lastModifiedDate ? file.lastModifiedDate.toLocaleDateString() :\n",
              "                                    'n/a'} - `));\n",
              "    const percent = span('0% done');\n",
              "    li.appendChild(percent);\n",
              "\n",
              "    outputElement.appendChild(li);\n",
              "\n",
              "    const fileDataPromise = new Promise((resolve) => {\n",
              "      const reader = new FileReader();\n",
              "      reader.onload = (e) => {\n",
              "        resolve(e.target.result);\n",
              "      };\n",
              "      reader.readAsArrayBuffer(file);\n",
              "    });\n",
              "    // Wait for the data to be ready.\n",
              "    let fileData = yield {\n",
              "      promise: fileDataPromise,\n",
              "      response: {\n",
              "        action: 'continue',\n",
              "      }\n",
              "    };\n",
              "\n",
              "    // Use a chunked sending to avoid message size limits. See b/62115660.\n",
              "    let position = 0;\n",
              "    do {\n",
              "      const length = Math.min(fileData.byteLength - position, MAX_PAYLOAD_SIZE);\n",
              "      const chunk = new Uint8Array(fileData, position, length);\n",
              "      position += length;\n",
              "\n",
              "      const base64 = btoa(String.fromCharCode.apply(null, chunk));\n",
              "      yield {\n",
              "        response: {\n",
              "          action: 'append',\n",
              "          file: file.name,\n",
              "          data: base64,\n",
              "        },\n",
              "      };\n",
              "\n",
              "      let percentDone = fileData.byteLength === 0 ?\n",
              "          100 :\n",
              "          Math.round((position / fileData.byteLength) * 100);\n",
              "      percent.textContent = `${percentDone}% done`;\n",
              "\n",
              "    } while (position < fileData.byteLength);\n",
              "  }\n",
              "\n",
              "  // All done.\n",
              "  yield {\n",
              "    response: {\n",
              "      action: 'complete',\n",
              "    }\n",
              "  };\n",
              "}\n",
              "\n",
              "scope.google = scope.google || {};\n",
              "scope.google.colab = scope.google.colab || {};\n",
              "scope.google.colab._files = {\n",
              "  _uploadFiles,\n",
              "  _uploadFilesContinue,\n",
              "};\n",
              "})(self);\n",
              "</script> "
            ]
          },
          "metadata": {}
        },
        {
          "output_type": "stream",
          "name": "stdout",
          "text": [
            "Saving rms_trained.joblib to rms_trained.joblib\n"
          ]
        }
      ]
    },
    {
      "cell_type": "code",
      "source": [
        "import joblib\n",
        "\n",
        "# Load the trained parameters\n",
        "parameters = joblib.load('rms_trained.joblib')\n",
        "\n",
        "class_labels = ['A', 'B', 'C', 'D', 'E', 'F', 'G', 'H', 'I', 'J',\n",
        "              'K', 'L', 'M', 'N', 'O', 'P', 'Q', 'R', 'S', 'T',\n",
        "              'U', 'V', 'W', 'X', 'Y', 'Z']\n",
        "\n",
        "# Example usage:\n",
        "# print(class_labels)\n",
        "\n",
        "conf_matrix = compute_confusion_matrix(parameters, X_val, Y_val, class_labels)\n",
        "conf_matrix_path = \"confusion_matrix.png\"\n",
        "plot_confusion_matrix(conf_matrix, class_labels, title='Confusion Matrix', save_path=conf_matrix_path)\n"
      ],
      "metadata": {
        "colab": {
          "base_uri": "https://localhost:8080/",
          "height": 1000
        },
        "id": "NA87rT2q6YhE",
        "outputId": "aa2034f8-f4b2-462b-9e59-bc535ee7cf65"
      },
      "execution_count": 30,
      "outputs": [
        {
          "output_type": "display_data",
          "data": {
            "text/plain": [
              "<Figure size 2600x2000 with 1 Axes>"
            ],
            "image/png": "[encoded data removed]"
          },
          "metadata": {}
        }
      ]
    },
    {
      "cell_type": "code",
      "source": [
        "# print(predict1(X_val, parameters, activation=\"tanh\"))\n",
        "# print(X_val[0][0].shape)\n"
      ],
      "metadata": {
        "colab": {
          "base_uri": "https://localhost:8080/"
        },
        "id": "gEh7raL-74gi",
        "outputId": "7e7fc585-fcdf-4488-f5c7-10ddc020d994"
      },
      "execution_count": 48,
      "outputs": [
        {
          "output_type": "stream",
          "name": "stdout",
          "text": [
            "[13 10 19 ...  7  2 18]\n"
          ]
        }
      ]
    },
    {
      "cell_type": "code",
      "source": [
        "# Assuming Res_AL is a matrix where each column represents the predicted probabilities for each class\n",
        "predicted_classes = np.argmax(Res_AL, axis=0)\n",
        "print(predicted_classes)\n",
        "# Assuming class_labels is a list of class names corresponding to the columns of Res_AL\n",
        "class_labels = ['A', 'B', 'C', 'D', 'E', 'F', 'G', 'H', 'I', 'J',\n",
        "                  'K', 'L', 'M', 'N', 'O', 'P', 'Q', 'R', 'S', 'T',\n",
        "                  'U', 'V', 'W', 'X', 'Y', 'Z']\n",
        "# Map the predicted class indices to class labels\n",
        "predicted_class_names = [class_labels[idx] for idx in predicted_classes]\n",
        "\n",
        "# Display the predicted class names\n",
        "print(predicted_class_names)\n"
      ],
      "metadata": {
        "colab": {
          "base_uri": "https://localhost:8080/",
          "height": 384
        },
        "id": "bOpgdS5F8v5c",
        "outputId": "e233c921-1741-46db-bcfb-9b1dc95c7665"
      },
      "execution_count": 37,
      "outputs": [
        {
          "output_type": "stream",
          "name": "stdout",
          "text": [
            "[13 10 19 ...  7  2 18]\n"
          ]
        },
        {
          "output_type": "error",
          "ename": "IndexError",
          "evalue": "ignored",
          "traceback": [
            "\u001b[0;31m---------------------------------------------------------------------------\u001b[0m",
            "\u001b[0;31mIndexError\u001b[0m                                Traceback (most recent call last)",
            "\u001b[0;32m<ipython-input-37-c8be4fa375e7>\u001b[0m in \u001b[0;36m<cell line: 9>\u001b[0;34m()\u001b[0m\n\u001b[1;32m      7\u001b[0m                   'U', 'V', 'W', 'X', 'Y', 'Z']\n\u001b[1;32m      8\u001b[0m \u001b[0;31m# Map the predicted class indices to class labels\u001b[0m\u001b[0;34m\u001b[0m\u001b[0;34m\u001b[0m\u001b[0m\n\u001b[0;32m----> 9\u001b[0;31m \u001b[0mpredicted_class_names\u001b[0m \u001b[0;34m=\u001b[0m \u001b[0;34m[\u001b[0m\u001b[0mclass_labels\u001b[0m\u001b[0;34m[\u001b[0m\u001b[0midx\u001b[0m\u001b[0;34m]\u001b[0m \u001b[0;32mfor\u001b[0m \u001b[0midx\u001b[0m \u001b[0;32min\u001b[0m \u001b[0mpredicted_classes\u001b[0m\u001b[0;34m]\u001b[0m\u001b[0;34m\u001b[0m\u001b[0;34m\u001b[0m\u001b[0m\n\u001b[0m\u001b[1;32m     10\u001b[0m \u001b[0;34m\u001b[0m\u001b[0m\n\u001b[1;32m     11\u001b[0m \u001b[0;31m# Display the predicted class names\u001b[0m\u001b[0;34m\u001b[0m\u001b[0;34m\u001b[0m\u001b[0m\n",
            "\u001b[0;32m<ipython-input-37-c8be4fa375e7>\u001b[0m in \u001b[0;36m<listcomp>\u001b[0;34m(.0)\u001b[0m\n\u001b[1;32m      7\u001b[0m                   'U', 'V', 'W', 'X', 'Y', 'Z']\n\u001b[1;32m      8\u001b[0m \u001b[0;31m# Map the predicted class indices to class labels\u001b[0m\u001b[0;34m\u001b[0m\u001b[0;34m\u001b[0m\u001b[0m\n\u001b[0;32m----> 9\u001b[0;31m \u001b[0mpredicted_class_names\u001b[0m \u001b[0;34m=\u001b[0m \u001b[0;34m[\u001b[0m\u001b[0mclass_labels\u001b[0m\u001b[0;34m[\u001b[0m\u001b[0midx\u001b[0m\u001b[0;34m]\u001b[0m \u001b[0;32mfor\u001b[0m \u001b[0midx\u001b[0m \u001b[0;32min\u001b[0m \u001b[0mpredicted_classes\u001b[0m\u001b[0;34m]\u001b[0m\u001b[0;34m\u001b[0m\u001b[0;34m\u001b[0m\u001b[0m\n\u001b[0m\u001b[1;32m     10\u001b[0m \u001b[0;34m\u001b[0m\u001b[0m\n\u001b[1;32m     11\u001b[0m \u001b[0;31m# Display the predicted class names\u001b[0m\u001b[0;34m\u001b[0m\u001b[0;34m\u001b[0m\u001b[0m\n",
            "\u001b[0;31mIndexError\u001b[0m: list index out of range"
          ]
        }
      ]
    },
    {
      "cell_type": "code",
      "execution_count": 28,
      "metadata": {
        "id": "8mys1OI1c7Qx"
      },
      "outputs": [],
      "source": [
        "def sweeper(sweep_config,proj_name):\n",
        "  sweep_id=wandb.sweep(sweep_config,project=proj_name)\n",
        "  wandb.agent(sweep_id,train,project=proj_name)"
      ]
    },
    {
      "cell_type": "code",
      "execution_count": null,
      "metadata": {
        "id": "gtjOYXx9c77y"
      },
      "outputs": [],
      "source": [
        "# Initialize wandb sweep configuration\n",
        "sweep_config = {\n",
        "    \"name\": \"my_sweep\",\n",
        "    \"method\": \"grid\",\n",
        "    \"metric\": {\"name\": \"accuracy\", \"goal\": \"maximize\"},\n",
        "    \"parameters\": {\n",
        "        \"layer_dims\": {\"values\": [[X_train.shape[0], 128, 128, 128, Y_train.shape[0]]]},\n",
        "        \"lr\": {\"values\": [0.001]},\n",
        "        \"n_epoch\": {\"values\": [1000]},\n",
        "        \"activation\": {\"values\": ['relu','tanh']},\n",
        "        \"init_mode\": {\"values\": [\"xavier\"]},\n",
        "        \"batch_size\": {\"values\": [5400]},\n",
        "        \"lambd\": {\"values\": [0.7]},\n",
        "        \"opt\": {\"values\": ['sgd', 'momentum', 'rmsprop', 'adam']}\n",
        "    }\n",
        "}\n"
      ]
    },
    {
      "cell_type": "code",
      "execution_count": null,
      "metadata": {
        "id": "rV6yKzrSfljG",
        "colab": {
          "base_uri": "https://localhost:8080/",
          "height": 193
        },
        "outputId": "d5dd028c-2951-4d0e-b372-239d28f357f5"
      },
      "outputs": [
        {
          "output_type": "error",
          "ename": "NameError",
          "evalue": "ignored",
          "traceback": [
            "\u001b[0;31m---------------------------------------------------------------------------\u001b[0m",
            "\u001b[0;31mNameError\u001b[0m                                 Traceback (most recent call last)",
            "\u001b[0;32m<ipython-input-25-38b053f71c5a>\u001b[0m in \u001b[0;36m<cell line: 2>\u001b[0;34m()\u001b[0m\n\u001b[1;32m      1\u001b[0m \u001b[0mproj_name\u001b[0m \u001b[0;34m=\u001b[0m \u001b[0;34m\"Image_classification_emnist\"\u001b[0m\u001b[0;34m\u001b[0m\u001b[0;34m\u001b[0m\u001b[0m\n\u001b[0;32m----> 2\u001b[0;31m \u001b[0msweep_id\u001b[0m\u001b[0;34m=\u001b[0m\u001b[0mwandb\u001b[0m\u001b[0;34m.\u001b[0m\u001b[0msweep\u001b[0m\u001b[0;34m(\u001b[0m\u001b[0msweep_config\u001b[0m\u001b[0;34m,\u001b[0m\u001b[0mproject\u001b[0m\u001b[0;34m=\u001b[0m\u001b[0mproj_name\u001b[0m\u001b[0;34m)\u001b[0m\u001b[0;34m\u001b[0m\u001b[0;34m\u001b[0m\u001b[0m\n\u001b[0m",
            "\u001b[0;31mNameError\u001b[0m: name 'sweep_config' is not defined"
          ]
        }
      ],
      "source": [
        "# proj_name = \"Image_classification_emnist\"\n",
        "# sweep_id=wandb.sweep(sweep_config,project=proj_name)"
      ]
    },
    {
      "cell_type": "code",
      "source": [
        "wandb.finish()"
      ],
      "metadata": {
        "id": "coOvvandhumi",
        "colab": {
          "base_uri": "https://localhost:8080/",
          "height": 250,
          "referenced_widgets": [
            "b576e89d0e03461fb4169a7d0add3ca3",
            "c4a70ba9854b40959063db00bd1f951a",
            "5466280621c34ca582ac124c0efce991",
            "cc2732702fe94d91b056ae50ed5c5d25",
            "5d9b23263eee465ea02d2b3b8655c640",
            "345134fc1d3446a39c903a1471886859",
            "90ace883a8674c06befee67db5127add",
            "3924388287834e90b974ae66510c097d"
          ]
        },
        "outputId": "6a36fa5f-788d-4ed0-90d0-d15d6cc35788"
      },
      "execution_count": null,
      "outputs": [
        {
          "output_type": "display_data",
          "data": {
            "text/plain": [
              "VBox(children=(Label(value='0.001 MB of 0.001 MB uploaded\\r'), FloatProgress(value=1.0, max=1.0)))"
            ],
            "application/vnd.jupyter.widget-view+json": {
              "version_major": 2,
              "version_minor": 0,
              "model_id": "b576e89d0e03461fb4169a7d0add3ca3"
            }
          },
          "metadata": {}
        },
        {
          "output_type": "display_data",
          "data": {
            "text/plain": [
              "<IPython.core.display.HTML object>"
            ],
            "text/html": [
              "<style>\n",
              "    table.wandb td:nth-child(1) { padding: 0 10px; text-align: left ; width: auto;} td:nth-child(2) {text-align: left ; width: 100%}\n",
              "    .wandb-row { display: flex; flex-direction: row; flex-wrap: wrap; justify-content: flex-start; width: 100% }\n",
              "    .wandb-col { display: flex; flex-direction: column; flex-basis: 100%; flex: 1; padding: 10px; }\n",
              "    </style>\n",
              "<div class=\"wandb-row\"><div class=\"wandb-col\"><h3>Run history:</h3><br/><table class=\"wandb\"><tr><td>Cost</td><td>▁</td></tr><tr><td>Iteration</td><td>▁</td></tr><tr><td>Test_Accuracy</td><td>▁</td></tr><tr><td>Train_Accuracy</td><td>▁</td></tr></table><br/></div><div class=\"wandb-col\"><h3>Run summary:</h3><br/><table class=\"wandb\"><tr><td>Cost</td><td>4.17</td></tr><tr><td>Iteration</td><td>0</td></tr><tr><td>Test_Accuracy</td><td>9.0</td></tr><tr><td>Train_Accuracy</td><td>9.0</td></tr></table><br/></div></div>"
            ]
          },
          "metadata": {}
        },
        {
          "output_type": "display_data",
          "data": {
            "text/plain": [
              "<IPython.core.display.HTML object>"
            ],
            "text/html": [
              " View run <strong style=\"color:#cdcd00\">breezy-lake-93</strong> at: <a href='https://wandb.ai/adhithyarg26/Image_classification_emnist/runs/joqxfmdj' target=\"_blank\">https://wandb.ai/adhithyarg26/Image_classification_emnist/runs/joqxfmdj</a><br/>Synced 5 W&B file(s), 0 media file(s), 0 artifact file(s) and 0 other file(s)"
            ]
          },
          "metadata": {}
        },
        {
          "output_type": "display_data",
          "data": {
            "text/plain": [
              "<IPython.core.display.HTML object>"
            ],
            "text/html": [
              "Find logs at: <code>./wandb/run-20231117_181846-joqxfmdj/logs</code>"
            ]
          },
          "metadata": {}
        }
      ]
    },
    {
      "cell_type": "code",
      "source": [
        "import sys\n",
        "import traceback\n",
        "try:\n",
        "  train()\n",
        "  files.download('trained_parameters.joblib')\n",
        "\n",
        "  wandb.finish()\n",
        "\n",
        "\n",
        "except Exception as e:\n",
        "  print(e)\n",
        "  # exit gracefully, so wandb logs the problem\n",
        "  print(traceback.print_exc(), file=sys.stderr)\n",
        "  wandb.finish()\n",
        "  exit(1)\n"
      ],
      "metadata": {
        "colab": {
          "base_uri": "https://localhost:8080/",
          "height": 520
        },
        "id": "72Wo9jQlaDWE",
        "outputId": "e1423f96-0f74-41bc-d668-789d5b5b0896"
      },
      "execution_count": null,
      "outputs": [
        {
          "output_type": "display_data",
          "data": {
            "text/plain": [
              "<IPython.core.display.HTML object>"
            ],
            "text/html": [
              "Changes to your `wandb` environment variables will be ignored because your `wandb` session has already started. For more information on how to modify your settings with `wandb.init()` arguments, please refer to <a href='https://wandb.me/wandb-init' target=\"_blank\">the W&B docs</a>."
            ]
          },
          "metadata": {}
        },
        {
          "output_type": "display_data",
          "data": {
            "text/plain": [
              "<IPython.core.display.HTML object>"
            ],
            "text/html": [
              "Tracking run with wandb version 0.16.0"
            ]
          },
          "metadata": {}
        },
        {
          "output_type": "display_data",
          "data": {
            "text/plain": [
              "<IPython.core.display.HTML object>"
            ],
            "text/html": [
              "Run data is saved locally in <code>/content/wandb/run-20231117_182427-8v2i6t4b</code>"
            ]
          },
          "metadata": {}
        },
        {
          "output_type": "display_data",
          "data": {
            "text/plain": [
              "<IPython.core.display.HTML object>"
            ],
            "text/html": [
              "Syncing run <strong><a href='https://wandb.ai/adhithyarg26/Image_classification_emnist/runs/8v2i6t4b' target=\"_blank\">true-aardvark-96</a></strong> to <a href='https://wandb.ai/adhithyarg26/Image_classification_emnist' target=\"_blank\">Weights & Biases</a> (<a href='https://wandb.me/run' target=\"_blank\">docs</a>)<br/>"
            ]
          },
          "metadata": {}
        },
        {
          "output_type": "display_data",
          "data": {
            "text/plain": [
              "<IPython.core.display.HTML object>"
            ],
            "text/html": [
              " View project at <a href='https://wandb.ai/adhithyarg26/Image_classification_emnist' target=\"_blank\">https://wandb.ai/adhithyarg26/Image_classification_emnist</a>"
            ]
          },
          "metadata": {}
        },
        {
          "output_type": "display_data",
          "data": {
            "text/plain": [
              "<IPython.core.display.HTML object>"
            ],
            "text/html": [
              " View run at <a href='https://wandb.ai/adhithyarg26/Image_classification_emnist/runs/8v2i6t4b' target=\"_blank\">https://wandb.ai/adhithyarg26/Image_classification_emnist/runs/8v2i6t4b</a>"
            ]
          },
          "metadata": {}
        },
        {
          "output_type": "stream",
          "name": "stdout",
          "text": [
            "[784, 128, 128, 128, 62]\n",
            "Parameters:  [784, 128, 128, 128, 62] 0.001 xavier tanh 1000 0.7 adam\n",
            "\n",
            "iter:0 \t cost: 4.23 \t train_acc:8.0 \t test_acc:8.0\n",
            "====================\n",
            "iter:100 \t cost: 1.14 \t train_acc:67.0 \t test_acc:66.0\n",
            "====================\n",
            "iter:200 \t cost: 0.86 \t train_acc:75.0 \t test_acc:74.0\n",
            "====================\n",
            "iter:300 \t cost: 0.72 \t train_acc:78.0 \t test_acc:77.0\n",
            "====================\n",
            "iter:400 \t cost: 0.65 \t train_acc:81.0 \t test_acc:80.0\n",
            "====================\n",
            "iter:500 \t cost: 0.59 \t train_acc:82.0 \t test_acc:81.0\n",
            "====================\n",
            "iter:600 \t cost: 0.55 \t train_acc:83.0 \t test_acc:82.0\n",
            "====================\n",
            "iter:700 \t cost: 0.54 \t train_acc:83.0 \t test_acc:82.0\n",
            "====================\n",
            "iter:800 \t cost: 0.47 \t train_acc:85.0 \t test_acc:84.0\n",
            "====================\n",
            "iter:900 \t cost: 0.43 \t train_acc:86.0 \t test_acc:85.0\n",
            "================"
          ]
        }
      ]
    },
    {
      "cell_type": "code",
      "source": [
        "sweep_config = {\n",
        "    \"name\": \"my_sweep\",\n",
        "    \"method\": \"grid\",\n",
        "    \"metric\": {\"name\": \"accuracy\", \"goal\": \"maximize\"},\n",
        "    \"parameters\": {\n",
        "        \"layer_dims\": {\"values\": [[X_train.shape[0], 128, 128, 128, Y_train.shape[0]]]},\n",
        "        \"lr\": {\"values\": [0.0001]},\n",
        "        \"n_epoch\": {\"values\": [100]},\n",
        "        \"activation\": {\"values\": [\"tanh\",\"relu\"]},\n",
        "        \"init_mode\": {\"values\": [\"xavier\"]},\n",
        "        \"lambd\": {\"values\": [0.7]},\n",
        "        \"opt\": {\"values\": [\"adam\",\"rmsprop\",\"sgd\",\"momentum\"]}\n",
        "    }\n",
        "}\n",
        "\n",
        "proj_name = \"Image_classification_emnist\"\n",
        "sweep_id = wandb.sweep(sweep_config, project=proj_name)\n"
      ],
      "metadata": {
        "id": "FfBFxZVJaUsX"
      },
      "execution_count": null,
      "outputs": []
    },
    {
      "cell_type": "markdown",
      "source": [
        "##Predict from user input from ANVIL\n",
        "\n",
        "\n"
      ],
      "metadata": {
        "id": "ZouqqWonDYbx"
      }
    },
    {
      "cell_type": "code",
      "source": [
        "import io\n",
        "\n",
        "@anvil.server.callable\n",
        "def predict1_colab(X_val, parameters, activation='tanh'):\n",
        "    # Forward propagation\n",
        "    A, _ = forward_prop(X_val, parameters, activation)\n",
        "\n",
        "    # Convert probabilities to class labels\n",
        "    predictions = np.argmax(A, axis=0)\n",
        "\n",
        "    return predictions\n",
        "\n",
        "@anvil.server.callable\n",
        "def predict_colab(image):\n",
        "    # Get the bytes of the image\n",
        "    image_bytes = image.get_bytes()\n",
        "\n",
        "    # Perform any necessary preprocessing on the image\n",
        "    img = Image.open(io.BytesIO(image_bytes))\n",
        "    img_array = np.array(img).reshape(28*28,-1)\n",
        "\n",
        "    img_array = img_array.astype('float32') / 255.0\n",
        "    print(img_array.shape)\n",
        "    # Make predictions using the loaded model\n",
        "    result = predict1(img_array, parameters, activation=\"tanh\")\n",
        "\n",
        "    # Assuming result is a string, modify accordingly based on your model output\n",
        "    return str(result[0])\n"
      ],
      "metadata": {
        "id": "PlY0BJHGgVFT"
      },
      "execution_count": 80,
      "outputs": []
    },
    {
      "cell_type": "code",
      "source": [
        "import numpy as np\n",
        "from emnist import extract_training_samples\n",
        "import matplotlib.pyplot as plt\n",
        "from PIL import Image\n",
        "\n",
        "# Load EMNIST dataset\n",
        "(X_train, y_train) = extract_training_samples('letters')\n",
        "\n",
        "# Filter images containing only capital letters (A-Z)\n",
        "capital_indices = np.where((y_train >= 10) & (y_train < 36))[0]\n",
        "\n",
        "# Select 10 random indices from the filtered capital letters\n",
        "random_indices = np.random.choice(capital_indices, 10, replace=False)\n",
        "\n",
        "# Plot and save the images\n",
        "for i, index in enumerate(random_indices):\n",
        "    image_array = X_train[index].reshape((28, 28))\n",
        "    label = chr(y_train[index] + 55)  # Convert label to corresponding capital letter (65 is ASCII for 'A')\n",
        "\n",
        "    plt.imshow(image_array, cmap='gray')\n",
        "    plt.title(f'EMNIST Capital Letter: {label}')\n",
        "    plt.axis('off')\n",
        "\n",
        "    # Save the image\n",
        "    image_path = f'emnist_capital_image_{i + 11}.png'\n",
        "    plt.savefig(image_path, bbox_inches='tight', pad_inches=0.0)\n",
        "    plt.show()\n",
        "\n",
        "    # Convert to PIL Image and save\n",
        "    pil_image = Image.fromarray((image_array * 255).astype(np.uint8))\n",
        "    pil_image.save(image_path)\n",
        "\n",
        "    print(f'Image saved: {image_path}')"
      ],
      "metadata": {
        "id": "k5vzd0SKCiCk"
      },
      "execution_count": null,
      "outputs": []
    },
    {
      "cell_type": "code",
      "source": [
        "import shutil\n",
        "import os\n",
        "\n",
        "# Create a directory to store the images\n",
        "output_directory = 'emnist_images'\n",
        "os.makedirs(output_directory, exist_ok=True)\n",
        "\n",
        "# Specify the image filenames\n",
        "image_filenames = [f'emnist_capital_image_{i + 1}.png' for i in range(10, 20)]\n",
        "\n",
        "# Assuming images are in the current working directory\n",
        "# If images are in a different directory, provide the correct path\n",
        "for filename in image_filenames:\n",
        "    shutil.copy(filename, output_directory)\n",
        "\n",
        "# Zip each image into a separate file\n",
        "for filename in image_filenames:\n",
        "    shutil.make_archive(os.path.join(output_directory, filename.split('.')[0]), 'zip', output_directory, filename)\n"
      ],
      "metadata": {
        "id": "TRYASmabmaZT"
      },
      "execution_count": 70,
      "outputs": []
    },
    {
      "cell_type": "code",
      "source": [
        "from google.colab import files\n",
        "\n",
        "# Specify the names of the zip files\n",
        "zip_filenames = [f'emnist_capital_image_{i + 1}.png' for i in range(10,20)]\n",
        "print(zip_filenames)\n",
        "# Download each zip file\n",
        "for zip_filename in zip_filenames:\n",
        "    files.download(zip_filename)\n"
      ],
      "metadata": {
        "colab": {
          "base_uri": "https://localhost:8080/",
          "height": 54
        },
        "id": "Kvr6gqcmm15n",
        "outputId": "8c040ab6-94a7-49d5-cad4-e9ecd87c05e7"
      },
      "execution_count": 71,
      "outputs": [
        {
          "output_type": "stream",
          "name": "stdout",
          "text": [
            "['emnist_capital_image_11.png', 'emnist_capital_image_12.png', 'emnist_capital_image_13.png', 'emnist_capital_image_14.png', 'emnist_capital_image_15.png', 'emnist_capital_image_16.png', 'emnist_capital_image_17.png', 'emnist_capital_image_18.png', 'emnist_capital_image_19.png', 'emnist_capital_image_20.png']\n"
          ]
        },
        {
          "output_type": "display_data",
          "data": {
            "text/plain": [
              "<IPython.core.display.Javascript object>"
            ],
            "application/javascript": [
              "\n",
              "    async function download(id, filename, size) {\n",
              "      if (!google.colab.kernel.accessAllowed) {\n",
              "        return;\n",
              "      }\n",
              "      const div = document.createElement('div');\n",
              "      const label = document.createElement('label');\n",
              "      label.textContent = `Downloading \"${filename}\": `;\n",
              "      div.appendChild(label);\n",
              "      const progress = document.createElement('progress');\n",
              "      progress.max = size;\n",
              "      div.appendChild(progress);\n",
              "      document.body.appendChild(div);\n",
              "\n",
              "      const buffers = [];\n",
              "      let downloaded = 0;\n",
              "\n",
              "      const channel = await google.colab.kernel.comms.open(id);\n",
              "      // Send a message to notify the kernel that we're ready.\n",
              "      channel.send({})\n",
              "\n",
              "      for await (const message of channel.messages) {\n",
              "        // Send a message to notify the kernel that we're ready.\n",
              "        channel.send({})\n",
              "        if (message.buffers) {\n",
              "          for (const buffer of message.buffers) {\n",
              "            buffers.push(buffer);\n",
              "            downloaded += buffer.byteLength;\n",
              "            progress.value = downloaded;\n",
              "          }\n",
              "        }\n",
              "      }\n",
              "      const blob = new Blob(buffers, {type: 'application/binary'});\n",
              "      const a = document.createElement('a');\n",
              "      a.href = window.URL.createObjectURL(blob);\n",
              "      a.download = filename;\n",
              "      div.appendChild(a);\n",
              "      a.click();\n",
              "      div.remove();\n",
              "    }\n",
              "  "
            ]
          },
          "metadata": {}
        },
        {
          "output_type": "display_data",
          "data": {
            "text/plain": [
              "<IPython.core.display.Javascript object>"
            ],
            "application/javascript": [
              "download(\"download_e0a917b6-880f-436e-b269-0db030b1638b\", \"emnist_capital_image_11.png\", 326)"
            ]
          },
          "metadata": {}
        },
        {
          "output_type": "display_data",
          "data": {
            "text/plain": [
              "<IPython.core.display.Javascript object>"
            ],
            "application/javascript": [
              "\n",
              "    async function download(id, filename, size) {\n",
              "      if (!google.colab.kernel.accessAllowed) {\n",
              "        return;\n",
              "      }\n",
              "      const div = document.createElement('div');\n",
              "      const label = document.createElement('label');\n",
              "      label.textContent = `Downloading \"${filename}\": `;\n",
              "      div.appendChild(label);\n",
              "      const progress = document.createElement('progress');\n",
              "      progress.max = size;\n",
              "      div.appendChild(progress);\n",
              "      document.body.appendChild(div);\n",
              "\n",
              "      const buffers = [];\n",
              "      let downloaded = 0;\n",
              "\n",
              "      const channel = await google.colab.kernel.comms.open(id);\n",
              "      // Send a message to notify the kernel that we're ready.\n",
              "      channel.send({})\n",
              "\n",
              "      for await (const message of channel.messages) {\n",
              "        // Send a message to notify the kernel that we're ready.\n",
              "        channel.send({})\n",
              "        if (message.buffers) {\n",
              "          for (const buffer of message.buffers) {\n",
              "            buffers.push(buffer);\n",
              "            downloaded += buffer.byteLength;\n",
              "            progress.value = downloaded;\n",
              "          }\n",
              "        }\n",
              "      }\n",
              "      const blob = new Blob(buffers, {type: 'application/binary'});\n",
              "      const a = document.createElement('a');\n",
              "      a.href = window.URL.createObjectURL(blob);\n",
              "      a.download = filename;\n",
              "      div.appendChild(a);\n",
              "      a.click();\n",
              "      div.remove();\n",
              "    }\n",
              "  "
            ]
          },
          "metadata": {}
        },
        {
          "output_type": "display_data",
          "data": {
            "text/plain": [
              "<IPython.core.display.Javascript object>"
            ],
            "application/javascript": [
              "download(\"download_705b2cdf-1f2c-4b1a-8bab-fbf7e45baee7\", \"emnist_capital_image_12.png\", 345)"
            ]
          },
          "metadata": {}
        },
        {
          "output_type": "display_data",
          "data": {
            "text/plain": [
              "<IPython.core.display.Javascript object>"
            ],
            "application/javascript": [
              "\n",
              "    async function download(id, filename, size) {\n",
              "      if (!google.colab.kernel.accessAllowed) {\n",
              "        return;\n",
              "      }\n",
              "      const div = document.createElement('div');\n",
              "      const label = document.createElement('label');\n",
              "      label.textContent = `Downloading \"${filename}\": `;\n",
              "      div.appendChild(label);\n",
              "      const progress = document.createElement('progress');\n",
              "      progress.max = size;\n",
              "      div.appendChild(progress);\n",
              "      document.body.appendChild(div);\n",
              "\n",
              "      const buffers = [];\n",
              "      let downloaded = 0;\n",
              "\n",
              "      const channel = await google.colab.kernel.comms.open(id);\n",
              "      // Send a message to notify the kernel that we're ready.\n",
              "      channel.send({})\n",
              "\n",
              "      for await (const message of channel.messages) {\n",
              "        // Send a message to notify the kernel that we're ready.\n",
              "        channel.send({})\n",
              "        if (message.buffers) {\n",
              "          for (const buffer of message.buffers) {\n",
              "            buffers.push(buffer);\n",
              "            downloaded += buffer.byteLength;\n",
              "            progress.value = downloaded;\n",
              "          }\n",
              "        }\n",
              "      }\n",
              "      const blob = new Blob(buffers, {type: 'application/binary'});\n",
              "      const a = document.createElement('a');\n",
              "      a.href = window.URL.createObjectURL(blob);\n",
              "      a.download = filename;\n",
              "      div.appendChild(a);\n",
              "      a.click();\n",
              "      div.remove();\n",
              "    }\n",
              "  "
            ]
          },
          "metadata": {}
        },
        {
          "output_type": "display_data",
          "data": {
            "text/plain": [
              "<IPython.core.display.Javascript object>"
            ],
            "application/javascript": [
              "download(\"download_8051d323-ebce-4f4c-8d8d-d9ab07261691\", \"emnist_capital_image_13.png\", 452)"
            ]
          },
          "metadata": {}
        },
        {
          "output_type": "display_data",
          "data": {
            "text/plain": [
              "<IPython.core.display.Javascript object>"
            ],
            "application/javascript": [
              "\n",
              "    async function download(id, filename, size) {\n",
              "      if (!google.colab.kernel.accessAllowed) {\n",
              "        return;\n",
              "      }\n",
              "      const div = document.createElement('div');\n",
              "      const label = document.createElement('label');\n",
              "      label.textContent = `Downloading \"${filename}\": `;\n",
              "      div.appendChild(label);\n",
              "      const progress = document.createElement('progress');\n",
              "      progress.max = size;\n",
              "      div.appendChild(progress);\n",
              "      document.body.appendChild(div);\n",
              "\n",
              "      const buffers = [];\n",
              "      let downloaded = 0;\n",
              "\n",
              "      const channel = await google.colab.kernel.comms.open(id);\n",
              "      // Send a message to notify the kernel that we're ready.\n",
              "      channel.send({})\n",
              "\n",
              "      for await (const message of channel.messages) {\n",
              "        // Send a message to notify the kernel that we're ready.\n",
              "        channel.send({})\n",
              "        if (message.buffers) {\n",
              "          for (const buffer of message.buffers) {\n",
              "            buffers.push(buffer);\n",
              "            downloaded += buffer.byteLength;\n",
              "            progress.value = downloaded;\n",
              "          }\n",
              "        }\n",
              "      }\n",
              "      const blob = new Blob(buffers, {type: 'application/binary'});\n",
              "      const a = document.createElement('a');\n",
              "      a.href = window.URL.createObjectURL(blob);\n",
              "      a.download = filename;\n",
              "      div.appendChild(a);\n",
              "      a.click();\n",
              "      div.remove();\n",
              "    }\n",
              "  "
            ]
          },
          "metadata": {}
        },
        {
          "output_type": "display_data",
          "data": {
            "text/plain": [
              "<IPython.core.display.Javascript object>"
            ],
            "application/javascript": [
              "download(\"download_a9ed4f8a-2583-44f2-a0d8-091492589f6d\", \"emnist_capital_image_14.png\", 393)"
            ]
          },
          "metadata": {}
        },
        {
          "output_type": "display_data",
          "data": {
            "text/plain": [
              "<IPython.core.display.Javascript object>"
            ],
            "application/javascript": [
              "\n",
              "    async function download(id, filename, size) {\n",
              "      if (!google.colab.kernel.accessAllowed) {\n",
              "        return;\n",
              "      }\n",
              "      const div = document.createElement('div');\n",
              "      const label = document.createElement('label');\n",
              "      label.textContent = `Downloading \"${filename}\": `;\n",
              "      div.appendChild(label);\n",
              "      const progress = document.createElement('progress');\n",
              "      progress.max = size;\n",
              "      div.appendChild(progress);\n",
              "      document.body.appendChild(div);\n",
              "\n",
              "      const buffers = [];\n",
              "      let downloaded = 0;\n",
              "\n",
              "      const channel = await google.colab.kernel.comms.open(id);\n",
              "      // Send a message to notify the kernel that we're ready.\n",
              "      channel.send({})\n",
              "\n",
              "      for await (const message of channel.messages) {\n",
              "        // Send a message to notify the kernel that we're ready.\n",
              "        channel.send({})\n",
              "        if (message.buffers) {\n",
              "          for (const buffer of message.buffers) {\n",
              "            buffers.push(buffer);\n",
              "            downloaded += buffer.byteLength;\n",
              "            progress.value = downloaded;\n",
              "          }\n",
              "        }\n",
              "      }\n",
              "      const blob = new Blob(buffers, {type: 'application/binary'});\n",
              "      const a = document.createElement('a');\n",
              "      a.href = window.URL.createObjectURL(blob);\n",
              "      a.download = filename;\n",
              "      div.appendChild(a);\n",
              "      a.click();\n",
              "      div.remove();\n",
              "    }\n",
              "  "
            ]
          },
          "metadata": {}
        },
        {
          "output_type": "display_data",
          "data": {
            "text/plain": [
              "<IPython.core.display.Javascript object>"
            ],
            "application/javascript": [
              "download(\"download_9d1b1884-f3e4-4334-9038-acc9fb92bf3c\", \"emnist_capital_image_15.png\", 412)"
            ]
          },
          "metadata": {}
        },
        {
          "output_type": "display_data",
          "data": {
            "text/plain": [
              "<IPython.core.display.Javascript object>"
            ],
            "application/javascript": [
              "\n",
              "    async function download(id, filename, size) {\n",
              "      if (!google.colab.kernel.accessAllowed) {\n",
              "        return;\n",
              "      }\n",
              "      const div = document.createElement('div');\n",
              "      const label = document.createElement('label');\n",
              "      label.textContent = `Downloading \"${filename}\": `;\n",
              "      div.appendChild(label);\n",
              "      const progress = document.createElement('progress');\n",
              "      progress.max = size;\n",
              "      div.appendChild(progress);\n",
              "      document.body.appendChild(div);\n",
              "\n",
              "      const buffers = [];\n",
              "      let downloaded = 0;\n",
              "\n",
              "      const channel = await google.colab.kernel.comms.open(id);\n",
              "      // Send a message to notify the kernel that we're ready.\n",
              "      channel.send({})\n",
              "\n",
              "      for await (const message of channel.messages) {\n",
              "        // Send a message to notify the kernel that we're ready.\n",
              "        channel.send({})\n",
              "        if (message.buffers) {\n",
              "          for (const buffer of message.buffers) {\n",
              "            buffers.push(buffer);\n",
              "            downloaded += buffer.byteLength;\n",
              "            progress.value = downloaded;\n",
              "          }\n",
              "        }\n",
              "      }\n",
              "      const blob = new Blob(buffers, {type: 'application/binary'});\n",
              "      const a = document.createElement('a');\n",
              "      a.href = window.URL.createObjectURL(blob);\n",
              "      a.download = filename;\n",
              "      div.appendChild(a);\n",
              "      a.click();\n",
              "      div.remove();\n",
              "    }\n",
              "  "
            ]
          },
          "metadata": {}
        },
        {
          "output_type": "display_data",
          "data": {
            "text/plain": [
              "<IPython.core.display.Javascript object>"
            ],
            "application/javascript": [
              "download(\"download_94182341-d77a-49a4-8a39-292604ca5a3d\", \"emnist_capital_image_16.png\", 535)"
            ]
          },
          "metadata": {}
        },
        {
          "output_type": "display_data",
          "data": {
            "text/plain": [
              "<IPython.core.display.Javascript object>"
            ],
            "application/javascript": [
              "\n",
              "    async function download(id, filename, size) {\n",
              "      if (!google.colab.kernel.accessAllowed) {\n",
              "        return;\n",
              "      }\n",
              "      const div = document.createElement('div');\n",
              "      const label = document.createElement('label');\n",
              "      label.textContent = `Downloading \"${filename}\": `;\n",
              "      div.appendChild(label);\n",
              "      const progress = document.createElement('progress');\n",
              "      progress.max = size;\n",
              "      div.appendChild(progress);\n",
              "      document.body.appendChild(div);\n",
              "\n",
              "      const buffers = [];\n",
              "      let downloaded = 0;\n",
              "\n",
              "      const channel = await google.colab.kernel.comms.open(id);\n",
              "      // Send a message to notify the kernel that we're ready.\n",
              "      channel.send({})\n",
              "\n",
              "      for await (const message of channel.messages) {\n",
              "        // Send a message to notify the kernel that we're ready.\n",
              "        channel.send({})\n",
              "        if (message.buffers) {\n",
              "          for (const buffer of message.buffers) {\n",
              "            buffers.push(buffer);\n",
              "            downloaded += buffer.byteLength;\n",
              "            progress.value = downloaded;\n",
              "          }\n",
              "        }\n",
              "      }\n",
              "      const blob = new Blob(buffers, {type: 'application/binary'});\n",
              "      const a = document.createElement('a');\n",
              "      a.href = window.URL.createObjectURL(blob);\n",
              "      a.download = filename;\n",
              "      div.appendChild(a);\n",
              "      a.click();\n",
              "      div.remove();\n",
              "    }\n",
              "  "
            ]
          },
          "metadata": {}
        },
        {
          "output_type": "display_data",
          "data": {
            "text/plain": [
              "<IPython.core.display.Javascript object>"
            ],
            "application/javascript": [
              "download(\"download_e29508a8-2fc2-475a-9ea9-1421d95de5af\", \"emnist_capital_image_17.png\", 330)"
            ]
          },
          "metadata": {}
        },
        {
          "output_type": "display_data",
          "data": {
            "text/plain": [
              "<IPython.core.display.Javascript object>"
            ],
            "application/javascript": [
              "\n",
              "    async function download(id, filename, size) {\n",
              "      if (!google.colab.kernel.accessAllowed) {\n",
              "        return;\n",
              "      }\n",
              "      const div = document.createElement('div');\n",
              "      const label = document.createElement('label');\n",
              "      label.textContent = `Downloading \"${filename}\": `;\n",
              "      div.appendChild(label);\n",
              "      const progress = document.createElement('progress');\n",
              "      progress.max = size;\n",
              "      div.appendChild(progress);\n",
              "      document.body.appendChild(div);\n",
              "\n",
              "      const buffers = [];\n",
              "      let downloaded = 0;\n",
              "\n",
              "      const channel = await google.colab.kernel.comms.open(id);\n",
              "      // Send a message to notify the kernel that we're ready.\n",
              "      channel.send({})\n",
              "\n",
              "      for await (const message of channel.messages) {\n",
              "        // Send a message to notify the kernel that we're ready.\n",
              "        channel.send({})\n",
              "        if (message.buffers) {\n",
              "          for (const buffer of message.buffers) {\n",
              "            buffers.push(buffer);\n",
              "            downloaded += buffer.byteLength;\n",
              "            progress.value = downloaded;\n",
              "          }\n",
              "        }\n",
              "      }\n",
              "      const blob = new Blob(buffers, {type: 'application/binary'});\n",
              "      const a = document.createElement('a');\n",
              "      a.href = window.URL.createObjectURL(blob);\n",
              "      a.download = filename;\n",
              "      div.appendChild(a);\n",
              "      a.click();\n",
              "      div.remove();\n",
              "    }\n",
              "  "
            ]
          },
          "metadata": {}
        },
        {
          "output_type": "display_data",
          "data": {
            "text/plain": [
              "<IPython.core.display.Javascript object>"
            ],
            "application/javascript": [
              "download(\"download_d6bc9d84-c863-4e6f-be0f-42adb415d346\", \"emnist_capital_image_18.png\", 366)"
            ]
          },
          "metadata": {}
        },
        {
          "output_type": "display_data",
          "data": {
            "text/plain": [
              "<IPython.core.display.Javascript object>"
            ],
            "application/javascript": [
              "\n",
              "    async function download(id, filename, size) {\n",
              "      if (!google.colab.kernel.accessAllowed) {\n",
              "        return;\n",
              "      }\n",
              "      const div = document.createElement('div');\n",
              "      const label = document.createElement('label');\n",
              "      label.textContent = `Downloading \"${filename}\": `;\n",
              "      div.appendChild(label);\n",
              "      const progress = document.createElement('progress');\n",
              "      progress.max = size;\n",
              "      div.appendChild(progress);\n",
              "      document.body.appendChild(div);\n",
              "\n",
              "      const buffers = [];\n",
              "      let downloaded = 0;\n",
              "\n",
              "      const channel = await google.colab.kernel.comms.open(id);\n",
              "      // Send a message to notify the kernel that we're ready.\n",
              "      channel.send({})\n",
              "\n",
              "      for await (const message of channel.messages) {\n",
              "        // Send a message to notify the kernel that we're ready.\n",
              "        channel.send({})\n",
              "        if (message.buffers) {\n",
              "          for (const buffer of message.buffers) {\n",
              "            buffers.push(buffer);\n",
              "            downloaded += buffer.byteLength;\n",
              "            progress.value = downloaded;\n",
              "          }\n",
              "        }\n",
              "      }\n",
              "      const blob = new Blob(buffers, {type: 'application/binary'});\n",
              "      const a = document.createElement('a');\n",
              "      a.href = window.URL.createObjectURL(blob);\n",
              "      a.download = filename;\n",
              "      div.appendChild(a);\n",
              "      a.click();\n",
              "      div.remove();\n",
              "    }\n",
              "  "
            ]
          },
          "metadata": {}
        },
        {
          "output_type": "display_data",
          "data": {
            "text/plain": [
              "<IPython.core.display.Javascript object>"
            ],
            "application/javascript": [
              "download(\"download_9ab5ace1-96b7-4b13-b2ce-0aaccbd64918\", \"emnist_capital_image_19.png\", 422)"
            ]
          },
          "metadata": {}
        },
        {
          "output_type": "display_data",
          "data": {
            "text/plain": [
              "<IPython.core.display.Javascript object>"
            ],
            "application/javascript": [
              "\n",
              "    async function download(id, filename, size) {\n",
              "      if (!google.colab.kernel.accessAllowed) {\n",
              "        return;\n",
              "      }\n",
              "      const div = document.createElement('div');\n",
              "      const label = document.createElement('label');\n",
              "      label.textContent = `Downloading \"${filename}\": `;\n",
              "      div.appendChild(label);\n",
              "      const progress = document.createElement('progress');\n",
              "      progress.max = size;\n",
              "      div.appendChild(progress);\n",
              "      document.body.appendChild(div);\n",
              "\n",
              "      const buffers = [];\n",
              "      let downloaded = 0;\n",
              "\n",
              "      const channel = await google.colab.kernel.comms.open(id);\n",
              "      // Send a message to notify the kernel that we're ready.\n",
              "      channel.send({})\n",
              "\n",
              "      for await (const message of channel.messages) {\n",
              "        // Send a message to notify the kernel that we're ready.\n",
              "        channel.send({})\n",
              "        if (message.buffers) {\n",
              "          for (const buffer of message.buffers) {\n",
              "            buffers.push(buffer);\n",
              "            downloaded += buffer.byteLength;\n",
              "            progress.value = downloaded;\n",
              "          }\n",
              "        }\n",
              "      }\n",
              "      const blob = new Blob(buffers, {type: 'application/binary'});\n",
              "      const a = document.createElement('a');\n",
              "      a.href = window.URL.createObjectURL(blob);\n",
              "      a.download = filename;\n",
              "      div.appendChild(a);\n",
              "      a.click();\n",
              "      div.remove();\n",
              "    }\n",
              "  "
            ]
          },
          "metadata": {}
        },
        {
          "output_type": "display_data",
          "data": {
            "text/plain": [
              "<IPython.core.display.Javascript object>"
            ],
            "application/javascript": [
              "download(\"download_c3981c08-f320-4aed-ae0c-6ebad52ad280\", \"emnist_capital_image_20.png\", 536)"
            ]
          },
          "metadata": {}
        }
      ]
    },
    {
      "cell_type": "code",
      "source": [
        "import os\n",
        "print(os.listdir())\n"
      ],
      "metadata": {
        "colab": {
          "base_uri": "https://localhost:8080/"
        },
        "id": "EEwMjrb-nDqp",
        "outputId": "97d2122e-b446-4b0a-ef4e-7328c746b88b"
      },
      "execution_count": 66,
      "outputs": [
        {
          "output_type": "stream",
          "name": "stdout",
          "text": [
            "['.config', 'emnist_capital_image_5.png', 'emnist_capital_image_3.zip', 'emnist_capital_image_7.png', 'emnist_capital_image_4.png', 'emnist_capital_image_10.png', 'emnist_capital_image_5.zip', 'emnist_images.zip', 'emnist_capital_image_11.png', 'emnist_capital_image_14.png', 'emnist_capital_image_2.png', 'emnist_capital_image_2.zip', 'emnist_capital_image_17.png', 'emnist_images', 'emnist_capital_image_8.zip', 'emnist_capital_image_13.png', 'emnist_capital_image_19.png', 'emnist_capital_image_12.png', 'emnist_capital_image_6.zip', 'emnist_capital_image_8.png', 'rms_trained.joblib', 'emnist_capital_image_3.png', 'emnist_capital_image_18.png', 'emnist_capital_image_15.png', 'emnist_capital_image_6.png', 'emnist_capital_image_20.png', 'emnist_capital_image_9.png', 'emnist_capital_image_7.zip', 'emnist_capital_image_1.png', 'emnist_capital_image_4.zip', 'emnist_capital_image_10.zip', 'confusion_matrix.png', 'emnist_capital_image_1.zip', 'emnist_capital_image_16.png', 'emnist_capital_image_9.zip', 'sample_data']\n"
          ]
        }
      ]
    },
    {
      "cell_type": "code",
      "source": [],
      "metadata": {
        "id": "d2nTt40poupO"
      },
      "execution_count": null,
      "outputs": []
    }
  ],
  "metadata": {
    "colab": {
      "provenance": [],
      "authorship_tag": "ABX9TyOxLlBZcnsSF2HbBcxyExCA",
      "include_colab_link": true
    },
    "kernelspec": {
      "display_name": "Python 3",
      "name": "python3"
    },
    "language_info": {
      "name": "python"
    },
    "accelerator": "TPU",
    "widgets": {
      "application/vnd.jupyter.widget-state+json": {
        "b576e89d0e03461fb4169a7d0add3ca3": {
          "model_module": "@jupyter-widgets/controls",
          "model_name": "VBoxModel",
          "model_module_version": "1.5.0",
          "state": {
            "_dom_classes": [],
            "_model_module": "@jupyter-widgets/controls",
            "_model_module_version": "1.5.0",
            "_model_name": "VBoxModel",
            "_view_count": null,
            "_view_module": "@jupyter-widgets/controls",
            "_view_module_version": "1.5.0",
            "_view_name": "VBoxView",
            "box_style": "",
            "children": [
              "IPY_MODEL_c4a70ba9854b40959063db00bd1f951a",
              "IPY_MODEL_5466280621c34ca582ac124c0efce991"
            ],
            "layout": "IPY_MODEL_cc2732702fe94d91b056ae50ed5c5d25"
          }
        },
        "c4a70ba9854b40959063db00bd1f951a": {
          "model_module": "@jupyter-widgets/controls",
          "model_name": "LabelModel",
          "model_module_version": "1.5.0",
          "state": {
            "_dom_classes": [],
            "_model_module": "@jupyter-widgets/controls",
            "_model_module_version": "1.5.0",
            "_model_name": "LabelModel",
            "_view_count": null,
            "_view_module": "@jupyter-widgets/controls",
            "_view_module_version": "1.5.0",
            "_view_name": "LabelView",
            "description": "",
            "description_tooltip": null,
            "layout": "IPY_MODEL_5d9b23263eee465ea02d2b3b8655c640",
            "placeholder": "​",
            "style": "IPY_MODEL_345134fc1d3446a39c903a1471886859",
            "value": "0.011 MB of 0.011 MB uploaded\r"
          }
        },
        "5466280621c34ca582ac124c0efce991": {
          "model_module": "@jupyter-widgets/controls",
          "model_name": "FloatProgressModel",
          "model_module_version": "1.5.0",
          "state": {
            "_dom_classes": [],
            "_model_module": "@jupyter-widgets/controls",
            "_model_module_version": "1.5.0",
            "_model_name": "FloatProgressModel",
            "_view_count": null,
            "_view_module": "@jupyter-widgets/controls",
            "_view_module_version": "1.5.0",
            "_view_name": "ProgressView",
            "bar_style": "",
            "description": "",
            "description_tooltip": null,
            "layout": "IPY_MODEL_90ace883a8674c06befee67db5127add",
            "max": 1,
            "min": 0,
            "orientation": "horizontal",
            "style": "IPY_MODEL_3924388287834e90b974ae66510c097d",
            "value": 1
          }
        },
        "cc2732702fe94d91b056ae50ed5c5d25": {
          "model_module": "@jupyter-widgets/base",
          "model_name": "LayoutModel",
          "model_module_version": "1.2.0",
          "state": {
            "_model_module": "@jupyter-widgets/base",
            "_model_module_version": "1.2.0",
            "_model_name": "LayoutModel",
            "_view_count": null,
            "_view_module": "@jupyter-widgets/base",
            "_view_module_version": "1.2.0",
            "_view_name": "LayoutView",
            "align_content": null,
            "align_items": null,
            "align_self": null,
            "border": null,
            "bottom": null,
            "display": null,
            "flex": null,
            "flex_flow": null,
            "grid_area": null,
            "grid_auto_columns": null,
            "grid_auto_flow": null,
            "grid_auto_rows": null,
            "grid_column": null,
            "grid_gap": null,
            "grid_row": null,
            "grid_template_areas": null,
            "grid_template_columns": null,
            "grid_template_rows": null,
            "height": null,
            "justify_content": null,
            "justify_items": null,
            "left": null,
            "margin": null,
            "max_height": null,
            "max_width": null,
            "min_height": null,
            "min_width": null,
            "object_fit": null,
            "object_position": null,
            "order": null,
            "overflow": null,
            "overflow_x": null,
            "overflow_y": null,
            "padding": null,
            "right": null,
            "top": null,
            "visibility": null,
            "width": null
          }
        },
        "5d9b23263eee465ea02d2b3b8655c640": {
          "model_module": "@jupyter-widgets/base",
          "model_name": "LayoutModel",
          "model_module_version": "1.2.0",
          "state": {
            "_model_module": "@jupyter-widgets/base",
            "_model_module_version": "1.2.0",
            "_model_name": "LayoutModel",
            "_view_count": null,
            "_view_module": "@jupyter-widgets/base",
            "_view_module_version": "1.2.0",
            "_view_name": "LayoutView",
            "align_content": null,
            "align_items": null,
            "align_self": null,
            "border": null,
            "bottom": null,
            "display": null,
            "flex": null,
            "flex_flow": null,
            "grid_area": null,
            "grid_auto_columns": null,
            "grid_auto_flow": null,
            "grid_auto_rows": null,
            "grid_column": null,
            "grid_gap": null,
            "grid_row": null,
            "grid_template_areas": null,
            "grid_template_columns": null,
            "grid_template_rows": null,
            "height": null,
            "justify_content": null,
            "justify_items": null,
            "left": null,
            "margin": null,
            "max_height": null,
            "max_width": null,
            "min_height": null,
            "min_width": null,
            "object_fit": null,
            "object_position": null,
            "order": null,
            "overflow": null,
            "overflow_x": null,
            "overflow_y": null,
            "padding": null,
            "right": null,
            "top": null,
            "visibility": null,
            "width": null
          }
        },
        "345134fc1d3446a39c903a1471886859": {
          "model_module": "@jupyter-widgets/controls",
          "model_name": "DescriptionStyleModel",
          "model_module_version": "1.5.0",
          "state": {
            "_model_module": "@jupyter-widgets/controls",
            "_model_module_version": "1.5.0",
            "_model_name": "DescriptionStyleModel",
            "_view_count": null,
            "_view_module": "@jupyter-widgets/base",
            "_view_module_version": "1.2.0",
            "_view_name": "StyleView",
            "description_width": ""
          }
        },
        "90ace883a8674c06befee67db5127add": {
          "model_module": "@jupyter-widgets/base",
          "model_name": "LayoutModel",
          "model_module_version": "1.2.0",
          "state": {
            "_model_module": "@jupyter-widgets/base",
            "_model_module_version": "1.2.0",
            "_model_name": "LayoutModel",
            "_view_count": null,
            "_view_module": "@jupyter-widgets/base",
            "_view_module_version": "1.2.0",
            "_view_name": "LayoutView",
            "align_content": null,
            "align_items": null,
            "align_self": null,
            "border": null,
            "bottom": null,
            "display": null,
            "flex": null,
            "flex_flow": null,
            "grid_area": null,
            "grid_auto_columns": null,
            "grid_auto_flow": null,
            "grid_auto_rows": null,
            "grid_column": null,
            "grid_gap": null,
            "grid_row": null,
            "grid_template_areas": null,
            "grid_template_columns": null,
            "grid_template_rows": null,
            "height": null,
            "justify_content": null,
            "justify_items": null,
            "left": null,
            "margin": null,
            "max_height": null,
            "max_width": null,
            "min_height": null,
            "min_width": null,
            "object_fit": null,
            "object_position": null,
            "order": null,
            "overflow": null,
            "overflow_x": null,
            "overflow_y": null,
            "padding": null,
            "right": null,
            "top": null,
            "visibility": null,
            "width": null
          }
        },
        "3924388287834e90b974ae66510c097d": {
          "model_module": "@jupyter-widgets/controls",
          "model_name": "ProgressStyleModel",
          "model_module_version": "1.5.0",
          "state": {
            "_model_module": "@jupyter-widgets/controls",
            "_model_module_version": "1.5.0",
            "_model_name": "ProgressStyleModel",
            "_view_count": null,
            "_view_module": "@jupyter-widgets/base",
            "_view_module_version": "1.2.0",
            "_view_name": "StyleView",
            "bar_color": null,
            "description_width": ""
          }
        }
      }
    }
  },
  "nbformat": 4,
  "nbformat_minor": 0
}