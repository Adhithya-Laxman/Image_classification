{
  "nbformat": 4,
  "nbformat_minor": 0,
  "metadata": {
    "colab": {
      "provenance": [],
      "authorship_tag": "ABX9TyO3N7cp4oajAZAxRT+ubxkl",
      "include_colab_link": true
    },
    "kernelspec": {
      "name": "python3",
      "display_name": "Python 3"
    },
    "language_info": {
      "name": "python"
    }
  },
  "cells": [
    {
      "cell_type": "markdown",
      "metadata": {
        "id": "view-in-github",
        "colab_type": "text"
      },
      "source": [
        "<a href=\"https://colab.research.google.com/github/Adhithya-Laxman/Image_classification/blob/main/Image_classification.ipynb\" target=\"_parent\"><img src=\"https://colab.research.google.com/assets/colab-badge.svg\" alt=\"Open In Colab\"/></a>"
      ]
    },
    {
      "cell_type": "code",
      "execution_count": 1,
      "metadata": {
        "id": "EEX8bMYrX1Tn",
        "colab": {
          "base_uri": "https://localhost:8080/"
        },
        "outputId": "54e48f1d-c25a-4afb-8c5d-f4584e259ee4"
      },
      "outputs": [
        {
          "output_type": "stream",
          "name": "stdout",
          "text": [
            "Collecting wandb\n",
            "  Downloading wandb-0.15.8-py3-none-any.whl (2.1 MB)\n",
            "\u001b[2K     \u001b[90m━━━━━━━━━━━━━━━━━━━━━━━━━━━━━━━━━━━━━━━━\u001b[0m \u001b[32m2.1/2.1 MB\u001b[0m \u001b[31m7.7 MB/s\u001b[0m eta \u001b[36m0:00:00\u001b[0m\n",
            "\u001b[?25hRequirement already satisfied: Click!=8.0.0,>=7.1 in /usr/local/lib/python3.10/dist-packages (from wandb) (8.1.6)\n",
            "Collecting GitPython!=3.1.29,>=1.0.0 (from wandb)\n",
            "  Downloading GitPython-3.1.32-py3-none-any.whl (188 kB)\n",
            "\u001b[2K     \u001b[90m━━━━━━━━━━━━━━━━━━━━━━━━━━━━━━━━━━━━━━━\u001b[0m \u001b[32m188.5/188.5 kB\u001b[0m \u001b[31m8.9 MB/s\u001b[0m eta \u001b[36m0:00:00\u001b[0m\n",
            "\u001b[?25hRequirement already satisfied: requests<3,>=2.0.0 in /usr/local/lib/python3.10/dist-packages (from wandb) (2.31.0)\n",
            "Requirement already satisfied: psutil>=5.0.0 in /usr/local/lib/python3.10/dist-packages (from wandb) (5.9.5)\n",
            "Collecting sentry-sdk>=1.0.0 (from wandb)\n",
            "  Downloading sentry_sdk-1.29.2-py2.py3-none-any.whl (215 kB)\n",
            "\u001b[2K     \u001b[90m━━━━━━━━━━━━━━━━━━━━━━━━━━━━━━━━━━━━━━━\u001b[0m \u001b[32m215.6/215.6 kB\u001b[0m \u001b[31m5.3 MB/s\u001b[0m eta \u001b[36m0:00:00\u001b[0m\n",
            "\u001b[?25hCollecting docker-pycreds>=0.4.0 (from wandb)\n",
            "  Downloading docker_pycreds-0.4.0-py2.py3-none-any.whl (9.0 kB)\n",
            "Requirement already satisfied: PyYAML in /usr/local/lib/python3.10/dist-packages (from wandb) (6.0.1)\n",
            "Collecting pathtools (from wandb)\n",
            "  Downloading pathtools-0.1.2.tar.gz (11 kB)\n",
            "  Preparing metadata (setup.py) ... \u001b[?25l\u001b[?25hdone\n",
            "Collecting setproctitle (from wandb)\n",
            "  Downloading setproctitle-1.3.2-cp310-cp310-manylinux_2_5_x86_64.manylinux1_x86_64.manylinux_2_17_x86_64.manylinux2014_x86_64.whl (30 kB)\n",
            "Requirement already satisfied: setuptools in /usr/local/lib/python3.10/dist-packages (from wandb) (67.7.2)\n",
            "Requirement already satisfied: appdirs>=1.4.3 in /usr/local/lib/python3.10/dist-packages (from wandb) (1.4.4)\n",
            "Requirement already satisfied: protobuf!=4.21.0,<5,>=3.19.0 in /usr/local/lib/python3.10/dist-packages (from wandb) (3.20.3)\n",
            "Requirement already satisfied: six>=1.4.0 in /usr/local/lib/python3.10/dist-packages (from docker-pycreds>=0.4.0->wandb) (1.16.0)\n",
            "Collecting gitdb<5,>=4.0.1 (from GitPython!=3.1.29,>=1.0.0->wandb)\n",
            "  Downloading gitdb-4.0.10-py3-none-any.whl (62 kB)\n",
            "\u001b[2K     \u001b[90m━━━━━━━━━━━━━━━━━━━━━━━━━━━━━━━━━━━━━━━━\u001b[0m \u001b[32m62.7/62.7 kB\u001b[0m \u001b[31m6.1 MB/s\u001b[0m eta \u001b[36m0:00:00\u001b[0m\n",
            "\u001b[?25hRequirement already satisfied: charset-normalizer<4,>=2 in /usr/local/lib/python3.10/dist-packages (from requests<3,>=2.0.0->wandb) (3.2.0)\n",
            "Requirement already satisfied: idna<4,>=2.5 in /usr/local/lib/python3.10/dist-packages (from requests<3,>=2.0.0->wandb) (3.4)\n",
            "Requirement already satisfied: urllib3<3,>=1.21.1 in /usr/local/lib/python3.10/dist-packages (from requests<3,>=2.0.0->wandb) (1.26.16)\n",
            "Requirement already satisfied: certifi>=2017.4.17 in /usr/local/lib/python3.10/dist-packages (from requests<3,>=2.0.0->wandb) (2023.7.22)\n",
            "Collecting smmap<6,>=3.0.1 (from gitdb<5,>=4.0.1->GitPython!=3.1.29,>=1.0.0->wandb)\n",
            "  Downloading smmap-5.0.0-py3-none-any.whl (24 kB)\n",
            "Building wheels for collected packages: pathtools\n",
            "  Building wheel for pathtools (setup.py) ... \u001b[?25l\u001b[?25hdone\n",
            "  Created wheel for pathtools: filename=pathtools-0.1.2-py3-none-any.whl size=8791 sha256=ea0fdc62fb64538e5efb6dcbcb33f8e4aaa326270de49916e20e6da5adcd25b2\n",
            "  Stored in directory: /root/.cache/pip/wheels/e7/f3/22/152153d6eb222ee7a56ff8617d80ee5207207a8c00a7aab794\n",
            "Successfully built pathtools\n",
            "Installing collected packages: pathtools, smmap, setproctitle, sentry-sdk, docker-pycreds, gitdb, GitPython, wandb\n",
            "Successfully installed GitPython-3.1.32 docker-pycreds-0.4.0 gitdb-4.0.10 pathtools-0.1.2 sentry-sdk-1.29.2 setproctitle-1.3.2 smmap-5.0.0 wandb-0.15.8\n"
          ]
        }
      ],
      "source": [
        "!pip install wandb"
      ]
    },
    {
      "cell_type": "code",
      "source": [
        "# Task 1 -- Loading the datasets and the packages\n",
        "from keras.datasets import fashion_mnist\n",
        "from keras.datasets import mnist\n",
        "import numpy as np\n",
        "import pandas as pd\n",
        "import matplotlib.pyplot as plt\n",
        "import wandb\n",
        "import random"
      ],
      "metadata": {
        "id": "icEDNYu9ZS2C"
      },
      "execution_count": 2,
      "outputs": []
    },
    {
      "cell_type": "markdown",
      "source": [
        "\n",
        "\n",
        "> Plotting a sample image for each class\n"
      ],
      "metadata": {
        "id": "5zposwGaauJl"
      }
    },
    {
      "cell_type": "code",
      "source": [
        "# Loading the dataset:\n",
        "\n",
        "(X, y),_= fashion_mnist.load_data()\n",
        "(train_images, train_labels) = (X,y)\n",
        "\n",
        "# (X_train, Y_train),(X_test, Y_test) = fashion_mnist.load_data()\n",
        "# # Defining Class Labels:\n",
        "\n",
        "# print(X_train.shape)\n",
        "# print(Y_train.shape)\n",
        "# print(X_test.shape)\n",
        "# print(Y_test.shape)\n",
        "class_labels = [\n",
        "    \"T-shirt/top\", \"Trouser\", \"Pullover\", \"Dress\",\n",
        "    \"Coat\", \"Sandal\", \"Shirt\", \"Sneaker\",\n",
        "    \"Bag\", \"Ankle boot\"\n",
        "]\n",
        "\n",
        "\n",
        "\n",
        "# Plotting a sample image for each class:\n",
        "\n",
        "plt.figure(figsize=(12,12))\n",
        "for i in range(len(class_labels)):\n",
        "  # Get the image data matching the current class i\n",
        "  ind = np.where(train_labels == i)[0][0]\n",
        "  image  = train_images[ind]\n",
        "  # plot\n",
        "  # plt.title(\"examples\")\n",
        "  plt.subplot(1, len(class_labels), i+1)\n",
        "  plt.imshow(image,cmap = 'gray')\n",
        "  plt.title(class_labels[i])\n",
        "plt.show()"
      ],
      "metadata": {
        "colab": {
          "base_uri": "https://localhost:8080/",
          "height": 109
        },
        "id": "yyW9_MKIaMxj",
        "outputId": "5bb023ef-804d-4ab4-db72-23b9dc8ccc69"
      },
      "execution_count": 5,
      "outputs": [
        {
          "output_type": "display_data",
          "data": {
            "text/plain": [
              "<Figure size 1200x1200 with 10 Axes>"
            ],
            "image/png": "[encoded data removed]"
          },
          "metadata": {}
        }
      ]
    },
    {
      "cell_type": "markdown",
      "source": [
        "Preprocessing dataset"
      ],
      "metadata": {
        "id": "egMHEnG2en8T"
      }
    },
    {
      "cell_type": "code",
      "source": [
        "import numpy as np\n",
        "from keras.datasets import fashion_mnist\n",
        "from sklearn.model_selection import train_test_split\n",
        "\n",
        "def preprocess_fashion_mnist():\n",
        "    # Load the Fashion-MNIST dataset\n",
        "    (X_train, y_train), (X_test, y_test) = fashion_mnist.load_data()\n",
        "\n",
        "    # Flatten and normalize the input data\n",
        "    X_train = X_train.reshape(-1, 28*28)  # Flatten each image to a 1D vector\n",
        "    X_test = X_test.reshape(-1, 28*28)\n",
        "    X_train = X_train.astype('float32') / 255.0  # Normalize pixel values to [0, 1]\n",
        "    X_test = X_test.astype('float32') / 255.0\n",
        "\n",
        "    # One-hot encode the labels\n",
        "    num_classes = 10\n",
        "    y_train = np.eye(num_classes)[y_train]  # One-hot encode the training labels\n",
        "    y_test = np.eye(num_classes)[y_test]    # One-hot encode the test labels\n",
        "\n",
        "    # Split the data into training, validation, and test sets\n",
        "    X_train, X_val, y_train, y_val = train_test_split(X_train, y_train, test_size=6000, random_state=42)\n",
        "\n",
        "    # Transpose the data to match the (features, batch_size) format expected by the function\n",
        "    X_train = X_train.T\n",
        "    X_val = X_val.T\n",
        "    X_test = X_test.T\n",
        "    # print(type(X_train))\n",
        "\n",
        "    y_train = y_train.T\n",
        "    y_val = y_val.T\n",
        "    y_test = y_test.T\n",
        "    # Print the number of images in X and y for training, validation, and testing datasets\n",
        "    print(\"Number of images in the training set =\", X_train.shape[1])\n",
        "    print(\"Number of images in the validation set =\", X_val.shape[1])\n",
        "    print(\"Number of images in the test set =\", X_test.shape[1])\n",
        "    print(\"Number of classes =\", num_classes)\n",
        "    print(\"Number of features per example =\", X_train.shape[0])\n",
        "\n",
        "    return X_train, y_train, X_val, y_val, X_test, y_test\n",
        "\n",
        "# Preprocess the Fashion-MNIST dataset\n",
        "X_train, Y_train, X_val, Y_val, X_test, Y_test = preprocess_fashion_mnist()\n",
        "print(X_train.shape)\n",
        "print(Y_train.shape)\n",
        "print(X_test.shape)\n",
        "print(Y_test.shape)\n"
      ],
      "metadata": {
        "colab": {
          "base_uri": "https://localhost:8080/"
        },
        "id": "8YrwAAhhenIM",
        "outputId": "c4ec6b95-8f64-4f48-ce5b-d28129e0c8cb"
      },
      "execution_count": 6,
      "outputs": [
        {
          "output_type": "stream",
          "name": "stdout",
          "text": [
            "Number of images in the training set = 54000\n",
            "Number of images in the validation set = 6000\n",
            "Number of images in the test set = 10000\n",
            "Number of classes = 10\n",
            "Number of features per example = 784\n",
            "(784, 54000)\n",
            "(10, 54000)\n",
            "(784, 10000)\n",
            "(10, 10000)\n"
          ]
        }
      ]
    },
    {
      "cell_type": "markdown",
      "source": [
        "IMPLEMENTATION OF FEEDFORWARD NEURAL NETWORK:<br>\n",
        "It takes the images from the fashion-mnist data as input and outputs a probability distribution over the 10 classes."
      ],
      "metadata": {
        "id": "A092TyAthLMY"
      }
    },
    {
      "cell_type": "markdown",
      "source": [
        "ACTIVATION FUNCTION AND DERIVATIVES"
      ],
      "metadata": {
        "id": "xuk6S7P75d9N"
      }
    },
    {
      "cell_type": "code",
      "source": [
        "# index = random.randrange(0,X_train.shape[1])\n",
        "# plt.imshow(X_train[:, index].reshape(28,28), cmap = 'gray')\n",
        "# plt.show()"
      ],
      "metadata": {
        "id": "-dMHKgD0CxLR"
      },
      "execution_count": 7,
      "outputs": []
    },
    {
      "cell_type": "code",
      "source": [
        "def sigmoid(x):\n",
        "    return 1. / (1.+np.exp(-x))\n",
        "\n",
        "def sigmoid_derivative(x):\n",
        "    return sigmoid(x) * (1-sigmoid(x))\n",
        "\n",
        "def softmax_derivative(x):\n",
        "    return softmax(x) * (1-softmax(x))\n",
        "\n",
        "def tanh(x):\n",
        "    return np.tanh(x)\n",
        "\n",
        "def relu(x):\n",
        "    return np.maximum(x, 0)\n",
        "\n",
        "def softmax(x):\n",
        "    expX = np.exp(x)\n",
        "    return expX/np.sum(expX, axis = 0)\n",
        "def derivative_tanh(x):\n",
        "    return (1 - np.power(np.tanh(x), 2))\n",
        "\n",
        "def derivative_relu(x):\n",
        "    return np.array(x>0, dtype = np.float32)"
      ],
      "metadata": {
        "id": "nuDlc044inYt"
      },
      "execution_count": 8,
      "outputs": []
    },
    {
      "cell_type": "code",
      "source": [],
      "metadata": {
        "id": "ok3YQMN1TzNk"
      },
      "execution_count": 8,
      "outputs": []
    },
    {
      "cell_type": "markdown",
      "source": [
        "Initializing parameters"
      ],
      "metadata": {
        "id": "kcrPR4DYYs8G"
      }
    },
    {
      "cell_type": "code",
      "source": [
        "# layer_dims = [X.shape[1],100,200,Y.shape[0]]\n",
        "def initialize_parameters(layer_dims):\n",
        "    L = len(layer_dims)\n",
        "    parameters = {}\n",
        "    for l in range(1,L):\n",
        "#         print(L)\n",
        "        parameters[f\"W{l}\"] = np.random.randn(layer_dims[l], layer_dims[l-1])/np.sqrt(layer_dims[l-1])  #the div is to prevent the vanishing gradient prob if the weights initialized at the beginning is too big\n",
        "        parameters[f\"b{l}\"] = np.zeros((layer_dims[l], 1))\n",
        "\n",
        "    return parameters"
      ],
      "metadata": {
        "id": "UOlYfYMtDbUg"
      },
      "execution_count": 9,
      "outputs": []
    },
    {
      "cell_type": "code",
      "source": [
        "layer_dims = [X_train.shape[0], 100, 200, Y_train.shape[0]]\n",
        "print(layer_dims)\n",
        "params = initialize_parameters(layer_dims)\n",
        "\n",
        "for l in range(1, len(layer_dims)):\n",
        "    print(\"Shape of W\" + str(l) + \":\", params['W' + str(l)].shape)\n",
        "    print(\"Shape of B\" + str(l) + \":\", params['b' + str(l)].shape, \"\\n\")"
      ],
      "metadata": {
        "colab": {
          "base_uri": "https://localhost:8080/"
        },
        "id": "j_AkMBt9De9B",
        "outputId": "09c18341-7744-46ff-a83e-264fceb31013"
      },
      "execution_count": 10,
      "outputs": [
        {
          "output_type": "stream",
          "name": "stdout",
          "text": [
            "[784, 100, 200, 10]\n",
            "Shape of W1: (100, 784)\n",
            "Shape of B1: (100, 1) \n",
            "\n",
            "Shape of W2: (200, 100)\n",
            "Shape of B2: (200, 1) \n",
            "\n",
            "Shape of W3: (10, 200)\n",
            "Shape of B3: (10, 1) \n",
            "\n"
          ]
        }
      ]
    },
    {
      "cell_type": "code",
      "source": [
        "# import numpy as np\n",
        "\n",
        "# # Initialize parameters\n",
        "# def initialize_parameters(layer_sizes, mode='xavier'):\n",
        "#   np.random.seed(42)\n",
        "#   parameters = {}\n",
        "#   for i in range(1, len(layer_sizes)):\n",
        "#     if mode == \"xavier\" :\n",
        "#       parameters[\"W\" + str(i)] = np.random.randn(layer_sizes[i], layer_sizes[i-1])*np.sqrt(2./(layer_sizes[i] + layer_sizes[i-1]))\n",
        "#       parameters[\"b\" + str(i)] = np.zeros((layer_sizes[i],1))\n",
        "#     elif mode == \"random\" :\n",
        "#       parameters[\"W\" + str(i)] = 0.01*np.random.randn(layer_sizes[i], layer_sizes[i-1])\n",
        "#       parameters[\"b\" + str(i)] = 0.01*np.random.randn(layer_sizes[i],1)\n",
        "\n",
        "#   return parameters\n",
        "\n",
        "# def update_init(sizes) :                                  # function to initialize update dictionary that changes the weights and biases\n",
        "#   update = {}\n",
        "#   for i in range(1,len(sizes)):\n",
        "#    update[\"W\"+str(i)] = np.zeros((sizes[i],sizes[i-1]))\n",
        "#    update[\"b\"+str(i)] = np.zeros((sizes[i],1))\n",
        "\n",
        "#   return update\n",
        "\n",
        "# def update_parameters(parameters, gradients, learning_rate):\n",
        "#     L = len(parameters) // 2\n",
        "#     for l in range(1, L + 1):\n",
        "#         parameters[f\"W{l}\"] -= learning_rate * gradients[f\"dW{l}\"]\n",
        "#         parameters[f\"b{l}\"] -= learning_rate * gradients[f\"db{l}\"]\n",
        "\n",
        "#     return parameters\n",
        "\n",
        "# def loss_compute(y,y_hat,parameters,loss_type,reg,sizes):                                               # function to compute the loss/error (both squared error and cross entropy)\n",
        "\n",
        "#   if (loss_type == \"squared_error\"):\n",
        "#     error = np.sum((y-y_hat)**2)/(2*len(y))\n",
        "#   elif (loss_type == \"cross_entropy\") :\n",
        "#     error = -1*np.sum(np.multiply(y,np.log(y_hat)))/len(y)\n",
        "\n",
        "#   reg_error = 0.0                                                                        # account for regularization to avoid overfit of data - L2 norm regularization\n",
        "#   for i in range(1,len(sizes)) :\n",
        "#     reg_error = reg_error + (reg/2)*(np.sum(np.square(parameters[\"W\"+str(i)])))\n",
        "#   error = error + reg_error\n",
        "\n",
        "#   return error\n"
      ],
      "metadata": {
        "id": "5yoc7zDQYsaM"
      },
      "execution_count": 11,
      "outputs": []
    },
    {
      "cell_type": "markdown",
      "source": [
        "FEED FORWARD NEURAL NETWORK:"
      ],
      "metadata": {
        "id": "uTYy9bOn6Fjw"
      }
    },
    {
      "cell_type": "markdown",
      "source": [
        "Forward Propagation\n"
      ],
      "metadata": {
        "id": "_SR4dPmwnOl3"
      }
    },
    {
      "cell_type": "code",
      "source": [
        "def forward_prop(X, parameters, activation = 'relu'):\n",
        "    forward_cache = {}\n",
        "    L = len(parameters)//2\n",
        "    forward_cache[\"A0\"] = X\n",
        "\n",
        "    for l in range(1, L):\n",
        "        forward_cache[f\"Z{l}\"] = parameters[f\"W{l}\"].dot(forward_cache[f\"A{l-1}\"]) + parameters[f\"b{l}\"]\n",
        "        if activation == 'relu':\n",
        "            forward_cache[f\"A{l}\"] = relu(forward_cache[f\"Z{l}\"])\n",
        "        else:\n",
        "            forward_cache[f\"A{l}\"] = tanh(forward_cache[f\"Z{l}\"])\n",
        "\n",
        "\n",
        "    forward_cache[f\"Z{L}\"] = parameters[f\"W{L}\"].dot(forward_cache[f\"A{L-1}\"]) + parameters[f\"b{L}\"]\n",
        "    if forward_cache[f\"Z{L}\"].shape[0] == 1:\n",
        "        forward_cache[f\"A{L}\"] = sigmoid(forward_cache[f\"Z{L}\"])\n",
        "    else:\n",
        "        forward_cache[f\"A{L}\"] = softmax(forward_cache[f\"Z{L}\"])\n",
        "\n",
        "    return forward_cache[f\"A{L}\"], forward_cache\n",
        "\n",
        "\n",
        "\n",
        "\n",
        "\n",
        "# def forward_propagation(X, params, layer_sizes, mode):\n",
        "#     A = {}\n",
        "#     H = {}\n",
        "#     # Z = A, A = H\n",
        "#     L = len(layer_sizes)\n",
        "#     H[0] = X  # Initialize input data as A[0]\n",
        "#     for k in range(1, L):\n",
        "#         W = params[\"W\" + str(k)]\n",
        "#         b = params[\"b\" + str(k)]\n",
        "#         A[k] = b + np.dot(W, H[k - 1])\n",
        "#         if mode == 'sigmoid':\n",
        "#             H[k] = sigmoid(A[k])\n",
        "#         elif mode == 'tanh':\n",
        "#             H[k] = tanh(A[k])\n",
        "#         elif mode == 'relu':\n",
        "#             H[k] = relu(A[k])\n",
        "#     W = params[\"W\" + str(L-1)]\n",
        "#     b = params[\"b\" + str(L-1)]\n",
        "#     A[L-1] = b + np.dot(W, H[L - 2])\n",
        "#     y_hat = softmax(A[L-1])\n",
        "#     return y_hat, H, A\n",
        "\n",
        "\n",
        "# def forward_propagation(X, params, layer_sizes, mode):\n",
        "#     A = {}\n",
        "#     H = {}\n",
        "#     # Z = A, A = H\n",
        "#     L = len(layer_sizes)\n",
        "#     H[0] = X  # Initialize input data as A[0]\n",
        "#     for k in range(1, L):\n",
        "#         W = params[\"W\" + str(k)]\n",
        "#         b = params[\"b\" + str(k)]\n",
        "#         A[k] = b + np.dot(W, H[k - 1])\n",
        "#         if mode == 'sigmoid':\n",
        "#             H[k] = sigmoid(A[k])\n",
        "#         elif mode == 'tanh':\n",
        "#             H[k] = tanh(A[k])\n",
        "#         elif mode == 'relu':\n",
        "#             H[k] = relu(A[k])\n",
        "#     W = params[\"W\" + str(L - 1)]\n",
        "#     b = params[\"b\" + str(L - 1)]\n",
        "#     A[L - 1] = b + np.dot(W, H[L - 2])\n",
        "#     y_hat = softmax(A[L - 1])\n",
        "#     return y_hat, H, A\n",
        "\n",
        "\n",
        "# def forward_propagation(X, params, layer_sizes, mode):\n",
        "#     A = {}\n",
        "#     H = {}\n",
        "#     # Z = A, A = H\n",
        "#     L = len(layer_sizes)\n",
        "#     H[0] = X.reshape(-1, 1)  # Initialize input data as A[0]\n",
        "#     for k in range(1, L):\n",
        "#         W = params[\"W\" + str(k)]\n",
        "#         b = params[\"b\" + str(k)]\n",
        "#         A[k] = b + np.matmul(W, H[k - 1].reshape(-1, 1))\n",
        "#         if mode == 'sigmoid':\n",
        "#             H[k] = sigmoid(A[k])\n",
        "#         elif mode == 'tanh':\n",
        "#             H[k] = tanh(A[k])\n",
        "#         elif mode == 'relu':\n",
        "#             H[k] = relu(A[k])\n",
        "#     W = params[\"W\" + str(L - 1)]\n",
        "#     b = params[\"b\" + str(L - 1)]\n",
        "#     A[L - 1] = b + np.dot(W, H[L - 2].reshape(-1, 1))\n",
        "#     y_hat = softmax(A[L - 1])\n",
        "#     return y_hat, H, A\n",
        "\n",
        "# def forward_propagation(X, params, layer_sizes, mode):\n",
        "#   A = {}\n",
        "#   H = {}\n",
        "\n",
        "#   return y_hat\n",
        "\n"
      ],
      "metadata": {
        "id": "P1UXeHlucZrh"
      },
      "execution_count": 12,
      "outputs": []
    },
    {
      "cell_type": "code",
      "source": [
        "aL, forw_cache = forward_prop(X_train, params, 'relu')\n",
        "\n",
        "for l in range(len(params)//2 + 1):\n",
        "    print(\"Shape of A\" + str(l) + \" :\", forw_cache['A' + str(l)].shape)"
      ],
      "metadata": {
        "colab": {
          "base_uri": "https://localhost:8080/"
        },
        "id": "Y-pMxBS6EkEE",
        "outputId": "958d5484-09e0-4eca-9011-fce6cefbeffd"
      },
      "execution_count": 13,
      "outputs": [
        {
          "output_type": "stream",
          "name": "stdout",
          "text": [
            "Shape of A0 : (784, 54000)\n",
            "Shape of A1 : (100, 54000)\n",
            "Shape of A2 : (200, 54000)\n",
            "Shape of A3 : (10, 54000)\n"
          ]
        }
      ]
    },
    {
      "cell_type": "markdown",
      "source": [
        "# Cost function\n"
      ],
      "metadata": {
        "id": "dtEnMdYVE_lr"
      }
    },
    {
      "cell_type": "code",
      "source": [
        "def compute_cost(AL, Y, parameters, lambd):\n",
        "    m = Y.shape[1]\n",
        "    L = len(parameters)//2\n",
        "    if Y.shape[0] == 1:\n",
        "        cost = -(1/m) * np.sum(Y*np.log(AL) + (1-Y)*np.log(1 - AL))\n",
        "    else:\n",
        "        cost = -(1/m) * np.sum(Y * np.log(AL))\n",
        "        # reg_sum = 0\n",
        "        # for l in range(1, L):\n",
        "        #   reg_sum+=np.sum(np.square(parameters[f\"W{l}\"]))\n",
        "        # L2_reg_cost = (lambd/(2*m)) * (reg_sum)\n",
        "        # cost+=L2_reg_cost\n",
        "    cost = np.squeeze(cost)\n",
        "\n",
        "    return cost"
      ],
      "metadata": {
        "id": "5lPweVl0EYma"
      },
      "execution_count": 14,
      "outputs": []
    },
    {
      "cell_type": "markdown",
      "source": [
        "Backward Propagation"
      ],
      "metadata": {
        "id": "E4BjcA1TnRiM"
      }
    },
    {
      "cell_type": "code",
      "source": [
        "# def backward_propagation(AL , Y, parameters,forward_cache, activation):\n",
        "#     grads = {}\n",
        "#     L = len(parameters)//2\n",
        "#     m = AL.shape[1]\n",
        "\n",
        "#     grads[f\"dZ{L}\"] = AL - Y\n",
        "#     grads[f\"dW{L}\"] = (1/m)*np.dot(grads[f\"dZ{L}\"], forward_cache[f\"A{L-1}\"].T)\n",
        "#     grads[f\"db{L}\"] = (1/m)*np.sum(grads[f\"dZ{L}\"], axis =1, keepdims  = True)\n",
        "\n",
        "#     for l in range(L-1, 0 , -1):\n",
        "#         if activation == 'relu':\n",
        "#             grads[f\"dZ{l}\"] = np.dot(parameters[f\"W{l+1}\"].T,grads[f\"dZ{l+1}\"]) * derivative_relu(forward_cache[f'A{l}'])\n",
        "#         else:\n",
        "#             grads[f\"dZ{l}\"] = np.dot(parameters[f\"W{l+1}\"].T,grads[f\"dZ{l+1}\"]) * derivative_tanh(forward_cache[f'A{l}'])\n",
        "\n",
        "#         grads[f\"dW{l}\"] = (1/m)*np.dot(grads[f\"dZ{l}\"], forward_cache[f\"A{l-1}\"].T)\n",
        "#         grads[f\"db{l}\"] = (1/m)*np.sum(grads[f\"dZ{l}\"], axis =1, keepdims  = True)\n",
        "\n",
        "#     return grads\n",
        "\n",
        "\n",
        "def backward_propagation(AL , Y, parameters,forward_cache, activation, lambd = 0.7):\n",
        "    grads = {}\n",
        "    L = len(parameters)//2\n",
        "    m = AL.shape[1]\n",
        "\n",
        "    grads[f\"dZ{L}\"] = AL - Y\n",
        "    grads[f\"dW{L}\"] = (1/m)*np.dot(grads[f\"dZ{L}\"], forward_cache[f\"A{L-1}\"].T) + (lambd*parameters[f\"W{L}\"])/m\n",
        "    grads[f\"db{L}\"] = (1/m)*np.sum(grads[f\"dZ{L}\"], axis =1, keepdims  = True)\n",
        "\n",
        "    for l in range(L-1, 0 , -1):\n",
        "        if activation == 'relu':\n",
        "            grads[f\"dZ{l}\"] = np.dot(parameters[f\"W{l+1}\"].T,grads[f\"dZ{l+1}\"]) * derivative_relu(forward_cache[f'A{l}'])\n",
        "        else:\n",
        "            grads[f\"dZ{l}\"] = np.dot(parameters[f\"W{l+1}\"].T,grads[f\"dZ{l+1}\"]) * derivative_tanh(forward_cache[f'A{l}'])\n",
        "\n",
        "        grads[f\"dW{l}\"] = (1/m)*np.dot(grads[f\"dZ{l}\"], forward_cache[f\"A{l-1}\"].T) + (lambd*parameters[f\"W{l}\"])/m\n",
        "        grads[f\"db{l}\"] = (1/m)*np.sum(grads[f\"dZ{l}\"], axis =1, keepdims  = True)\n",
        "\n",
        "    return grads\n"
      ],
      "metadata": {
        "id": "Nn-VGiSqkmZn"
      },
      "execution_count": 15,
      "outputs": []
    },
    {
      "cell_type": "code",
      "source": [
        "grads = backward_propagation(forw_cache[\"A\" + str(3)], Y_train, params, forw_cache, 'relu', 0.7)\n",
        "\n",
        "for l in (range(1, len(grads)//3 + 1)):\n",
        "    print(\"Shape of dZ\" + str(l) + \" :\", grads['dZ' + str(l)].shape)\n",
        "    print(\"Shape of dW\" + str(l) + \" :\", grads['dW' + str(l)].shape)\n",
        "    print(\"Shape of dB\" + str(l) + \" :\", grads['db' + str(l)].shape, \"\\n\")\n"
      ],
      "metadata": {
        "id": "B1dj3XuFysXE",
        "colab": {
          "base_uri": "https://localhost:8080/"
        },
        "outputId": "545bb4f6-fbf0-4803-82b7-d1632c05a51f"
      },
      "execution_count": 16,
      "outputs": [
        {
          "output_type": "stream",
          "name": "stdout",
          "text": [
            "Shape of dZ1 : (100, 54000)\n",
            "Shape of dW1 : (100, 784)\n",
            "Shape of dB1 : (100, 1) \n",
            "\n",
            "Shape of dZ2 : (200, 54000)\n",
            "Shape of dW2 : (200, 100)\n",
            "Shape of dB2 : (200, 1) \n",
            "\n",
            "Shape of dZ3 : (10, 54000)\n",
            "Shape of dW3 : (10, 200)\n",
            "Shape of dB3 : (10, 1) \n",
            "\n"
          ]
        }
      ]
    },
    {
      "cell_type": "code",
      "source": [
        "index = random.randrange(0,X_train.shape[1])\n",
        "plt.imshow(X_train[:, index].reshape(28,28), cmap = 'gray')\n",
        "plt.show()\n",
        "# # Define the neural network architecture\n",
        "\n",
        "# # Input layer (784 features), 2 hidden layers (128 and 64 neurons), Output layer (10 classes)\n",
        "layer_sizes = [784, 128,32,64,10]\n",
        "# parameters, train_loss_history = train(X_train, y_train, layer_sizes, mode='xavier', activation='relu', loss_type='cross_entropy', num_epochs=5, learning_rate=0.1)\n",
        "\n",
        "# # Make predictions on the test set\n",
        "# y_pred = predict(X_test, parameters, layer_sizes,activation='relu')\n",
        "\n",
        "# # Calculate accuracy on the test set\n",
        "# accuracy = np.mean(np.argmax(y_pred, axis=0) == np.argmax(y_test, axis=1))\n",
        "# print(\"Test Accuracy:\", accuracy)\n",
        "\n"
      ],
      "metadata": {
        "id": "upBhibVhzCTL",
        "colab": {
          "base_uri": "https://localhost:8080/",
          "height": 430
        },
        "outputId": "78542e5c-4f19-4a1c-d018-c8ec6e0aa584"
      },
      "execution_count": 23,
      "outputs": [
        {
          "output_type": "display_data",
          "data": {
            "text/plain": [
              "<Figure size 640x480 with 1 Axes>"
            ],
            "image/png": "[encoded data removed]"
          },
          "metadata": {}
        }
      ]
    },
    {
      "cell_type": "code",
      "source": [
        "def update_parameters(parameters, grads, learning_rate):\n",
        "\n",
        "    L = len(parameters) // 2\n",
        "    for l in range(1, L):\n",
        "        parameters[f\"W{l}\"] = parameters[f\"W{l}\"] - learning_rate*grads[f'dW{l}']\n",
        "        parameters[f\"b{l}\"] = parameters[f\"b{l}\"] - learning_rate*grads[f'db{l}']\n",
        "    return parameters"
      ],
      "metadata": {
        "id": "de5P2AilGwwV"
      },
      "execution_count": 18,
      "outputs": []
    },
    {
      "cell_type": "code",
      "source": [
        "def grad_desc(X, Y, layer_dims, learning_rate, activation = 'relu', n_epoch = 100, lambd = 0.7):\n",
        "\n",
        "    parameters = initialize_parameters(layer_dims)\n",
        "\n",
        "    for i in range(n_epoch):\n",
        "\n",
        "        AL , forward_cache  = forward_prop(X, parameters, activation)\n",
        "\n",
        "        cost = compute_cost(AL, Y, parameters, lambd)\n",
        "\n",
        "        grads = backward_propagation(AL , Y, parameters,forward_cache, activation)\n",
        "\n",
        "        parameters = update_parameters(parameters, grads, learning_rate)\n",
        "\n",
        "        if i % (n_epoch/10) == 0:\n",
        "            print(\"\\niter:{} \\t cost: {} \\t train_acc:{} \\t test_acc:{}\".format(i, np.round(cost, 2), predict(X_train, Y_train, parameters, activation), predict(X_test, Y_test, parameters, activation)))\n",
        "        if i % 10 == 0:\n",
        "            print(\"==\", end = '')\n",
        "\n",
        "    return parameters"
      ],
      "metadata": {
        "id": "UghSuSBCG0wS"
      },
      "execution_count": 19,
      "outputs": []
    },
    {
      "cell_type": "code",
      "source": [
        "def predict(X, y, parameters, activation):\n",
        "\n",
        "    m = X.shape[1]\n",
        "    y_pred, caches = forward_prop(X, parameters, activation)\n",
        "\n",
        "    if y.shape[0] == 1:\n",
        "        y_pred = np.array(y_pred > 0.5, dtype = 'float')\n",
        "    else:\n",
        "        y = np.argmax(y, 0)\n",
        "        y_pred = np.argmax(y_pred, 0)\n",
        "\n",
        "    return np.round(np.sum((y_pred == y)/m), 2)*100"
      ],
      "metadata": {
        "id": "ynRmybAtm2hz"
      },
      "execution_count": 26,
      "outputs": []
    },
    {
      "cell_type": "code",
      "source": [
        "layer_dims = [X_train.shape[0], 20,10, Y_train.shape[0]]\n",
        "lr = 0.005\n",
        "n_epoch = 1000\n",
        "activation = 'tanh'\n",
        "\n",
        "\n",
        "parameters = grad_desc(X_train, Y_train, layer_dims, lr, activation = activation, n_epoch = n_epoch, lambd = 0.7)"
      ],
      "metadata": {
        "colab": {
          "base_uri": "https://localhost:8080/"
        },
        "id": "bxVRC5fIG3qv",
        "outputId": "2d117445-8836-4488-af0e-00a14a3f1ad8"
      },
      "execution_count": 30,
      "outputs": [
        {
          "output_type": "stream",
          "name": "stdout",
          "text": [
            "\n",
            "iter:0 \t cost: 2.37 \t train_acc:11.0 \t test_acc:11.0\n",
            "====================\n",
            "iter:100 \t cost: 1.97 \t train_acc:32.0 \t test_acc:32.0\n",
            "====================\n",
            "iter:200 \t cost: 1.82 \t train_acc:42.0 \t test_acc:41.0\n",
            "====================\n",
            "iter:300 \t cost: 1.73 \t train_acc:48.0 \t test_acc:47.0\n",
            "====================\n",
            "iter:400 \t cost: 1.67 \t train_acc:54.0 \t test_acc:52.0\n",
            "====================\n",
            "iter:500 \t cost: 1.61 \t train_acc:60.0 \t test_acc:59.0\n",
            "====================\n",
            "iter:600 \t cost: 1.57 \t train_acc:63.0 \t test_acc:62.0\n",
            "====================\n",
            "iter:700 \t cost: 1.54 \t train_acc:65.0 \t test_acc:64.0\n",
            "====================\n",
            "iter:800 \t cost: 1.51 \t train_acc:66.0 \t test_acc:64.0\n",
            "====================\n",
            "iter:900 \t cost: 1.48 \t train_acc:66.0 \t test_acc:65.0\n",
            "===================="
          ]
        }
      ]
    },
    {
      "cell_type": "code",
      "source": [
        "def update_params_momentum(parameters, grads, learning_rate, beta, prev_updates):\n",
        "  L = len(parameters) // 2\n",
        "  for l in range(1, L):\n",
        "    prev_updates[f\"W{l}\"] = beta*\n",
        "    parameters[f\"W{l}\"] = parameters[f\"W{l}\"] - learning_rate*grads[f'dW{l}']\n",
        "    parameters[f\"b{l}\"] = parameters[f\"b{l}\"] - learning_rate*grads[f'db{l}']\n",
        "  return parameters\n",
        "def update_parameters_sgd(parameters, grads, learning_rate):\n",
        "  pass\n",
        "\n",
        "\n",
        ""
      ],
      "metadata": {
        "id": "QrgDNzurn6Zg"
      },
      "execution_count": null,
      "outputs": []
    },
    {
      "cell_type": "code",
      "source": [
        " def val_loss(y,y_hat,loss_type):                                # function to compute the loss/error (both squared error and cross entropy)\n",
        "  l = 0\n",
        "  if (loss_type == \"squared_error\"):\n",
        "\n",
        "    l = np.sum((y-y_hat)**2)/(2*len(y))\n",
        "  elif (loss_type == \"cross_entropy\") :\n",
        "    l = -1*np.sum(np.multiply(y,np.log(y_hat)))/len(y)\n",
        "  return l\n",
        "\n",
        "def calcAccLoss(parameters, xArr, yArr, sizes, loss_type, activation, y_hat ,type=\"val\", regu=None):\n",
        "    acc = 0.0\n",
        "    lossVal = 0.0\n",
        "    for x, y in zip(xArr, yArr):\n",
        "        # print(y_hat)\n",
        "        if y_hat.argmax() == y.argmax():\n",
        "            acc += 1\n",
        "        if type == \"val\":\n",
        "            lossVal += val_loss(y, y_hat.reshape(-1, 1), loss_type)\n",
        "        elif type == \"trng\":\n",
        "            lossVal += loss_compute(y, y_hat.reshape(-1, 1), parameters, loss_type, regu, sizes)\n",
        "    acc = acc / len(xArr)\n",
        "    return (acc, lossVal)"
      ],
      "metadata": {
        "id": "WEL2DEuBAQmx"
      },
      "execution_count": 25,
      "outputs": []
    },
    {
      "cell_type": "code",
      "source": [
        "def update_parameters_momentum(parameters, grads, learning_rate, beta, previous_updates):\n",
        "    ''' Update W and b of the NN according to momentum updates\n",
        "\n",
        "    Parameters\n",
        "    ----------\n",
        "    parameters: dict\n",
        "        contains weights and biases of the NN\n",
        "\n",
        "    grads: dict\n",
        "        contains gradients wrt W and b returned by backpropagation\n",
        "\n",
        "    learning_rate: float\n",
        "        learning rate\n",
        "\n",
        "    beta: float\n",
        "        decay rate\n",
        "\n",
        "    previous_updates: dict\n",
        "        contains previous W and b values, accumulated in a weighted fashion along with the gradients eg.\n",
        "        previous_updates[Wi] = beta*previous_updates[Wi] + (1-beta)*gradient[dWi]\n",
        "\n",
        "    Returns\n",
        "    -------\n",
        "    parameters: dict\n",
        "        updated NN parameters\n",
        "\n",
        "    previous updates: dict\n",
        "        updated previous updates\n",
        "\n",
        "    '''\n",
        "    L = len(parameters) // 2 # number of layers in the neural network\n",
        "\n",
        "    for l in range(1, L + 1):\n",
        "        previous_updates[\"W\"+str(l)] = beta*previous_updates[\"W\"+str(l)] + (1-beta)*grads[\"dW\" + str(l)]\n",
        "        parameters[\"W\" + str(l)] = parameters[\"W\" + str(l)] - learning_rate*previous_updates[\"W\"+str(l)]\n",
        "\n",
        "        previous_updates[\"b\"+str(l)] = beta*previous_updates[\"b\"+str(l)] + (1-beta)*grads[\"db\" + str(l)]\n",
        "        parameters[\"b\" + str(l)] = parameters[\"b\" + str(l)] - learning_rate*previous_updates[\"b\"+str(l)]\n",
        "\n",
        "    return parameters, previous_updates"
      ],
      "metadata": {
        "id": "4fahniLK2o2k"
      },
      "execution_count": null,
      "outputs": []
    },
    {
      "cell_type": "markdown",
      "source": [
        "Optimized GD's"
      ],
      "metadata": {
        "id": "POvRJevPMy6s"
      }
    },
    {
      "cell_type": "code",
      "source": [
        "# Momentum GD\n",
        "\n",
        "def update_init(sizes) :                                  # function to initialize update dictionary that changes the weights and biases\n",
        "  update = {}\n",
        "  for i in range(1,len(sizes)):\n",
        "   update[\"W\"+str(i)] = np.zeros((sizes[i],sizes[i-1]))\n",
        "   update[\"b\"+str(i)] = np.zeros((sizes[i],1))\n",
        "  return update\n",
        "\n",
        "def grad_init(sizes):\n",
        "  grads={}\n",
        "  layers=len(sizes)\n",
        "  for i in range(1,layers):\n",
        "    grads[\"dW\" + str(i)] = np.zeros((sizes[i], sizes[i-1]))\n",
        "    grads[\"db\" + str(i)] = np.zeros((sizes[i],1))\n",
        "  return grads\n",
        "\n",
        "def momentum_GD(X, Y, layer_sizes, mode='xavier', activation='relu', loss_type='cross_entropy', num_epochs=5, lr=0.1, mini_batch=1, reg=1):\n",
        "    steps = 0\n",
        "    parameters = initialize_parameters(layer_sizes, mode)\n",
        "    train_loss_history = []\n",
        "    gamma = 0.9\n",
        "    update = update_init(layer_sizes)\n",
        "    for epoch in range(num_epochs):\n",
        "        for j in range(0, X.shape[1], mini_batch):\n",
        "            X_mini = X[:, j:j + mini_batch]\n",
        "            Y_mini = Y[:, j:j + mini_batch]\n",
        "            if Y_mini.size:\n",
        "                grads = grad_init(layer_sizes)\n",
        "\n",
        "                for col in range(X_mini.shape[1]):\n",
        "                    x = X_mini[:, col].reshape(-1, 1)\n",
        "                    y = Y_mini[:, col].reshape(-1, 1)\n",
        "                    y_hat, H, A = forward_prop(x, parameters, layer_sizes, activation)\n",
        "                    gradients = backward_propagation(x, y, H, A, y_hat, parameters, layer_sizes, activation, loss_type)\n",
        "\n",
        "                    for i in range(1, len(layer_sizes)-1):\n",
        "                        grads[\"dW\" + str(i)] += gradients[\"dW\" + str(i)]\n",
        "                        grads[\"db\" + str(i)] += gradients[\"db\" + str(i)]\n",
        "\n",
        "            for i in range(1, len(layer_sizes)):\n",
        "                grads[\"dW\" + str(i)] /= mini_batch\n",
        "                grads[\"db\" + str(i)] /= mini_batch\n",
        "                update[\"W\" + str(i)] = gamma * update[\"W\" + str(i)] + lr * grads[\"dW\" + str(i)]\n",
        "                update[\"b\" + str(i)] = gamma * update[\"b\" + str(i)] + lr * grads[\"db\" + str(i)]\n",
        "                parameters[\"W\" + str(i)] = (1 - lr * reg) * parameters[\"W\" + str(i)] - update[\"W\" + str(i)]\n",
        "                parameters[\"b\" + str(i)] = (1 - lr * reg) * parameters[\"b\" + str(i)] - update[\"b\" + str(i)]\n",
        "\n",
        "            steps = steps + 1\n",
        "            if steps == 10000:\n",
        "                acc, lossTot = calcAccLoss(parameters, X, Y, layer_sizes, loss_type, activation, y_hat, type=\"trng\", regu=reg)\n",
        "                accVal, lossTotVal = calcAccLoss(parameters, X_val, Y_val, layer_sizes, loss_type, activation, y_hat)\n",
        "                print( {\"Accuracy\": acc, \"Loss\": lossTot, \"Accuracy_val\": accVal, \"Loss_val\": lossTotVal, \"Epoch\": epoch})\n",
        "                steps = 0\n",
        "\n",
        "    return parameters\n",
        "par = momentum_GD(X_train, Y_train, layer_sizes, \"xavier\", \"sigmoid\", \"cross_entropy\", 5, 0.1, 2, 15)\n",
        "print(par)"
      ],
      "metadata": {
        "id": "zFb_tlSFMyn1"
      },
      "execution_count": null,
      "outputs": []
    },
    {
      "cell_type": "code",
      "source": [
        "# import numpy as np\n",
        "# from tensorflow.keras.datasets import fashion_mnist\n",
        "# from sklearn.model_selection import train_test_split\n",
        "\n",
        "# def preprocess_fashion_mnist():\n",
        "#     # Load the Fashion-MNIST dataset\n",
        "#     (X_train, y_train), (X_test, y_test) = fashion_mnist.load_data()\n",
        "\n",
        "#     # Flatten and normalize the input data\n",
        "#     X_train = X_train.reshape(-1, 28*28)  # Flatten each image to a 1D vector\n",
        "#     X_test = X_test.reshape(-1, 28*28)\n",
        "#     X_train = X_train.astype('float32') / 255.0  # Normalize pixel values to [0, 1]\n",
        "#     X_test = X_test.astype('float32') / 255.0\n",
        "\n",
        "#     # One-hot encode the labels\n",
        "#     num_classes = 10\n",
        "#     y_train = np.eye(num_classes)[y_train]  # One-hot encode the training labels\n",
        "#     y_test = np.eye(num_classes)[y_test]    # One-hot encode the test labels\n",
        "\n",
        "#     # Split the data into training, validation, and test sets\n",
        "#     X_train, X_val, y_train, y_val = train_test_split(X_train, y_train, test_size=6000, random_state=42)\n",
        "\n",
        "#     # Transpose the data to match the (features, batch_size) format expected by the function\n",
        "#     X_train = X_train.T\n",
        "#     X_val = X_val.T\n",
        "#     X_test = X_test.T\n",
        "\n",
        "#     # Print the number of images in X and y for training, validation, and testing datasets\n",
        "#     print(\"Number of images in the training set =\", X_train.shape[1])\n",
        "#     print(\"Number of images in the validation set =\", X_val.shape[1])\n",
        "#     print(\"Number of images in the test set =\", X_test.shape[1])\n",
        "#     print(\"Number of classes =\", num_classes)\n",
        "#     print(\"Number of features per example =\", X_train.shape[0])\n",
        "\n",
        "#     return X_train, y_train, X_val, y_val, X_test, y_test\n",
        "\n",
        "# # Preprocess the Fashion-MNIST dataset\n",
        "# X_train, Y_train, X_val, Y_val, X_test, y_test = preprocess_fashion_mnist()\n",
        "\n",
        "# def sigmoid(x):\n",
        "#     return 1. / (1. + np.exp(-x))\n",
        "\n",
        "# def sigmoid_derivative(x):\n",
        "#     return sigmoid(x) * (1 - sigmoid(x))\n",
        "\n",
        "# def relu(x):\n",
        "#     return np.maximum(0, x)\n",
        "\n",
        "# def relu_derivative(x):\n",
        "#     return 1 * (x > 0)\n",
        "\n",
        "# def tanh(x):\n",
        "#     return np.tanh(x)\n",
        "\n",
        "# def tanh_derivative(x):\n",
        "#     return 1 - (np.tanh(x) ** 2)\n",
        "\n",
        "# def softmax(x):\n",
        "#     return np.exp(x) / np.sum(np.exp(x), axis=0)\n",
        "\n",
        "# def softmax_derivative(x):\n",
        "#     return softmax(x) * (1 - softmax(x))\n",
        "\n",
        "# def initialize_parameters(layer_sizes, mode='xavier'):\n",
        "#     np.random.seed(42)\n",
        "#     parameters = {}\n",
        "#     for i in range(1, len(layer_sizes)):\n",
        "#         if mode == \"xavier\":\n",
        "#             parameters[\"W\" + str(i)] = np.random.randn(layer_sizes[i], layer_sizes[i-1]) * np.sqrt(2. / (layer_sizes[i] + layer_sizes[i-1]))\n",
        "#             parameters[\"b\" + str(i)] = np.zeros((layer_sizes[i], 1))\n",
        "#         elif mode == \"random\":\n",
        "#             parameters[\"W\" + str(i)] = 0.01 * np.random.randn(layer_sizes[i], layer_sizes[i-1])\n",
        "#             parameters[\"b\" + str(i)] = 0.01 * np.random.randn(layer_sizes[i], 1)\n",
        "#     return parameters\n",
        "\n",
        "# def update_init(sizes):\n",
        "#     update = {}\n",
        "#     for i in range(1, len(sizes)):\n",
        "#         update[\"W\" + str(i)] = np.zeros((sizes[i], sizes[i-1]))\n",
        "#         update[\"b\" + str(i)] = np.zeros((sizes[i], 1))\n",
        "#     return update\n",
        "\n",
        "# def update_parameters(parameters, gradients, learning_rate):\n",
        "#     L = len(parameters) // 2\n",
        "#     for l in range(1, L + 1):\n",
        "#         parameters[f\"W{l}\"] -= learning_rate * gradients[f\"dW{l}\"]\n",
        "#         parameters[f\"b{l}\"] -= learning_rate * gradients[f\"db{l}\"]\n",
        "#     return parameters\n",
        "\n",
        "# def loss_compute(y, y_hat, parameters, loss_type, reg, sizes):\n",
        "#     if loss_type == \"cross_entropy\":\n",
        "#         error = -1 * np.sum(np.multiply(y, np.log(y_hat))) / len(y)\n",
        "#     reg_error = 0.0\n",
        "#     for i in range(1, len(sizes)):\n",
        "#         reg_error = reg_error + (reg / 2) * (np.sum(np.square(parameters[\"W\" + str(i)])))\n",
        "#     error = error + reg_error\n",
        "#     return error\n",
        "\n",
        "# def forward_propagation(X, params, layer_sizes, mode):\n",
        "#     A = {}\n",
        "#     H = {}\n",
        "#     L = len(layer_sizes)\n",
        "#     H[0] = X.reshape(-1, 1)\n",
        "#     for k in range(1, L):\n",
        "#         W = params[\"W\" + str(k)]\n",
        "#         b = params[\"b\" + str(k)]\n",
        "#         A[k] = b + np.dot(W, H[k - 1].reshape(-1, 1))\n",
        "#         if mode == 'sigmoid':\n",
        "#             H[k] = sigmoid(A[k])\n",
        "#         elif mode == 'tanh':\n",
        "#             H[k] = tanh(A[k])\n",
        "#         elif mode == 'relu':\n",
        "#             H[k] = relu(A[k])\n",
        "#     W = params[\"W\" + str(L - 1)]\n",
        "#     b = params[\"b\" + str(L - 1)]\n",
        "#     A[L - 1] = b + np.dot(W, H[L - 2].reshape(-1, 1))\n",
        "#     y_hat = softmax(A[L - 1])\n",
        "#     return y_hat, H, A\n",
        "\n",
        "# def derivative(x, mode):\n",
        "#     if mode == 'sigmoid':\n",
        "#         return sigmoid_derivative(x)\n",
        "#     elif mode == 'tanh':\n",
        "#         return tanh_derivative(x)\n",
        "#     elif mode == 'relu':\n",
        "#         return relu_derivative(x)\n",
        "#     return None\n",
        "\n",
        "# def backward_propagation(X, Y, H, A, y_hat, params, layer_sizes, mode, loss_type):\n",
        "#     L = len(layer_sizes)\n",
        "#     gradients = {}\n",
        "#     y_hat = y_hat.T\n",
        "\n",
        "#     if loss_type == \"cross_entropy\":\n",
        "#         gradients[f\"dH{L - 1}\"] = -(Y / y_hat)\n",
        "#         gradients[f\"dA{L - 1}\"] = -(Y - y_hat)\n",
        "#     for i in range(1, L):\n",
        "#         gradients[f\"dW{i}\"] = np.zeros((layer_sizes[i], layer_sizes[i - 1]))\n",
        "#         gradients[f\"db{i}\"] = np.zeros((layer_sizes[i], 1))\n",
        "#         gradients[f\"dA{i}\"] = np.zeros((layer_sizes[i], 1))\n",
        "#         gradients[f\"dH{i}\"] = np.zeros((layer_sizes[i], 1))\n",
        "\n",
        "#     for k in range(L - 1, 0, -1):\n",
        "#         gradients[f\"dW{k}\"] = np.matmul(gradients[f\"dA{k}\"], np.transpose(H[k - 1]))\n",
        "#         gradients[f\"db{k}\"] = gradients[f\"dA{k}\"]\n",
        "\n",
        "#         if k > 1:\n",
        "#             gradients[f\"dH{k - 1}\"] = np.dot(np.transpose(params[f\"W{k}\"]), gradients[f\"dA{k}\"])\n",
        "#             gradients[f\"dA{k - 1}\"] = np.multiply(gradients[f\"dH{k-1}\"], derivative(A[k - 1], mode))\n",
        "\n",
        "#     return gradients\n",
        "\n",
        "# def val_loss(y, y_hat, loss_type):\n",
        "#     l = 0\n",
        "#     if loss_type == \"squared_error\":\n",
        "#         l = np.sum((y - y_hat) ** 2) / (2 * len(y))\n",
        "#     elif loss_type == \"cross_entropy\":\n",
        "#         l = -1 * np.sum(np.multiply(y, np.log(y_hat))) / len(y)\n",
        "#     return l\n",
        "\n",
        "# def calcAccLoss(parameters, xArr, yArr, sizes, loss_type, activation, y_hat, type=\"val\", regu=None):\n",
        "#     acc = 0.0\n",
        "#     lossVal = 0.0\n",
        "#     for x, y in zip(xArr, yArr):\n",
        "#         if y_hat.argmax() == y.argmax():\n",
        "#             acc += 1\n",
        "#         if type == \"val\":\n",
        "#             lossVal += val_loss(y, y_hat.reshape(-1, 1), loss_type)\n",
        "#         elif type == \"trng\":\n",
        "#             lossVal += loss_compute(y, y_hat.reshape(-1, 1), parameters, loss_type, regu, sizes)\n",
        "#     acc = acc / len(xArr)\n",
        "#     return acc, lossVal\n",
        "\n",
        "# def momentum_GD(X, Y, layer_sizes, mode='xavier', activation='relu', loss_type='cross_entropy', num_epochs=5, lr=0.1, mini_batch=1, reg=1):\n",
        "#     steps = 0\n",
        "#     parameters = initialize_parameters(layer_sizes, mode)\n",
        "#     train_loss_history = []\n",
        "#     gamma = 0.9\n",
        "#     update = update_init(layer_sizes)\n",
        "#     for epoch in range(num_epochs):\n",
        "\n",
        "#         for j in range(0, X.shape[1], mini_batch):\n",
        "#             X_mini = X[:, j:j + mini_batch]\n",
        "#             Y_mini = Y[:, j:j + mini_batch]\n",
        "#             if Y_mini.size:\n",
        "#                 grads = grad_init(layer_sizes)\n",
        "\n",
        "#                 for col in range(X_mini.shape[1]):\n",
        "#                     x = X_mini[:, col].reshape(-1, 1)\n",
        "#                     y = Y_mini[:, col].reshape(-1, 1)\n",
        "#                     y_hat, H, A = forward_propagation(x, parameters, layer_sizes, activation)\n",
        "#                     gradients = backward_propagation(x, y, H, A, y_hat, parameters, layer_sizes, activation, loss_type)\n",
        "\n",
        "#                     for i in range(1, len(layer_sizes)-1):\n",
        "#                         grads[\"dW\" + str(i)] += gradients[\"dW\" + str(i)]\n",
        "#                         grads[\"db\" + str(i)] += gradients[\"db\" + str(i)]\n",
        "\n",
        "\n",
        "\n",
        "#             for i in range(1, len(layer_sizes)):\n",
        "#                 grads[\"dW\" + str(i)] /= mini_batch\n",
        "#                 grads[\"db\" + str(i)] /= mini_batch\n",
        "#                 update[\"W\" + str(i)] = gamma * update[\"W\" + str(i)] + lr * grads[\"dW\" + str(i)]\n",
        "#                 update[\"b\" + str(i)] = gamma * update[\"b\" + str(i)] + lr * grads[\"db\" + str(i)]\n",
        "#                 parameters[\"W\" + str(i)] = (1 - lr * reg) * parameters[\"W\" + str(i)] - update[\"W\" + str(i)]\n",
        "#                 parameters[\"b\" + str(i)] = (1 - lr * reg) * parameters[\"b\" + str(i)] - update[\"b\" + str(i)]\n",
        "\n",
        "#             steps = steps + 1\n",
        "#             if steps == 10000:\n",
        "#                 acc, lossTot = calcAccLoss(parameters, X_train, Y_train, layer_sizes, loss_type, activation, y_hat, type=\"trng\", regu=reg)\n",
        "#                 accVal, lossTotVal = calcAccLoss(parameters, X_val, Y_val, layer_sizes, loss_type, activation, y_hat=y_hat)\n",
        "#                 print({\"Accuracy\": acc, \"Loss\": lossTot, \"Accuracy_val\": accVal, \"Loss_val\": lossTotVal, \"Epoch\": epoch})\n",
        "#                 steps = 0\n",
        "\n",
        "#     return parameters\n",
        "\n",
        "# # Modify the layer_sizes and other parameters as needed\n",
        "# layer_sizes = [X_train.shape[0], 128, 64, 10]  # Input layer, 2 hidden layers, output layer\n",
        "# par = momentum_GD(X_train, Y_train, layer_sizes, mode=\"xavier\", activation=\"relu\", loss_type=\"cross_entropy\", num_epochs=20, lr=0.01, mini_batch=5, reg=0.01)\n"
      ],
      "metadata": {
        "id": "ehXX4x4qicin"
      },
      "execution_count": null,
      "outputs": []
    },
    {
      "cell_type": "code",
      "source": [
        "# Evaluate the neural network on the test data\n",
        "acc, loss = calcAccLoss(par, X_test, y_test, layer_sizes, \"cross_entropy\",\"relu\", 2 )\n",
        "\n",
        "# Print the accuracy\n",
        "print(\"Accuracy:\", acc)"
      ],
      "metadata": {
        "id": "kofbjjKeIeO5"
      },
      "execution_count": null,
      "outputs": []
    },
    {
      "cell_type": "code",
      "source": [
        "\n",
        "#Nesterov acceleracted GD\n",
        "def nesterov_accelerated_GD(X, Y, layer_sizes, mode='xavier', activation='relu', loss_type='cross_entropy', num_epochs=100, lr=0.1, mini_batch=1, reg=2, log= False):\n",
        "  steps = 0\n",
        "  parameters = initialize_parameters(layer_sizes, mode)\n",
        "  train_loss_history = []\n",
        "  gamma = 0.9\n",
        "  update = update_init(layer_sizes)\n",
        "  for n in range(num_epochs):\n",
        "\n",
        "    for j in range(0, X_train.shape[0], mini_batch):\n",
        "      X_mini = X[:, j:j + mini_batch]\n",
        "      Y_mini = Y[:, j:j + mini_batch]\n",
        "      # if Y_mini.size:\n",
        "      grads = grad_init(layer_sizes)\n",
        "      for i in range(1,len(layer_sizes)):                                                       #perform update before back propogation\n",
        "        update[\"W\"+str(i)] = gamma*update[\"W\"+str(i)]\n",
        "        update[\"b\"+str(i)] = gamma*update[\"b\"+str(i)]\n",
        "        parameters[\"W\"+str(i)] = (1-lr*reg)*parameters[\"W\"+str(i)] - update[\"W\"+str(i)]\n",
        "        parameters[\"b\"+str(i)] = (1-lr*reg)*parameters[\"b\"+str(i)] - update[\"b\"+str(i)]\n",
        "\n",
        "      for x,y in zip(X_mini,Y_mini):\n",
        "        y_hat, H, A = forward_propagation(x, parameters, layer_sizes, activation)\n",
        "        # H =\n",
        "        gradients = backward_propagation(x, y, H, A, y_hat, parameters, layer_sizes, activation, loss_type)\n",
        "\n",
        "      for k in range(1,len(layer_sizes)) :\n",
        "        update[\"W\"+str(k)] = gamma*update[\"W\"+str(k)] + lr*grads[\"dW\"+str(k)]\n",
        "        update[\"b\"+str(k)] = gamma*update[\"b\"+str(k)] + lr*grads[\"db\"+str(k)]\n",
        "        parameters[\"W\"+str(k)] = (1-lr*reg)*parameters[\"W\"+str(k)] - update[\"W\"+str(k)]\n",
        "        parameters[\"b\"+str(k)] = (1-lr*reg)*parameters[\"b\"+str(k)] - update[\"b\"+str(k)]\n",
        "      steps=steps+1\n",
        "      if steps==10000:\n",
        "        if log:\n",
        "          acc,lossTot=calcAccLoss(parameters,X_train,Y_train,layer_sizes,loss_type,activation,type=\"trng\",regu=reg)\n",
        "          accVal,lossTotVal=calcAccLoss(parameters,X_val,Y_val,layer_sizes,loss_type,activation)\n",
        "\n",
        "          wandb.log({\"Accuracy\":acc,\"Loss\":lossTot,\"Accuracy_val\":accVal,\"Loss_val\":lossTotVal,\"Epoch\":n,\"n_datatrain\":j + minibatch_size+n*54000})\n",
        "        steps=0\n",
        "\n",
        "  return parameters\n",
        "\n",
        "\n",
        "par = nesterov_accelerated_GD(X_train, Y_train, layer_sizes, \"xavier\", \"relu\", \"cross_entropy\", 5, 0.1, 1, 2, False)\n",
        "print(par)\n"
      ],
      "metadata": {
        "id": "SNMwXaeHsLk9"
      },
      "execution_count": null,
      "outputs": []
    },
    {
      "cell_type": "code",
      "source": [],
      "metadata": {
        "id": "HEK6lzfKIcoa"
      },
      "execution_count": null,
      "outputs": []
    },
    {
      "cell_type": "code",
      "source": [
        "# FALSE\n",
        "\n",
        "\n",
        "#stochastic GD\n",
        "def stochastic_GD(X_train,Y_train,activation,n_epoch,sizes,lr,reg,w_init,loss_type,minibatch_size=1,log=False) :\n",
        "\n",
        "  steps=0\n",
        "  parameters = network_init(sizes,w_init)\n",
        "  update = update_init(sizes)\n",
        "  gamma = 0.9\n",
        "  for n in range(n_epoch):\n",
        "\n",
        "    for j in range(0, X_train.shape[0], minibatch_size):                                        #minibatch division\n",
        "      X_mini = X_train[j:j + minibatch_size]\n",
        "      Y_mini = Y_train[j:j + minibatch_size]\n",
        "\n",
        "      grads = grad_init(sizes)\n",
        "      for x,y in zip(X_mini,Y_mini):\n",
        "        y_hat,A,H = feed_forward(x,parameters,sizes,activation)\n",
        "        grads = back_prop(x,y,y_hat,grads,A,H,parameters,sizes,loss_type,activation,reg)\n",
        "\n",
        "      for i in range(1,len(sizes)-1) :                                                          #updating the parameters\n",
        "        parameters[\"W\"+str(i)] = (1-lr*reg)*parameters[\"W\"+str(i)] - lr*grads[\"dW\"+str(i)]\n",
        "        parameters[\"b\"+str(i)] = (1-lr*reg)*parameters[\"b\"+str(i)] - lr*grads[\"db\"+str(i)]\n",
        "      steps=steps+1\n",
        "      if steps==10000:\n",
        "        if log:\n",
        "          acc,lossTot=calcAccLoss(parameters,X_train,Y_train,sizes,loss_type,activation,type=\"trng\",regu=reg)\n",
        "          accVal,lossTotVal=calcAccLoss(parameters,X_val,Y_val,sizes,loss_type,activation)\n",
        "\n",
        "          wandb.log({\"Accuracy\":acc,\"Loss\":lossTot,\"Accuracy_val\":accVal,\"Loss_val\":lossTotVal,\"Epoch\":n,\"n_datatrain\":j + minibatch_size+n*54000})\n",
        "        steps=0\n",
        "\n",
        "  return parameters\n",
        "\n",
        "#rmsprop GD\n",
        "def rmsprop_GD(X_train,Y_train,activation,n_epoch,sizes,lr,reg,w_init,loss_type,minibatch_size=1,log=False) :\n",
        "\n",
        "  steps=0\n",
        "  parameters = network_init(sizes,w_init)\n",
        "  update = update_init(sizes)\n",
        "  v = update_init(sizes)\n",
        "\n",
        "  betal = 0.99 #check this\n",
        "  eps = 1e-8\n",
        "\n",
        "  for n in range(n_epoch):\n",
        "\n",
        "    for j in range(0, X_train.shape[0], minibatch_size):\n",
        "      X_mini = X_train[j:j + minibatch_size]\n",
        "      Y_mini = Y_train[j:j + minibatch_size]\n",
        "\n",
        "      grads = grad_init(sizes)\n",
        "      for x,y in zip(X_mini,Y_mini):\n",
        "        y_hat,A,H = feed_forward(x,parameters,sizes,activation)\n",
        "        grads = back_prop(x,y,y_hat,grads,A,H,parameters,sizes,loss_type,activation,reg)\n",
        "\n",
        "      for i in range(1,len(sizes)-1) :                                                                   #updating the parameters\n",
        "        v[\"W\"+str(i)] = betal*v[\"W\"+str(i)] + (1-betal)*grads[\"dW\"+str(i)]**2                            #v_w update\n",
        "        v[\"b\"+str(i)] = betal*v[\"b\"+str(i)] + (1-betal)*grads[\"db\"+str(i)]**2                            #v_b update\n",
        "\n",
        "        update[\"W\"+str(i)]=lr*np.multiply(np.reciprocal(np.sqrt(v[\"W\"+str(i)]+eps)),grads[\"dW\"+str(i)])\n",
        "        update[\"b\"+str(i)]=lr*np.multiply(np.reciprocal(np.sqrt(v[\"b\"+str(i)]+eps)),grads[\"db\"+str(i)])\n",
        "\n",
        "        parameters[\"W\"+str(i)] = (1-lr*reg)*parameters[\"W\"+str(i)] - update[\"W\"+str(i)]\n",
        "        parameters[\"b\"+str(i)] = (1-lr*reg)*parameters[\"b\"+str(i)] - update[\"b\"+str(i)]\n",
        "      steps=steps+1\n",
        "      if steps==10000:\n",
        "        if log:\n",
        "          acc,lossTot=calcAccLoss(parameters,X_train,Y_train,sizes,loss_type,activation,type=\"trng\",regu=reg)\n",
        "          accVal,lossTotVal=calcAccLoss(parameters,X_val,Y_val,sizes,loss_type,activation)\n",
        "\n",
        "          wandb.log({\"Accuracy\":acc,\"Loss\":lossTot,\"Accuracy_val\":accVal,\"Loss_val\":lossTotVal,\"Epoch\":n,\"n_datatrain\":j + minibatch_size+n*54000})\n",
        "        steps=0\n",
        "\n",
        "  return parameters\n",
        "\n",
        "#Adam GD\n",
        "def adam_GD(X_train,Y_train,activation,n_epoch,sizes,lr,reg,w_init,loss_type,minibatch_size=1,log=False) :\n",
        "  steps=0\n",
        "  parameters = network_init(sizes,w_init)\n",
        "  update = update_init(sizes)\n",
        "  m = update_init(sizes)\n",
        "  v = update_init(sizes)\n",
        "\n",
        "  beta1 = 0.9\n",
        "  beta2 = 0.999\n",
        "  eps = 1e-8\n",
        "  for n in range(n_epoch):\n",
        "\n",
        "    for j in range(0, X_train.shape[0], minibatch_size):\n",
        "      X_mini = X_train[j:j + minibatch_size]\n",
        "      Y_mini = Y_train[j:j + minibatch_size]\n",
        "\n",
        "      grads = grad_init(sizes)\n",
        "      for x,y in zip(X_mini,Y_mini):\n",
        "        y_hat,A,H = feed_forward(x,parameters,sizes,activation)\n",
        "        grads = back_prop(x,y,y_hat,grads,A,H,parameters,sizes,loss_type,activation,reg)\n",
        "\n",
        "      for i in range(1,len(sizes)-1) :                                                    #updating the parameters\n",
        "        m[\"W\"+str(i)] = beta1*m[\"W\"+str(i)] + (1-beta1)*grads[\"dW\"+str(i)]                #m_w update\n",
        "        m[\"b\"+str(i)] = beta1*m[\"b\"+str(i)] + (1-beta1)*grads[\"db\"+str(i)]                #m_b update\n",
        "\n",
        "        v[\"W\"+str(i)] = beta2*v[\"W\"+str(i)] + (1-beta2)*grads[\"dW\"+str(i)]**2             #v_w update\n",
        "        v[\"b\"+str(i)] = beta2*v[\"b\"+str(i)] + (1-beta2)*grads[\"db\"+str(i)]**2             #v_b update\n",
        "\n",
        "        #cumulative average\n",
        "        m_w_hat = m[\"W\"+str(i)]/(1-np.power(beta1,n+1))\n",
        "        m_b_hat = m[\"b\"+str(i)]/(1-np.power(beta1,n+1))\n",
        "        v_w_hat = v[\"W\"+str(i)]/(1-np.power(beta2,n+1))\n",
        "        v_b_hat = v[\"b\"+str(i)]/(1-np.power(beta2,n+1))\n",
        "\n",
        "\n",
        "        update[\"W\"+str(i)]=lr*np.multiply(np.reciprocal(np.sqrt(v_w_hat+eps)),m_w_hat)\n",
        "        update[\"b\"+str(i)]=lr*np.multiply(np.reciprocal(np.sqrt(v_b_hat+eps)),m_b_hat)\n",
        "\n",
        "        parameters[\"W\"+str(i)] = (1-lr*reg)*parameters[\"W\"+str(i)] - update[\"W\"+str(i)]\n",
        "        parameters[\"b\"+str(i)] = (1-lr*reg)*parameters[\"b\"+str(i)] - update[\"b\"+str(i)]\n",
        "\n",
        "\n",
        "      steps=steps+1\n",
        "      if steps==10000:\n",
        "        if log:\n",
        "          acc,lossTot=calcAccLoss(parameters,X_train,Y_train,sizes,loss_type,activation,type=\"trng\",regu=reg)\n",
        "          accVal,lossTotVal=calcAccLoss(parameters,X_val,Y_val,sizes,loss_type,activation)\n",
        "\n",
        "          wandb.log({\"Accuracy\":acc,\"Loss\":lossTot,\"Accuracy_val\":accVal,\"Loss_val\":lossTotVal,\"Epoch\":n,\"n_datatrain\":j + minibatch_size+n*54000})\n",
        "        steps=0\n",
        "\n",
        "  return parameters\n",
        "\n",
        "\n",
        "#Nadam GD\n",
        "def nadam_GD(X_train,Y_train,activation,n_epoch,sizes,lr,reg,w_init,loss_type,minibatch_size=1,log=False) :\n",
        "  steps=0\n",
        "  parameters = network_init(sizes,w_init)\n",
        "  update = update_init(sizes)\n",
        "  m = update_init(sizes)\n",
        "  v = update_init(sizes)\n",
        "\n",
        "  beta1 = 0.9\n",
        "  beta2 = 0.999\n",
        "  eps = 1e-8\n",
        "\n",
        "  for n in range(n_epoch):\n",
        "\n",
        "    for j in range(0, X_train.shape[0], minibatch_size):\n",
        "      X_mini = X_train[j:j + minibatch_size]\n",
        "      Y_mini = Y_train[j:j + minibatch_size]\n",
        "      grads = grad_init(sizes)\n",
        "\n",
        "      for x,y in zip(X_mini,Y_mini):\n",
        "        y_hat,A,H = feed_forward(x,parameters,sizes,activation)\n",
        "        grads = back_prop(x,y,y_hat,grads,A,H,parameters,sizes,loss_type,activation,reg)\n",
        "\n",
        "      for i in range(1,len(sizes)-1) :                                                    #updating the parameters\n",
        "        m[\"W\"+str(i)] = beta1*m[\"W\"+str(i)] + (1-beta1)*grads[\"dW\"+str(i)]                #m_w update\n",
        "        m[\"b\"+str(i)] = beta1*m[\"b\"+str(i)] + (1-beta1)*grads[\"db\"+str(i)]                #m_b update\n",
        "\n",
        "        v[\"W\"+str(i)] = beta2*v[\"W\"+str(i)] + (1-beta2)*grads[\"dW\"+str(i)]**2             #v_w update\n",
        "        v[\"b\"+str(i)] = beta2*v[\"b\"+str(i)] + (1-beta2)*grads[\"db\"+str(i)]**2             #v_b update\n",
        "\n",
        "        #cumulative average\n",
        "        m_w_hat = m[\"W\"+str(i)]/(1-np.power(beta1,n+1))\n",
        "        m_b_hat = m[\"b\"+str(i)]/(1-np.power(beta1,n+1))\n",
        "        v_w_hat = v[\"W\"+str(i)]/(1-np.power(beta2,n+1))\n",
        "        v_b_hat = v[\"b\"+str(i)]/(1-np.power(beta2,n+1))\n",
        "\n",
        "\n",
        "        update[\"W\"+str(i)]=lr*np.multiply(np.reciprocal(np.sqrt(v_w_hat+eps)),(beta1*m_w_hat+(1-beta1)*grads[\"dW\"+str(i)]))*(1/(1-np.power(beta1,n+1)))\n",
        "        update[\"b\"+str(i)]=lr*np.multiply(np.reciprocal(np.sqrt(v_b_hat+eps)),(beta1*m_b_hat+(1-beta1)*grads[\"db\"+str(i)]))*(1/(1-np.power(beta1,n+1)))\n",
        "\n",
        "        parameters[\"W\"+str(i)] = (1-lr*reg)*parameters[\"W\"+str(i)] - update[\"W\"+str(i)]\n",
        "        parameters[\"b\"+str(i)] = (1-lr*reg)*parameters[\"b\"+str(i)] - update[\"b\"+str(i)]\n",
        "      steps=steps+1\n",
        "      if steps==10000:\n",
        "        if log:\n",
        "          acc,lossTot=calcAccLoss(parameters,X_train,Y_train,sizes,loss_type,activation,type=\"trng\",regu=reg)\n",
        "          accVal,lossTotVal=calcAccLoss(parameters,X_val,Y_val,sizes,loss_type,activation)\n",
        "\n",
        "          wandb.log({\"Accuracy\":acc,\"Loss\":lossTot,\"Accuracy_val\":accVal,\"Loss_val\":lossTotVal,\"Epoch\":n,\"n_datatrain\":j + minibatch_size+n*54000})\n",
        "        steps=0\n",
        "\n",
        "  return parameters"
      ],
      "metadata": {
        "id": "_WdC46-9Ljhi"
      },
      "execution_count": null,
      "outputs": []
    },
    {
      "cell_type": "markdown",
      "source": [
        "Execution -- Main Function\n",
        "  "
      ],
      "metadata": {
        "id": "bSjNPV6-sJ3A"
      }
    },
    {
      "cell_type": "code",
      "source": [
        "#function to select optimizer\n",
        "def do_GD(X_train,Y_train,optimizer,activation,hl_size,input_size,output_size,n_epoch,lr,reg,w_init,loss_type,minibatch_size=1,logging=False):\n",
        "  sizes = hl_size.copy()\n",
        "  sizes.insert(0,input_size)\n",
        "  sizes.append(output_size)\n",
        "\n",
        "  if optimizer==\"sgd\":\n",
        "    return(stochastic_GD(X_train,Y_train,activation,n_epoch,sizes,lr,reg,w_init,loss_type,minibatch_size=1,log=logging))\n",
        "  elif optimizer==\"momentum\":\n",
        "    return(momentum_GD(X_train,Y_train,activation,n_epoch,sizes,lr,reg,w_init,loss_type,1))\n",
        "  elif optimizer==\"nesterov\":\n",
        "    return(nesterov_accelerated_GD(X_train,Y_train,activation,n_epoch,sizes,lr,reg,w_init,loss_type,minibatch_size=1,log=logging))\n",
        "  elif optimizer==\"rmsprop\":\n",
        "    return(rmsprop_GD(X_train,Y_train,activation,n_epoch,sizes,lr,reg,w_init,loss_type,minibatch_size=1,log=logging))\n",
        "  elif optimizer==\"adam\":\n",
        "    return(adam_GD(X_train,Y_train,activation,n_epoch,sizes,lr,reg,w_init,loss_type,minibatch_size=1,log=logging))\n",
        "  elif optimizer==\"nadam\":\n",
        "    return(nadam_GD(X_train,Y_train,activation,n_epoch,sizes,lr,reg,w_init,loss_type,minibatch_size=1,log=logging))\n"
      ],
      "metadata": {
        "id": "Aa9B-D3FBNRs"
      },
      "execution_count": null,
      "outputs": []
    },
    {
      "cell_type": "code",
      "source": [
        "#training function to sweep with wandb\n",
        "def train():\n",
        "\n",
        "  hyperparameter_defaults=dict(\n",
        "      input_size = 784,\n",
        "      output_size = 10,\n",
        "      n_epoch = 5,\n",
        "      n_hiddenlayer = 3,\n",
        "      hl= [64,64,64],\n",
        "      reg = 0.0005,\n",
        "      lr = 1e-3,\n",
        "      optimizer = \"momentum\",\n",
        "      batch_size = 64,\n",
        "      initialization = \"xavier\",\n",
        "      loss_type = \"cross_entropy\"\n",
        "\n",
        "  )\n",
        "\n",
        "  wandb.init(config=hyperparameter_defaults)\n",
        "\n",
        "  config=wandb.config\n",
        "  output_size=10\n",
        "  input_size = 784\n",
        "  config.hl=[config.hl_size for i in range(config.n_hiddenlayer)]   #hidden layer sizes array creation\n",
        "  parameters=do_GD(X_train, Y_train,config.optimizer,config.activation,config.hl,config.input_size,config.output_size,config.n_epoch,config.lr,config.reg,config.initialization,config.loss_type,config.batch_size,logging=True)\n"
      ],
      "metadata": {
        "id": "WRYhUCwYCn95"
      },
      "execution_count": null,
      "outputs": []
    },
    {
      "cell_type": "code",
      "source": [
        "def sweeper(sweep_config,proj_name):\n",
        "  sweep_id=wandb.sweep(sweep_config,project=proj_name)\n",
        "  wandb.agent(sweep_id,train,project=proj_name)"
      ],
      "metadata": {
        "id": "4v1g-XAWCx-O"
      },
      "execution_count": null,
      "outputs": []
    },
    {
      "cell_type": "code",
      "source": [
        "#sweep dictionary\n",
        "sweep_config={\n",
        "    'method':'bayes',\n",
        "    'metric':{\n",
        "        'name':'accuracy',\n",
        "        'goal':'maximize'},\n",
        "\n",
        "}\n",
        "\n",
        "# def momentum_GD(X, Y, layer_sizes, mode='xavier', activation='relu', loss_type='cross_entropy', num_epochs=5, lr=0.1, mini_batch=1, reg=1):\n",
        "\n",
        "\n",
        "parameters_dict={\n",
        "    'optimizer':{\n",
        "        'values':['nadam','sgd', 'momentum', 'nesterov', 'rmsprop', 'adam']\n",
        "    },\n",
        "    'lr':{\n",
        "        'values':[1e-3,1e-5]\n",
        "    },\n",
        "    'reg':{\n",
        "        'values':[5e-4,0,5e-1]\n",
        "    },\n",
        "    'n_hiddenlayer':{\n",
        "        'values':[3,4,5]\n",
        "    },\n",
        "    'hl_size':{\n",
        "      'values':[128,32,64]\n",
        "    },\n",
        "    'batch_size':{\n",
        "        'values':[64,32,128]\n",
        "    },\n",
        "    'loss_type':{\n",
        "        'values':['cross_entropy','squared_error']\n",
        "    },\n",
        "    'initialization':{\n",
        "        'values':['xavier','random']\n",
        "    },\n",
        "    'activation':{\n",
        "        'values':['relu','sigmoid','tanh']\n",
        "    },\n",
        "    'n_epoch':{\n",
        "        'values':[5]\n",
        "    }\n",
        "}\n",
        "parameters_dict = {\n",
        "       'optimizer':{\n",
        "        'values':['momentum']\n",
        "    },\n",
        "    'lr':{\n",
        "        'values':[1e-3,1e-5]\n",
        "    },\n",
        "    'reg':{\n",
        "        'values':[5e-4,0,5e-1]\n",
        "    },\n",
        "    'n_hiddenlayer':{\n",
        "        'values':[3,4,5]\n",
        "    },\n",
        "    'hl_size':{\n",
        "      'values':[128,32,64]\n",
        "    },\n",
        "    'batch_size':{\n",
        "        'values':[64,32,128]\n",
        "    },\n",
        "    'loss_type':{\n",
        "        'values':['cross_entropy','squared_error']\n",
        "    },\n",
        "    'initialization':{\n",
        "        'values':['xavier','random']\n",
        "    },\n",
        "    'activation':{\n",
        "        'values':['relu','sigmoid','tanh']\n",
        "    },\n",
        "    'n_epoch':{\n",
        "        'values':[5]\n",
        "    }\n",
        "}\n",
        "sweep_config['parameters']=parameters_dict"
      ],
      "metadata": {
        "id": "nl5kzqOnCyhZ"
      },
      "execution_count": null,
      "outputs": []
    },
    {
      "cell_type": "code",
      "source": [
        "proj_name = \"Image_classification\"\n",
        "sweep_id=wandb.sweep(sweep_config,project=proj_name)"
      ],
      "metadata": {
        "id": "N7VyUMWjC1NM"
      },
      "execution_count": null,
      "outputs": []
    },
    {
      "cell_type": "code",
      "source": [
        "sweeper(sweep_config,proj_name)"
      ],
      "metadata": {
        "id": "LZrtrkoVC19-"
      },
      "execution_count": null,
      "outputs": []
    },
    {
      "cell_type": "code",
      "source": [
        "# def do_momentum_based_GD()"
      ],
      "metadata": {
        "id": "Nx3CdE4pRawy"
      },
      "execution_count": null,
      "outputs": []
    }
  ]
}