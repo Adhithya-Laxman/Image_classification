{
  "nbformat": 4,
  "nbformat_minor": 0,
  "metadata": {
    "colab": {
      "provenance": [],
      "authorship_tag": "ABX9TyNnUFFiVeoIrEyP8Ca3LOEg",
      "include_colab_link": true
    },
    "kernelspec": {
      "name": "python3",
      "display_name": "Python 3"
    },
    "language_info": {
      "name": "python"
    }
  },
  "cells": [
    {
      "cell_type": "markdown",
      "metadata": {
        "id": "view-in-github",
        "colab_type": "text"
      },
      "source": [
        "<a href=\"https://colab.research.google.com/github/Adhithya-Laxman/Image_classification/blob/main/Image_classification.ipynb\" target=\"_parent\"><img src=\"https://colab.research.google.com/assets/colab-badge.svg\" alt=\"Open In Colab\"/></a>"
      ]
    },
    {
      "cell_type": "code",
      "execution_count": 43,
      "metadata": {
        "id": "EEX8bMYrX1Tn",
        "colab": {
          "base_uri": "https://localhost:8080/"
        },
        "outputId": "70793ee4-6521-4e85-ef76-6b7b488c14a5"
      },
      "outputs": [
        {
          "output_type": "stream",
          "name": "stdout",
          "text": [
            "Requirement already satisfied: wandb in /usr/local/lib/python3.10/dist-packages (0.15.8)\n",
            "Requirement already satisfied: Click!=8.0.0,>=7.1 in /usr/local/lib/python3.10/dist-packages (from wandb) (8.1.6)\n",
            "Requirement already satisfied: GitPython!=3.1.29,>=1.0.0 in /usr/local/lib/python3.10/dist-packages (from wandb) (3.1.32)\n",
            "Requirement already satisfied: requests<3,>=2.0.0 in /usr/local/lib/python3.10/dist-packages (from wandb) (2.27.1)\n",
            "Requirement already satisfied: psutil>=5.0.0 in /usr/local/lib/python3.10/dist-packages (from wandb) (5.9.5)\n",
            "Requirement already satisfied: sentry-sdk>=1.0.0 in /usr/local/lib/python3.10/dist-packages (from wandb) (1.29.2)\n",
            "Requirement already satisfied: docker-pycreds>=0.4.0 in /usr/local/lib/python3.10/dist-packages (from wandb) (0.4.0)\n",
            "Requirement already satisfied: PyYAML in /usr/local/lib/python3.10/dist-packages (from wandb) (6.0.1)\n",
            "Requirement already satisfied: pathtools in /usr/local/lib/python3.10/dist-packages (from wandb) (0.1.2)\n",
            "Requirement already satisfied: setproctitle in /usr/local/lib/python3.10/dist-packages (from wandb) (1.3.2)\n",
            "Requirement already satisfied: setuptools in /usr/local/lib/python3.10/dist-packages (from wandb) (67.7.2)\n",
            "Requirement already satisfied: appdirs>=1.4.3 in /usr/local/lib/python3.10/dist-packages (from wandb) (1.4.4)\n",
            "Requirement already satisfied: protobuf!=4.21.0,<5,>=3.19.0 in /usr/local/lib/python3.10/dist-packages (from wandb) (3.20.3)\n",
            "Requirement already satisfied: six>=1.4.0 in /usr/local/lib/python3.10/dist-packages (from docker-pycreds>=0.4.0->wandb) (1.16.0)\n",
            "Requirement already satisfied: gitdb<5,>=4.0.1 in /usr/local/lib/python3.10/dist-packages (from GitPython!=3.1.29,>=1.0.0->wandb) (4.0.10)\n",
            "Requirement already satisfied: urllib3<1.27,>=1.21.1 in /usr/local/lib/python3.10/dist-packages (from requests<3,>=2.0.0->wandb) (1.26.16)\n",
            "Requirement already satisfied: certifi>=2017.4.17 in /usr/local/lib/python3.10/dist-packages (from requests<3,>=2.0.0->wandb) (2023.7.22)\n",
            "Requirement already satisfied: charset-normalizer~=2.0.0 in /usr/local/lib/python3.10/dist-packages (from requests<3,>=2.0.0->wandb) (2.0.12)\n",
            "Requirement already satisfied: idna<4,>=2.5 in /usr/local/lib/python3.10/dist-packages (from requests<3,>=2.0.0->wandb) (3.4)\n",
            "Requirement already satisfied: smmap<6,>=3.0.1 in /usr/local/lib/python3.10/dist-packages (from gitdb<5,>=4.0.1->GitPython!=3.1.29,>=1.0.0->wandb) (5.0.0)\n"
          ]
        }
      ],
      "source": [
        "!pip install wandb"
      ]
    },
    {
      "cell_type": "code",
      "source": [
        "# Task 1 -- Loading the datasets and the packages\n",
        "from keras.datasets import fashion_mnist\n",
        "from keras.datasets import mnist\n",
        "import numpy as np\n",
        "import pandas as pd\n",
        "import matplotlib.pyplot as plt\n",
        "import wandb"
      ],
      "metadata": {
        "id": "icEDNYu9ZS2C"
      },
      "execution_count": 44,
      "outputs": []
    },
    {
      "cell_type": "markdown",
      "source": [
        "\n",
        "\n",
        "> Plotting a sample image for each class\n"
      ],
      "metadata": {
        "id": "5zposwGaauJl"
      }
    },
    {
      "cell_type": "code",
      "source": [
        "# Loading the dataset:\n",
        "\n",
        "(X, y),_= fashion_mnist.load_data()\n",
        "(train_images, train_labels) = (X,y)\n",
        "# Defining Class Labels:\n",
        "\n",
        "class_labels = [\n",
        "    \"T-shirt/top\", \"Trouser\", \"Pullover\", \"Dress\",\n",
        "    \"Coat\", \"Sandal\", \"Shirt\", \"Sneaker\",\n",
        "    \"Bag\", \"Ankle boot\"\n",
        "]\n",
        "\n",
        "# Plotting a sample image for each class:\n",
        "\n",
        "plt.figure(figsize=(12,12))\n",
        "for i in range(len(class_labels)):\n",
        "  # Get the image data matching the current class i\n",
        "  ind = np.where(train_labels == i)[0][0]\n",
        "  image  = train_images[ind]\n",
        "  # plot\n",
        "  # plt.title(\"examples\")\n",
        "  plt.subplot(1, len(class_labels), i+1)\n",
        "  plt.imshow(image,cmap = 'gray')\n",
        "  plt.title(class_labels[i])\n",
        "plt.show()"
      ],
      "metadata": {
        "colab": {
          "base_uri": "https://localhost:8080/",
          "height": 161
        },
        "id": "yyW9_MKIaMxj",
        "outputId": "9c40787d-5e95-4302-9fd5-65698e0d7877"
      },
      "execution_count": 45,
      "outputs": [
        {
          "output_type": "display_data",
          "data": {
            "text/plain": [
              "<Figure size 1200x1200 with 10 Axes>"
            ],
            "image/png": "[encoded data removed]"
          },
          "metadata": {}
        }
      ]
    },
    {
      "cell_type": "markdown",
      "source": [
        "Preprocessing dataset"
      ],
      "metadata": {
        "id": "egMHEnG2en8T"
      }
    },
    {
      "cell_type": "code",
      "source": [
        "import numpy as np\n",
        "from keras.datasets import fashion_mnist\n",
        "from sklearn.model_selection import train_test_split\n",
        "\n",
        "def preprocess_fashion_mnist():\n",
        "    # Load the Fashion-MNIST dataset\n",
        "    (X_train, y_train), (X_test, y_test) = fashion_mnist.load_data()\n",
        "\n",
        "    # Flatten and normalize the input data\n",
        "    X_train = X_train.reshape(-1, 28*28)  # Flatten each image to a 1D vector\n",
        "    X_test = X_test.reshape(-1, 28*28)\n",
        "    X_train = X_train.astype('float32') / 255.0  # Normalize pixel values to [0, 1]\n",
        "    X_test = X_test.astype('float32') / 255.0\n",
        "\n",
        "    # One-hot encode the labels\n",
        "    num_classes = 10\n",
        "    y_train = np.eye(num_classes)[y_train]  # One-hot encode the training labels\n",
        "    y_test = np.eye(num_classes)[y_test]    # One-hot encode the test labels\n",
        "\n",
        "    # Split the data into training, validation, and test sets\n",
        "    X_train, X_val, y_train, y_val = train_test_split(X_train, y_train, test_size=6000, random_state=42)\n",
        "\n",
        "    # Transpose the data to match the (features, batch_size) format expected by the function\n",
        "    X_train = X_train.T\n",
        "    X_val = X_val.T\n",
        "    X_test = X_test.T\n",
        "    # print(type(X_train))\n",
        "    # Print the number of images in X and y for training, validation, and testing datasets\n",
        "    print(\"Number of images in the training set =\", X_train.shape[1])\n",
        "    print(\"Number of images in the validation set =\", X_val.shape[1])\n",
        "    print(\"Number of images in the test set =\", X_test.shape[1])\n",
        "    print(\"Number of classes =\", num_classes)\n",
        "    print(\"Number of features per example =\", X_train.shape[0])\n",
        "\n",
        "    return X_train, y_train, X_val, y_val, X_test, y_test\n",
        "\n",
        "# Preprocess the Fashion-MNIST dataset\n",
        "X_train, y_train, X_val, y_val, X_test, y_test = preprocess_fashion_mnist()\n"
      ],
      "metadata": {
        "colab": {
          "base_uri": "https://localhost:8080/"
        },
        "id": "8YrwAAhhenIM",
        "outputId": "b71b90af-6b71-41d8-c788-d3dc5e75f94b"
      },
      "execution_count": 46,
      "outputs": [
        {
          "output_type": "stream",
          "name": "stdout",
          "text": [
            "Number of images in the training set = 54000\n",
            "Number of images in the validation set = 6000\n",
            "Number of images in the test set = 10000\n",
            "Number of classes = 10\n",
            "Number of features per example = 784\n"
          ]
        }
      ]
    },
    {
      "cell_type": "markdown",
      "source": [
        "IMPLEMENTATION OF FEEDFORWARD NEURAL NETWORK:<br>\n",
        "It takes the images from the fashion-mnist data as input and outputs a probability distribution over the 10 classes."
      ],
      "metadata": {
        "id": "A092TyAthLMY"
      }
    },
    {
      "cell_type": "markdown",
      "source": [
        "ACTIVATION FUNCTION AND DERIVATIVES"
      ],
      "metadata": {
        "id": "xuk6S7P75d9N"
      }
    },
    {
      "cell_type": "code",
      "source": [
        "def sigmoid(x):\n",
        "    return 1. / (1.+np.exp(-x))\n",
        "\n",
        "def sigmoid_derivative(x):\n",
        "    return sigmoid(x) * (1-sigmoid(x))\n",
        "\n",
        "def relu(x):\n",
        "    return np.maximum(0,x)\n",
        "\n",
        "def relu_derivative(x):\n",
        "    return 1*(x>0)\n",
        "\n",
        "def tanh(x):\n",
        "    return np.tanh(x)\n",
        "\n",
        "def tanh_derivative(x):\n",
        "    return (1 - (np.tanh(x)**2))\n",
        "\n",
        "def softmax(x):\n",
        "    return np.exp(x) / np.sum(np.exp(x), axis=0)\n",
        "\n",
        "def softmax_derivative(x):\n",
        "    return softmax(x) * (1-softmax(x))"
      ],
      "metadata": {
        "id": "nuDlc044inYt"
      },
      "execution_count": 47,
      "outputs": []
    },
    {
      "cell_type": "markdown",
      "source": [
        "Initializing parameters"
      ],
      "metadata": {
        "id": "kcrPR4DYYs8G"
      }
    },
    {
      "cell_type": "code",
      "source": [
        "import numpy as np\n",
        "\n",
        "# Initialize parameters\n",
        "def initialize_parameters(layer_sizes, mode='xavier'):\n",
        "  np.random.seed(42)\n",
        "  parameters = {}\n",
        "  for i in range(1, len(layer_sizes)):\n",
        "    if mode == \"xavier\" :\n",
        "      parameters[\"W\" + str(i)] = np.random.randn(layer_sizes[i], layer_sizes[i-1])*np.sqrt(2./(layer_sizes[i] + layer_sizes[i-1]))\n",
        "      parameters[\"b\" + str(i)] = np.zeros((layer_sizes[i],1))\n",
        "    elif mode == \"random\" :\n",
        "      parameters[\"W\" + str(i)] = 0.01*np.random.randn(layer_sizes[i], layer_sizes[i-1])\n",
        "      parameters[\"b\" + str(i)] = 0.01*np.random.randn(layer_sizes[i],1)\n",
        "\n",
        "  return parameters\n",
        "\n",
        "def update_init(sizes) :                                  # function to initialize update dictionary that changes the weights and biases\n",
        "  update = {}\n",
        "  for i in range(1,len(sizes)):\n",
        "   update[\"W\"+str(i)] = np.zeros((sizes[i],sizes[i-1]))\n",
        "   update[\"b\"+str(i)] = np.zeros((sizes[i],1))\n",
        "\n",
        "  return update\n",
        "\n",
        "def update_parameters(parameters, gradients, learning_rate):\n",
        "    L = len(parameters) // 2\n",
        "    for l in range(1, L + 1):\n",
        "        parameters[f\"W{l}\"] -= learning_rate * gradients[f\"dW{l}\"]\n",
        "        parameters[f\"b{l}\"] -= learning_rate * gradients[f\"db{l}\"]\n",
        "\n",
        "    return parameters\n",
        "\n",
        "def compute_loss(Y, y_hat, loss_type):\n",
        "    loss = -1\n",
        "    if loss_type == 'squared_error':\n",
        "        loss = np.mean(np.square(Y - y_hat)) / 2\n",
        "    elif loss_type == 'cross_entropy':\n",
        "        y_hat = y_hat.T  # Transpose y_hat to match the shape of Y\n",
        "\n",
        "        loss = -np.mean(np.multiply(Y,np.log(y_hat)))\n",
        "    return loss\n"
      ],
      "metadata": {
        "id": "5yoc7zDQYsaM"
      },
      "execution_count": 48,
      "outputs": []
    },
    {
      "cell_type": "markdown",
      "source": [
        "FEED FORWARD NEURAL NETWORK:"
      ],
      "metadata": {
        "id": "uTYy9bOn6Fjw"
      }
    },
    {
      "cell_type": "markdown",
      "source": [
        "Forward Propagation\n"
      ],
      "metadata": {
        "id": "_SR4dPmwnOl3"
      }
    },
    {
      "cell_type": "code",
      "source": [
        "def forward_propagation(X, params, layer_sizes, mode):\n",
        "    A = {}\n",
        "    H = {}\n",
        "    # Z = A, A = H\n",
        "    L = len(layer_sizes)\n",
        "    H[0] = X  # Initialize input data as A[0]\n",
        "    for k in range(1, L):\n",
        "        W = params[\"W\" + str(k)]\n",
        "        b = params[\"b\" + str(k)]\n",
        "        A[k] = b + np.dot(W, H[k - 1])\n",
        "        if mode == 'sigmoid':\n",
        "            H[k] = sigmoid(A[k])\n",
        "        elif mode == 'tanh':\n",
        "            H[k] = tanh(A[k])\n",
        "        elif mode == 'relu':\n",
        "            H[k] = relu(A[k])\n",
        "    W = params[\"W\" + str(L-1)]\n",
        "    b = params[\"b\" + str(L-1)]\n",
        "    A[L-1] = b + np.dot(W, H[L - 2])\n",
        "    y_hat = softmax(A[L-1])\n",
        "    return y_hat, H, A\n"
      ],
      "metadata": {
        "id": "P1UXeHlucZrh"
      },
      "execution_count": 49,
      "outputs": []
    },
    {
      "cell_type": "markdown",
      "source": [
        "Backward Propagation"
      ],
      "metadata": {
        "id": "E4BjcA1TnRiM"
      }
    },
    {
      "cell_type": "code",
      "source": [
        "def derivative(x, mode):\n",
        "  if mode == 'sigmoid':\n",
        "    return sigmoid_derivative(x)\n",
        "  elif mode == 'tanh':\n",
        "    return tanh_derivative(x)\n",
        "  elif mode == 'relu':\n",
        "    return relu_derivative(x)\n",
        "  return None\n",
        "def backward_propagation(X, Y, H, A, y_hat, params,layer_sizes, mode, loss_type):\n",
        "    L = len(layer_sizes)\n",
        "    gradients = {}\n",
        "    y_hat = y_hat.T  # Transpose y_hat to match the shape of Y\n",
        "\n",
        "    if loss_type == \"squared_error\":\n",
        "        gradients[f\"dH{L - 1}\"] = (y_hat - Y)\n",
        "        gradients[f\"dA{L - 1}\"] = (y_hat - Y) * y_hat - y_hat * (np.dot(np.transpose((y_hat - Y)), y_hat))\n",
        "        # gradients[\"dZ\"+str(L)] = (A[L]-y) * softmax_derivative(Z[L])\n",
        "\n",
        "    elif loss_type == \"cross_entropy\":\n",
        "      # Dark green top part == grad(dH[L-1]) = (-1/y_hat) * (e(l))\n",
        "      # e(l) -- One hot encoder -- equal to 1 only for the l'th entry, all others are zero. Here one hot encode = Y\n",
        "        gradients[f\"dH{L - 1}\"] = -(Y / y_hat)\n",
        "      # Light green part of output function grad(dA[L-1]) = -(e(l) - y_hat). here e(l) = Y\n",
        "        gradients[f\"dA{L - 1}\"] = -(Y - y_hat)\n",
        "    # NOW WE HAVE FOR THE ENTIRE OUTPUT UNITS\n",
        "\n",
        "\n",
        "    for i in range(1, L):  # Updated the range to include the output layer\n",
        "        gradients[f\"dW{i}\"] = np.zeros((layer_sizes[i], layer_sizes[i - 1]))\n",
        "        gradients[f\"db{i}\"] = np.zeros((layer_sizes[i], 1))\n",
        "        gradients[f\"dA{i}\"] = np.zeros((layer_sizes[i], 1))\n",
        "        gradients[f\"dH{i}\"] = np.zeros((layer_sizes[i], 1))\n",
        "\n",
        "    for k in range(L-1, 0, -1):\n",
        "\n",
        "        # grad(W{k}) = matrix_multiplication(grad(A{k}) , H[k-1].Transpose)\n",
        "        print(gradients[f\"dA{k}\"])\n",
        "        print(np.transpose(H[k - 1]))\n",
        "        gradients[f\"dW{k}\"] = np.matmul(gradients[f\"dA{k}\"], np.transpose(H[k - 1]))\n",
        "        gradients[f\"db{k}\"] = gradients[f\"dA{k}\"]\n",
        "\n",
        "        if k > 1:\n",
        "          # For the hidden layers\n",
        "          # grad(dh{i})  = ((W{i+1})T) . (grad(A{i+1}))\n",
        "            gradients[f\"dH{k - 1}\"] = np.dot(np.transpose(params[f\"W{k}\"]), gradients[f\"dA{k}\"])\n",
        "\n",
        "          # grad(da{i}) = grad{h} (.) g'(a{ik})\n",
        "          # (.) -- element wise multiplpication , g' -- deivative\n",
        "            gradients[f\"dA{k - 1}\"] = np.multiply(gradients[f\"dH{k-1}\"], derivative(A[k - 1], mode))\n",
        "\n",
        "    return gradients\n"
      ],
      "metadata": {
        "id": "Nn-VGiSqkmZn"
      },
      "execution_count": 50,
      "outputs": []
    },
    {
      "cell_type": "code",
      "source": [
        "def train(X, Y, layer_sizes, mode='xavier', activation='relu', loss_type='cross_entropy', num_epochs=100, learning_rate=0.1):\n",
        "    parameters = initialize_parameters(layer_sizes, mode)\n",
        "    train_loss_history = []\n",
        "    for epoch in range(num_epochs):\n",
        "        # Forward propagation\n",
        "        y_hat, H, A = forward_propagation(X, parameters, layer_sizes, activation)\n",
        "\n",
        "        # Compute loss\n",
        "        loss = compute_loss(Y, y_hat, loss_type)\n",
        "        train_loss_history.append(loss)\n",
        "\n",
        "        # Backward propagation\n",
        "        gradients = backward_propagation(X, Y, H, A, y_hat, parameters,layer_sizes, activation, loss_type)\n",
        "\n",
        "        # Update parameters\n",
        "        parameters = update_parameters(parameters, gradients, learning_rate)\n",
        "\n",
        "        if (epoch + 1) % 100 == 0:\n",
        "            print(f\"Epoch {epoch + 1}/{num_epochs}, Loss: {loss}\")\n",
        "\n",
        "    return parameters, train_loss_history\n"
      ],
      "metadata": {
        "id": "9JhWgglgw_FT"
      },
      "execution_count": 51,
      "outputs": []
    },
    {
      "cell_type": "code",
      "source": [
        "def predict(X, parameters,layer_sizes , activation):\n",
        "  y_hat, _  ,__ = forward_propagation(X,parameters,layer_sizes, activation)\n",
        "  return y_hat"
      ],
      "metadata": {
        "id": "B1dj3XuFysXE"
      },
      "execution_count": 52,
      "outputs": []
    },
    {
      "cell_type": "code",
      "source": [
        "\n",
        "# # Define the neural network architecture\n",
        "\n",
        "# # Input layer (784 features), 2 hidden layers (128 and 64 neurons), Output layer (10 classes)\n",
        "# layer_sizes = [784, 128,32,64,10]\n",
        "# parameters, train_loss_history = train(X_train, y_train, layer_sizes, mode='xavier', activation='relu', loss_type='cross_entropy', num_epochs=5, learning_rate=0.1)\n",
        "\n",
        "# # Make predictions on the test set\n",
        "# y_pred = predict(X_test, parameters, layer_sizes,activation='relu')\n",
        "\n",
        "# # Calculate accuracy on the test set\n",
        "# accuracy = np.mean(np.argmax(y_pred, axis=0) == np.argmax(y_test, axis=1))\n",
        "# print(\"Test Accuracy:\", accuracy)\n",
        "\n"
      ],
      "metadata": {
        "id": "upBhibVhzCTL"
      },
      "execution_count": 53,
      "outputs": []
    },
    {
      "cell_type": "code",
      "source": [
        "def val_loss(y,y_hat,loss_type):                                # function to compute the loss/error (both squared error and cross entropy)\n",
        "  l = 0\n",
        "  if (loss_type == \"squared_error\"):\n",
        "    l = np.sum((y-y_hat)**2)/(2*len(y))\n",
        "  elif (loss_type == \"cross_entropy\") :\n",
        "    l = -1*np.sum(np.multiply(y,np.log(y_hat)))/len(y)\n",
        "  return l\n",
        "\n",
        "def calcAccLoss(parameters,xArr,yArr,sizes,loss_type,activation,type=\"val\",regu=None):          #function to calculate accuracy and total loss of a model\n",
        "  acc=0.0\n",
        "  lossVal=0.0\n",
        "  for x,y in zip(xArr,yArr):\n",
        "    y_hat= feed_forward(x,parameters,sizes,activation)[0]\n",
        "    if y_hat.argmax()==y.argmax():\n",
        "      acc+=1\n",
        "    if type==\"val\":\n",
        "      lossVal+=val_loss(y,y_hat,loss_type)\n",
        "    elif type==\"trng\":\n",
        "      lossVal+=loss_compute(y,y_hat,parameters,loss_type,regu,sizes)\n",
        "  acc=acc/len(xArr)\n",
        "  return (acc,lossVal)"
      ],
      "metadata": {
        "id": "WEL2DEuBAQmx"
      },
      "execution_count": 54,
      "outputs": []
    },
    {
      "cell_type": "markdown",
      "source": [
        "Optimized GD's"
      ],
      "metadata": {
        "id": "POvRJevPMy6s"
      }
    },
    {
      "cell_type": "code",
      "source": [
        "# Momentum GD\n",
        "\n",
        "def update_init(sizes) :                                  # function to initialize update dictionary that changes the weights and biases\n",
        "  update = {}\n",
        "  for i in range(1,len(sizes)):\n",
        "   update[\"W\"+str(i)] = np.zeros((sizes[i],sizes[i-1]))\n",
        "   update[\"b\"+str(i)] = np.zeros((sizes[i],1))\n",
        "\n",
        "  return update\n",
        "def grad_init(sizes):\n",
        "\n",
        "  grads={}\n",
        "  layers=len(sizes)\n",
        "  for i in range(1,layers):\n",
        "    grads[\"dW\" + str(i)] = np.zeros((sizes[i], sizes[i-1]))\n",
        "    grads[\"db\" + str(i)] = np.zeros((sizes[i],1))\n",
        "\n",
        "  return grads\n",
        "\n",
        "def momentum_GD(X, Y, layer_sizes, mode='xavier', activation='relu', loss_type='cross_entropy', num_epochs=100, learning_rate=0.1, mini_batch = 1):\n",
        "    steps = 0\n",
        "    parameters = initialize_parameters(layer_sizes, mode)\n",
        "    train_loss_history = []\n",
        "    update = update_init(layer_sizes)\n",
        "    for epoch in range(num_epochs):\n",
        "      for j in range(0 , X.shape(0), mini_batch):\n",
        "        X_mini = X[j:j+mini_batch]\n",
        "        Y_mini = Y[j:j++mini_batch]\n",
        "        grads = grad_init(layer_sizes)\n",
        "\n",
        "        for x,y in zip(X_mini, Y_mini):\n",
        "          # Forward propagation\n",
        "          y_hat, H, A = forward_propagation(x, parameters, layer_sizes, activation)\n",
        "          # Backward propagation\n",
        "          gradients = backward_propagation(X, Y, H, A, y_hat, parameters,layer_sizes, activation, loss_type)\n",
        "\n",
        "        for i in range(len(layer_sizes)):\n",
        "          update[\"W\"+str(i)] = gamma*update[\"W\"+str(i)] + lr*grads[\"dW\"+str(i)]\n",
        "          update[\"b\"+str(i)] = gamma*update[\"b\"+str(i)] + lr*grads[\"db\"+str(i)]\n",
        "          parameters[\"W\"+str(i)] = (1-lr*reg)*parameters[\"W\"+str(i)] - update[\"W\"+str(i)]\n",
        "          parameters[\"b\"+str(i)] = (1-lr*reg)*parameters[\"b\"+str(i)] - update[\"b\"+str(i)]\n",
        "\n",
        "        # Update parameters\n",
        "        parameters = update_parameters(parameters, gradients, learning_rate)\n",
        "\n",
        "        steps=steps+1\n",
        "        if steps==10000:                                                                         #log every 10000 updates\n",
        "          acc,lossTot=calcAccLoss(parameters,X_train,Y_train,sizes,loss_type,activation,type=\"trng\",regu=reg)          #calculating accuracy and loss\n",
        "          accVal,lossTotVal=calcAccLoss(parameters,X_val,Y_val,sizes,loss_type,activation)\n",
        "\n",
        "          wandb.log({\"Accuracy\":acc,\"Loss\":lossTot,\"Accuracy_val\":accVal,\"Loss_val\":lossTotVal,\"Epoch\":n,\"n_datatrain\":j + minibatch_size+n*54000}) #logging\n",
        "          steps=0\n",
        "\n",
        "    return parameters"
      ],
      "metadata": {
        "id": "zFb_tlSFMyn1"
      },
      "execution_count": 57,
      "outputs": []
    },
    {
      "cell_type": "markdown",
      "source": [
        "Execution -- Main Function\n",
        "  "
      ],
      "metadata": {
        "id": "bSjNPV6-sJ3A"
      }
    },
    {
      "cell_type": "code",
      "source": [
        "#function to select optimizer\n",
        "def do_GD(X_train,Y_train,optimizer,activation,hl_size,input_size,output_size,n_epoch,lr,reg,w_init,loss_type,minibatch_size=1,logging=False):\n",
        "  sizes = hl_size.copy()\n",
        "  sizes.insert(0,input_size)\n",
        "  sizes.append(output_size)\n",
        "\n",
        "  if optimizer==\"sgd\":\n",
        "    return(stochastic_GD(X_train,Y_train,activation,n_epoch,sizes,lr,reg,w_init,loss_type,minibatch_size=1,log=logging))\n",
        "  elif optimizer==\"momentum\":\n",
        "    return(momentum_GD(X_train,Y_train,activation,n_epoch,sizes,lr,reg,w_init,loss_type,minibatch_size=1,log=logging))\n",
        "  elif optimizer==\"nesterov\":\n",
        "    return(nesterov_accelerated_GD(X_train,Y_train,activation,n_epoch,sizes,lr,reg,w_init,loss_type,minibatch_size=1,log=logging))\n",
        "  elif optimizer==\"rmsprop\":\n",
        "    return(rmsprop_GD(X_train,Y_train,activation,n_epoch,sizes,lr,reg,w_init,loss_type,minibatch_size=1,log=logging))\n",
        "  elif optimizer==\"adam\":\n",
        "    return(adam_GD(X_train,Y_train,activation,n_epoch,sizes,lr,reg,w_init,loss_type,minibatch_size=1,log=logging))\n",
        "  elif optimizer==\"nadam\":\n",
        "    return(nadam_GD(X_train,Y_train,activation,n_epoch,sizes,lr,reg,w_init,loss_type,minibatch_size=1,log=logging))\n",
        ""
      ],
      "metadata": {
        "id": "Aa9B-D3FBNRs"
      },
      "execution_count": 58,
      "outputs": []
    },
    {
      "cell_type": "code",
      "source": [
        "#training function to sweep with wandb\n",
        "def train():\n",
        "\n",
        "  hyperparameter_defaults=dict(\n",
        "      input_size = 784,\n",
        "      output_size = 10,\n",
        "      n_epoch = 5,\n",
        "      n_hiddenlayer = 3,\n",
        "      hl= [64,64,64],\n",
        "      reg = 0.0005,\n",
        "      lr = 1e-3,\n",
        "      optimizer = \"momentum\",\n",
        "      batch_size = 64,\n",
        "      initialization = \"xavier\",\n",
        "      loss_type = \"cross_entropy\"\n",
        "\n",
        "  )\n",
        "\n",
        "  wandb.init(config=hyperparameter_defaults)\n",
        "\n",
        "  config=wandb.config\n",
        "  output_size=10\n",
        "  input_size = 784\n",
        "  config.hl=[config.hl_size for i in range(config.n_hiddenlayer)]   #hidden layer sizes array creation\n",
        "  parameters=do_GD(X, y,config.optimizer,config.activation,config.hl,config.input_size,config.output_size,config.n_epoch,config.lr,config.reg,config.initialization,config.loss_type,config.batch_size,logging=True)\n"
      ],
      "metadata": {
        "id": "WRYhUCwYCn95"
      },
      "execution_count": 65,
      "outputs": []
    },
    {
      "cell_type": "code",
      "source": [
        "def sweeper(sweep_config,proj_name):\n",
        "  sweep_id=wandb.sweep(sweep_config,project=proj_name)\n",
        "  wandb.agent(sweep_id,train,project=proj_name)"
      ],
      "metadata": {
        "id": "4v1g-XAWCx-O"
      },
      "execution_count": 60,
      "outputs": []
    },
    {
      "cell_type": "code",
      "source": [
        "#sweep dictionary\n",
        "sweep_config={\n",
        "    'method':'bayes',\n",
        "    'metric':{\n",
        "        'name':'accuracy',\n",
        "        'goal':'maximize'},\n",
        "\n",
        "}\n",
        "\n",
        "parameters_dict={\n",
        "    'optimizer':{\n",
        "        'values':['nadam','sgd', 'momentum', 'nesterov', 'rmsprop', 'adam']\n",
        "    },\n",
        "    'lr':{\n",
        "        'values':[1e-3,1e-5]\n",
        "    },\n",
        "    'reg':{\n",
        "        'values':[5e-4,0,5e-1]\n",
        "    },\n",
        "    'n_hiddenlayer':{\n",
        "        'values':[3,4,5]\n",
        "    },\n",
        "    'hl_size':{\n",
        "      'values':[128,32,64]\n",
        "    },\n",
        "    'batch_size':{\n",
        "        'values':[64,32,128]\n",
        "    },\n",
        "    'loss_type':{\n",
        "        'values':['cross_entropy','squared_error']\n",
        "    },\n",
        "    'initialization':{\n",
        "        'values':['xavier','random']\n",
        "    },\n",
        "    'activation':{\n",
        "        'values':['relu','sigmoid','tanh']\n",
        "    },\n",
        "    'n_epoch':{\n",
        "        'values':[5]\n",
        "    }\n",
        "}\n",
        "\n",
        "sweep_config['parameters']=parameters_dict"
      ],
      "metadata": {
        "id": "nl5kzqOnCyhZ"
      },
      "execution_count": 61,
      "outputs": []
    },
    {
      "cell_type": "code",
      "source": [
        "proj_name = \"Image_classification\"\n",
        "sweep_id=wandb.sweep(sweep_config,project=proj_name)"
      ],
      "metadata": {
        "colab": {
          "base_uri": "https://localhost:8080/",
          "height": 143
        },
        "id": "N7VyUMWjC1NM",
        "outputId": "5b7cfffb-c404-4c34-bc7d-8a2572b94926"
      },
      "execution_count": 63,
      "outputs": [
        {
          "output_type": "display_data",
          "data": {
            "text/plain": [
              "<IPython.core.display.Javascript object>"
            ],
            "application/javascript": [
              "\n",
              "        window._wandbApiKey = new Promise((resolve, reject) => {\n",
              "            function loadScript(url) {\n",
              "            return new Promise(function(resolve, reject) {\n",
              "                let newScript = document.createElement(\"script\");\n",
              "                newScript.onerror = reject;\n",
              "                newScript.onload = resolve;\n",
              "                document.body.appendChild(newScript);\n",
              "                newScript.src = url;\n",
              "            });\n",
              "            }\n",
              "            loadScript(\"https://cdn.jsdelivr.net/npm/postmate/build/postmate.min.js\").then(() => {\n",
              "            const iframe = document.createElement('iframe')\n",
              "            iframe.style.cssText = \"width:0;height:0;border:none\"\n",
              "            document.body.appendChild(iframe)\n",
              "            const handshake = new Postmate({\n",
              "                container: iframe,\n",
              "                url: 'https://wandb.ai/authorize'\n",
              "            });\n",
              "            const timeout = setTimeout(() => reject(\"Couldn't auto authenticate\"), 5000)\n",
              "            handshake.then(function(child) {\n",
              "                child.on('authorize', data => {\n",
              "                    clearTimeout(timeout)\n",
              "                    resolve(data)\n",
              "                });\n",
              "            });\n",
              "            })\n",
              "        });\n",
              "    "
            ]
          },
          "metadata": {}
        },
        {
          "output_type": "stream",
          "name": "stderr",
          "text": [
            "\u001b[34m\u001b[1mwandb\u001b[0m: Logging into wandb.ai. (Learn how to deploy a W&B server locally: https://wandb.me/wandb-server)\n",
            "\u001b[34m\u001b[1mwandb\u001b[0m: You can find your API key in your browser here: https://wandb.ai/authorize\n",
            "wandb: Paste an API key from your profile and hit enter, or press ctrl+c to quit:"
          ]
        },
        {
          "name": "stdout",
          "output_type": "stream",
          "text": [
            " ··········\n"
          ]
        },
        {
          "output_type": "stream",
          "name": "stderr",
          "text": [
            "\u001b[34m\u001b[1mwandb\u001b[0m: Appending key for api.wandb.ai to your netrc file: /root/.netrc\n"
          ]
        },
        {
          "output_type": "stream",
          "name": "stdout",
          "text": [
            "Create sweep with ID: 4avpa0rh\n",
            "Sweep URL: https://wandb.ai/adhithyarg26/Image_classification/sweeps/4avpa0rh\n"
          ]
        }
      ]
    },
    {
      "cell_type": "code",
      "source": [
        "sweeper(sweep_config,proj_name)"
      ],
      "metadata": {
        "colab": {
          "base_uri": "https://localhost:8080/",
          "height": 1000
        },
        "id": "LZrtrkoVC19-",
        "outputId": "41d4c609-63ae-4991-e832-81e323c8d11b"
      },
      "execution_count": 64,
      "outputs": [
        {
          "output_type": "stream",
          "name": "stdout",
          "text": [
            "Create sweep with ID: np4tcj0w\n",
            "Sweep URL: https://wandb.ai/adhithyarg26/Image_classification/sweeps/np4tcj0w\n"
          ]
        },
        {
          "output_type": "stream",
          "name": "stderr",
          "text": [
            "\u001b[34m\u001b[1mwandb\u001b[0m: Agent Starting Run: jifnikml with config:\n",
            "\u001b[34m\u001b[1mwandb\u001b[0m: \tactivation: sigmoid\n",
            "\u001b[34m\u001b[1mwandb\u001b[0m: \tbatch_size: 128\n",
            "\u001b[34m\u001b[1mwandb\u001b[0m: \thl_size: 32\n",
            "\u001b[34m\u001b[1mwandb\u001b[0m: \tinitialization: random\n",
            "\u001b[34m\u001b[1mwandb\u001b[0m: \tloss_type: cross_entropy\n",
            "\u001b[34m\u001b[1mwandb\u001b[0m: \tlr: 0.001\n",
            "\u001b[34m\u001b[1mwandb\u001b[0m: \tn_epoch: 5\n",
            "\u001b[34m\u001b[1mwandb\u001b[0m: \tn_hiddenlayer: 5\n",
            "\u001b[34m\u001b[1mwandb\u001b[0m: \toptimizer: rmsprop\n",
            "\u001b[34m\u001b[1mwandb\u001b[0m: \treg: 0.5\n",
            "\u001b[34m\u001b[1mwandb\u001b[0m: Currently logged in as: \u001b[33madhithyarg26\u001b[0m. Use \u001b[1m`wandb login --relogin`\u001b[0m to force relogin\n"
          ]
        },
        {
          "output_type": "display_data",
          "data": {
            "text/plain": [
              "<IPython.core.display.HTML object>"
            ],
            "text/html": [
              "Tracking run with wandb version 0.15.8"
            ]
          },
          "metadata": {}
        },
        {
          "output_type": "display_data",
          "data": {
            "text/plain": [
              "<IPython.core.display.HTML object>"
            ],
            "text/html": [
              "Run data is saved locally in <code>/content/wandb/run-20230804_053916-jifnikml</code>"
            ]
          },
          "metadata": {}
        },
        {
          "output_type": "display_data",
          "data": {
            "text/plain": [
              "<IPython.core.display.HTML object>"
            ],
            "text/html": [
              "Syncing run <strong><a href='https://wandb.ai/adhithyarg26/Image_classification/runs/jifnikml' target=\"_blank\">devoted-sweep-1</a></strong> to <a href='https://wandb.ai/adhithyarg26/Image_classification' target=\"_blank\">Weights & Biases</a> (<a href='https://wandb.me/run' target=\"_blank\">docs</a>)<br/>Sweep page: <a href='https://wandb.ai/adhithyarg26/Image_classification/sweeps/np4tcj0w' target=\"_blank\">https://wandb.ai/adhithyarg26/Image_classification/sweeps/np4tcj0w</a>"
            ]
          },
          "metadata": {}
        },
        {
          "output_type": "display_data",
          "data": {
            "text/plain": [
              "<IPython.core.display.HTML object>"
            ],
            "text/html": [
              " View project at <a href='https://wandb.ai/adhithyarg26/Image_classification' target=\"_blank\">https://wandb.ai/adhithyarg26/Image_classification</a>"
            ]
          },
          "metadata": {}
        },
        {
          "output_type": "display_data",
          "data": {
            "text/plain": [
              "<IPython.core.display.HTML object>"
            ],
            "text/html": [
              " View sweep at <a href='https://wandb.ai/adhithyarg26/Image_classification/sweeps/np4tcj0w' target=\"_blank\">https://wandb.ai/adhithyarg26/Image_classification/sweeps/np4tcj0w</a>"
            ]
          },
          "metadata": {}
        },
        {
          "output_type": "display_data",
          "data": {
            "text/plain": [
              "<IPython.core.display.HTML object>"
            ],
            "text/html": [
              " View run at <a href='https://wandb.ai/adhithyarg26/Image_classification/runs/jifnikml' target=\"_blank\">https://wandb.ai/adhithyarg26/Image_classification/runs/jifnikml</a>"
            ]
          },
          "metadata": {}
        },
        {
          "output_type": "display_data",
          "data": {
            "text/plain": [
              "<IPython.core.display.HTML object>"
            ],
            "text/html": [
              "Waiting for W&B process to finish... <strong style=\"color:red\">(failed 1).</strong> Press Control-C to abort syncing."
            ]
          },
          "metadata": {}
        },
        {
          "output_type": "display_data",
          "data": {
            "text/plain": [
              "<IPython.core.display.HTML object>"
            ],
            "text/html": [
              " View run <strong style=\"color:#cdcd00\">devoted-sweep-1</strong> at: <a href='https://wandb.ai/adhithyarg26/Image_classification/runs/jifnikml' target=\"_blank\">https://wandb.ai/adhithyarg26/Image_classification/runs/jifnikml</a><br/>Synced 4 W&B file(s), 0 media file(s), 0 artifact file(s) and 0 other file(s)"
            ]
          },
          "metadata": {}
        },
        {
          "output_type": "display_data",
          "data": {
            "text/plain": [
              "<IPython.core.display.HTML object>"
            ],
            "text/html": [
              "Find logs at: <code>./wandb/run-20230804_053916-jifnikml/logs</code>"
            ]
          },
          "metadata": {}
        },
        {
          "output_type": "stream",
          "name": "stderr",
          "text": [
            "Run jifnikml errored: NameError(\"name 'Y_train' is not defined\")\n",
            "\u001b[34m\u001b[1mwandb\u001b[0m: \u001b[32m\u001b[41mERROR\u001b[0m Run jifnikml errored: NameError(\"name 'Y_train' is not defined\")\n",
            "\u001b[34m\u001b[1mwandb\u001b[0m: Agent Starting Run: drjm8xau with config:\n",
            "\u001b[34m\u001b[1mwandb\u001b[0m: \tactivation: relu\n",
            "\u001b[34m\u001b[1mwandb\u001b[0m: \tbatch_size: 64\n",
            "\u001b[34m\u001b[1mwandb\u001b[0m: \thl_size: 128\n",
            "\u001b[34m\u001b[1mwandb\u001b[0m: \tinitialization: xavier\n",
            "\u001b[34m\u001b[1mwandb\u001b[0m: \tloss_type: squared_error\n",
            "\u001b[34m\u001b[1mwandb\u001b[0m: \tlr: 1e-05\n",
            "\u001b[34m\u001b[1mwandb\u001b[0m: \tn_epoch: 5\n",
            "\u001b[34m\u001b[1mwandb\u001b[0m: \tn_hiddenlayer: 5\n",
            "\u001b[34m\u001b[1mwandb\u001b[0m: \toptimizer: nadam\n",
            "\u001b[34m\u001b[1mwandb\u001b[0m: \treg: 0.0005\n"
          ]
        },
        {
          "output_type": "display_data",
          "data": {
            "text/plain": [
              "<IPython.core.display.HTML object>"
            ],
            "text/html": [
              "Tracking run with wandb version 0.15.8"
            ]
          },
          "metadata": {}
        },
        {
          "output_type": "display_data",
          "data": {
            "text/plain": [
              "<IPython.core.display.HTML object>"
            ],
            "text/html": [
              "Run data is saved locally in <code>/content/wandb/run-20230804_053926-drjm8xau</code>"
            ]
          },
          "metadata": {}
        },
        {
          "output_type": "display_data",
          "data": {
            "text/plain": [
              "<IPython.core.display.HTML object>"
            ],
            "text/html": [
              "Syncing run <strong><a href='https://wandb.ai/adhithyarg26/Image_classification/runs/drjm8xau' target=\"_blank\">cosmic-sweep-2</a></strong> to <a href='https://wandb.ai/adhithyarg26/Image_classification' target=\"_blank\">Weights & Biases</a> (<a href='https://wandb.me/run' target=\"_blank\">docs</a>)<br/>Sweep page: <a href='https://wandb.ai/adhithyarg26/Image_classification/sweeps/np4tcj0w' target=\"_blank\">https://wandb.ai/adhithyarg26/Image_classification/sweeps/np4tcj0w</a>"
            ]
          },
          "metadata": {}
        },
        {
          "output_type": "display_data",
          "data": {
            "text/plain": [
              "<IPython.core.display.HTML object>"
            ],
            "text/html": [
              " View project at <a href='https://wandb.ai/adhithyarg26/Image_classification' target=\"_blank\">https://wandb.ai/adhithyarg26/Image_classification</a>"
            ]
          },
          "metadata": {}
        },
        {
          "output_type": "display_data",
          "data": {
            "text/plain": [
              "<IPython.core.display.HTML object>"
            ],
            "text/html": [
              " View sweep at <a href='https://wandb.ai/adhithyarg26/Image_classification/sweeps/np4tcj0w' target=\"_blank\">https://wandb.ai/adhithyarg26/Image_classification/sweeps/np4tcj0w</a>"
            ]
          },
          "metadata": {}
        },
        {
          "output_type": "display_data",
          "data": {
            "text/plain": [
              "<IPython.core.display.HTML object>"
            ],
            "text/html": [
              " View run at <a href='https://wandb.ai/adhithyarg26/Image_classification/runs/drjm8xau' target=\"_blank\">https://wandb.ai/adhithyarg26/Image_classification/runs/drjm8xau</a>"
            ]
          },
          "metadata": {}
        },
        {
          "output_type": "display_data",
          "data": {
            "text/plain": [
              "<IPython.core.display.HTML object>"
            ],
            "text/html": [
              "Waiting for W&B process to finish... <strong style=\"color:red\">(failed 1).</strong> Press Control-C to abort syncing."
            ]
          },
          "metadata": {}
        },
        {
          "output_type": "display_data",
          "data": {
            "text/plain": [
              "<IPython.core.display.HTML object>"
            ],
            "text/html": [
              " View run <strong style=\"color:#cdcd00\">cosmic-sweep-2</strong> at: <a href='https://wandb.ai/adhithyarg26/Image_classification/runs/drjm8xau' target=\"_blank\">https://wandb.ai/adhithyarg26/Image_classification/runs/drjm8xau</a><br/>Synced 4 W&B file(s), 0 media file(s), 0 artifact file(s) and 0 other file(s)"
            ]
          },
          "metadata": {}
        },
        {
          "output_type": "display_data",
          "data": {
            "text/plain": [
              "<IPython.core.display.HTML object>"
            ],
            "text/html": [
              "Find logs at: <code>./wandb/run-20230804_053926-drjm8xau/logs</code>"
            ]
          },
          "metadata": {}
        },
        {
          "output_type": "stream",
          "name": "stderr",
          "text": [
            "Run drjm8xau errored: NameError(\"name 'Y_train' is not defined\")\n",
            "\u001b[34m\u001b[1mwandb\u001b[0m: \u001b[32m\u001b[41mERROR\u001b[0m Run drjm8xau errored: NameError(\"name 'Y_train' is not defined\")\n",
            "\u001b[34m\u001b[1mwandb\u001b[0m: Agent Starting Run: etucb0m7 with config:\n",
            "\u001b[34m\u001b[1mwandb\u001b[0m: \tactivation: sigmoid\n",
            "\u001b[34m\u001b[1mwandb\u001b[0m: \tbatch_size: 64\n",
            "\u001b[34m\u001b[1mwandb\u001b[0m: \thl_size: 64\n",
            "\u001b[34m\u001b[1mwandb\u001b[0m: \tinitialization: random\n",
            "\u001b[34m\u001b[1mwandb\u001b[0m: \tloss_type: squared_error\n",
            "\u001b[34m\u001b[1mwandb\u001b[0m: \tlr: 0.001\n",
            "\u001b[34m\u001b[1mwandb\u001b[0m: \tn_epoch: 5\n",
            "\u001b[34m\u001b[1mwandb\u001b[0m: \tn_hiddenlayer: 4\n",
            "\u001b[34m\u001b[1mwandb\u001b[0m: \toptimizer: momentum\n",
            "\u001b[34m\u001b[1mwandb\u001b[0m: \treg: 0.5\n"
          ]
        },
        {
          "output_type": "display_data",
          "data": {
            "text/plain": [
              "<IPython.core.display.HTML object>"
            ],
            "text/html": [
              "Tracking run with wandb version 0.15.8"
            ]
          },
          "metadata": {}
        },
        {
          "output_type": "display_data",
          "data": {
            "text/plain": [
              "<IPython.core.display.HTML object>"
            ],
            "text/html": [
              "Run data is saved locally in <code>/content/wandb/run-20230804_053937-etucb0m7</code>"
            ]
          },
          "metadata": {}
        },
        {
          "output_type": "display_data",
          "data": {
            "text/plain": [
              "<IPython.core.display.HTML object>"
            ],
            "text/html": [
              "Syncing run <strong><a href='https://wandb.ai/adhithyarg26/Image_classification/runs/etucb0m7' target=\"_blank\">smart-sweep-3</a></strong> to <a href='https://wandb.ai/adhithyarg26/Image_classification' target=\"_blank\">Weights & Biases</a> (<a href='https://wandb.me/run' target=\"_blank\">docs</a>)<br/>Sweep page: <a href='https://wandb.ai/adhithyarg26/Image_classification/sweeps/np4tcj0w' target=\"_blank\">https://wandb.ai/adhithyarg26/Image_classification/sweeps/np4tcj0w</a>"
            ]
          },
          "metadata": {}
        },
        {
          "output_type": "display_data",
          "data": {
            "text/plain": [
              "<IPython.core.display.HTML object>"
            ],
            "text/html": [
              " View project at <a href='https://wandb.ai/adhithyarg26/Image_classification' target=\"_blank\">https://wandb.ai/adhithyarg26/Image_classification</a>"
            ]
          },
          "metadata": {}
        },
        {
          "output_type": "display_data",
          "data": {
            "text/plain": [
              "<IPython.core.display.HTML object>"
            ],
            "text/html": [
              " View sweep at <a href='https://wandb.ai/adhithyarg26/Image_classification/sweeps/np4tcj0w' target=\"_blank\">https://wandb.ai/adhithyarg26/Image_classification/sweeps/np4tcj0w</a>"
            ]
          },
          "metadata": {}
        },
        {
          "output_type": "display_data",
          "data": {
            "text/plain": [
              "<IPython.core.display.HTML object>"
            ],
            "text/html": [
              " View run at <a href='https://wandb.ai/adhithyarg26/Image_classification/runs/etucb0m7' target=\"_blank\">https://wandb.ai/adhithyarg26/Image_classification/runs/etucb0m7</a>"
            ]
          },
          "metadata": {}
        },
        {
          "output_type": "display_data",
          "data": {
            "text/plain": [
              "<IPython.core.display.HTML object>"
            ],
            "text/html": [
              "Waiting for W&B process to finish... <strong style=\"color:red\">(failed 1).</strong> Press Control-C to abort syncing."
            ]
          },
          "metadata": {}
        },
        {
          "output_type": "display_data",
          "data": {
            "text/plain": [
              "<IPython.core.display.HTML object>"
            ],
            "text/html": [
              " View run <strong style=\"color:#cdcd00\">smart-sweep-3</strong> at: <a href='https://wandb.ai/adhithyarg26/Image_classification/runs/etucb0m7' target=\"_blank\">https://wandb.ai/adhithyarg26/Image_classification/runs/etucb0m7</a><br/>Synced 4 W&B file(s), 0 media file(s), 0 artifact file(s) and 0 other file(s)"
            ]
          },
          "metadata": {}
        },
        {
          "output_type": "display_data",
          "data": {
            "text/plain": [
              "<IPython.core.display.HTML object>"
            ],
            "text/html": [
              "Find logs at: <code>./wandb/run-20230804_053937-etucb0m7/logs</code>"
            ]
          },
          "metadata": {}
        },
        {
          "output_type": "stream",
          "name": "stderr",
          "text": [
            "Run etucb0m7 errored: NameError(\"name 'Y_train' is not defined\")\n",
            "\u001b[34m\u001b[1mwandb\u001b[0m: \u001b[32m\u001b[41mERROR\u001b[0m Run etucb0m7 errored: NameError(\"name 'Y_train' is not defined\")\n",
            "Detected 3 failed runs in the first 60 seconds, killing sweep.\n",
            "\u001b[34m\u001b[1mwandb\u001b[0m: \u001b[32m\u001b[41mERROR\u001b[0m Detected 3 failed runs in the first 60 seconds, killing sweep.\n",
            "\u001b[34m\u001b[1mwandb\u001b[0m: To disable this check set WANDB_AGENT_DISABLE_FLAPPING=true\n"
          ]
        }
      ]
    }
  ]
}